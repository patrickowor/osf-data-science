{
 "cells": [
  {
   "cell_type": "markdown",
   "id": "55dfec24-7436-4154-b661-f613dd759f74",
   "metadata": {},
   "source": [
    "### the assignment"
   ]
  },
  {
   "cell_type": "code",
   "execution_count": null,
   "id": "78cd25d3-b9aa-4c65-b69a-abd79efc8f69",
   "metadata": {},
   "outputs": [],
   "source": [
    "# take two values from the user"
   ]
  },
  {
   "cell_type": "code",
   "execution_count": 6,
   "id": "113ebb13-e5ce-43f9-a649-e109951a8dc4",
   "metadata": {},
   "outputs": [
    {
     "name": "stdin",
     "output_type": "stream",
     "text": [
      "enter your desired value:      3\n",
      "enter your second value:      3\n"
     ]
    },
    {
     "name": "stdout",
     "output_type": "stream",
     "text": [
      "your answer is:   6\n"
     ]
    }
   ],
   "source": [
    "value1 = input(\"enter your desired value: \")\n",
    "value2 = input(\"enter your second value: \")\n",
    "\n",
    "value1 = int(value1)\n",
    "value2 = int(value2)\n",
    "# print(f\"the value is {type(value1)} {type(value2)}\")\n",
    "print(\"your answer is: \", value1 + value2)"
   ]
  },
  {
   "cell_type": "markdown",
   "id": "0bdc22aa-4343-4e8e-80fb-ac03620dfe98",
   "metadata": {},
   "source": [
    "## conditional statemant"
   ]
  },
  {
   "cell_type": "code",
   "execution_count": 18,
   "id": "c3c5fa0d-74ee-478e-a1ab-6d670985fd3c",
   "metadata": {},
   "outputs": [
    {
     "name": "stdin",
     "output_type": "stream",
     "text": [
      "enter your age:  10\n"
     ]
    },
    {
     "name": "stdout",
     "output_type": "stream",
     "text": [
      "until next time\n"
     ]
    }
   ],
   "source": [
    "age = input(\"enter your age: \")\n",
    "if int(age) >= 21 :\n",
    "    print(\"welcome to our osf datascience club\")\n",
    "print(\"until next time\")"
   ]
  },
  {
   "cell_type": "code",
   "execution_count": 35,
   "id": "6e36214a-09ab-48ee-896d-708158419b87",
   "metadata": {},
   "outputs": [],
   "source": [
    "# when a student is late mark him absent if not mark him present\n",
    "\n",
    "students = {\"arrived\" : \"late\", \"age\": 10, \"class\": \"jss1\" }\n",
    "\n",
    "if students[\"arrived\"] == \"early\" :\n",
    "    print(\"welcome to class\")\n",
    "else:\n",
    "    print(\"you are late i will give you 10 strokes of the cane\")"
   ]
  },
  {
   "cell_type": "code",
   "execution_count": null,
   "id": "a651ecd1-9322-47ec-b238-676b8301ba30",
   "metadata": {},
   "outputs": [],
   "source": []
  },
  {
   "cell_type": "code",
   "execution_count": 37,
   "id": "793b76ca-4b8e-4cc2-8b19-a7c016d1cb6c",
   "metadata": {},
   "outputs": [],
   "source": [
    "adesegun = ..."
   ]
  },
  {
   "cell_type": "code",
   "execution_count": 38,
   "id": "69860a16-fe44-47a6-96f9-c624cc70f559",
   "metadata": {},
   "outputs": [
    {
     "data": {
      "text/plain": [
       "Ellipsis"
      ]
     },
     "execution_count": 38,
     "metadata": {},
     "output_type": "execute_result"
    }
   ],
   "source": [
    "adesegun"
   ]
  },
  {
   "cell_type": "code",
   "execution_count": 56,
   "id": "d43ba9b6-ec3c-4644-a969-a00c354e3d6f",
   "metadata": {},
   "outputs": [
    {
     "name": "stdin",
     "output_type": "stream",
     "text": [
      "enter yout ticket 1\n"
     ]
    }
   ],
   "source": [
    "# vvip, vip, regular, owo-epo\n",
    "\n",
    "\n",
    "user = input(\"enter yout ticket\")\n",
    "# assignment handle situations with white space\n",
    "if user == \"vvip\":\n",
    "    print(\"wow you paid 550k God abeg i want to be like you\")\n",
    "\n",
    "if user == \"vip\":\n",
    "    print(\"omo you get 10k for this sapa economy, okay o eyin big daddy\")\n",
    "\n",
    "if user == \"regular\":\n",
    "    print(\"omo you dey go show yet you dey beg garri from my hand\")\n",
    "\n"
   ]
  },
  {
   "cell_type": "code",
   "execution_count": 54,
   "id": "a1c690ae-c412-493a-b33f-d753d67e34ab",
   "metadata": {},
   "outputs": [
    {
     "name": "stdin",
     "output_type": "stream",
     "text": [
      "enter yout ticket amount 0\n"
     ]
    },
    {
     "name": "stdout",
     "output_type": "stream",
     "text": [
      "owo epo common get out\n"
     ]
    }
   ],
   "source": [
    "amount = input(\"enter yout ticket amount\")\n",
    "amount = int(amount)\n",
    "\n",
    "if amount >= 500:\n",
    "    print(\"wow you paid 500k God abeg i want to be like you\")\n",
    "\n",
    "elif amount >= 50:\n",
    "    print(\"omo you get 50k for this sapa economy, okay o eyin big daddy\")\n",
    "\n",
    "elif amount >= 1:\n",
    "    print(\"omo you dey go show yet you dey beg garri from my hand\")\n",
    "else: \n",
    "    print(\"owo epo common get out\")\n"
   ]
  },
  {
   "cell_type": "code",
   "execution_count": 64,
   "id": "e7a20885-a8d1-4b6e-a918-45905c71af26",
   "metadata": {},
   "outputs": [
    {
     "name": "stdout",
     "output_type": "stream",
     "text": [
      "paying user\n",
      "paying essential staff\n"
     ]
    }
   ],
   "source": [
    "user = { \"status\" :\"unpaid\", \"amount\": 500 }\n",
    "\n",
    "if user['status'] == \"unpaid\":\n",
    "    print(\"paying user\")\n",
    "\n",
    "    if user['amount'] < 100:\n",
    "        print(\"payed non essential staff\")\n",
    "    elif user['amount'] > 1000:\n",
    "        print(\"payed management staff\")\n",
    "    else:\n",
    "        print(\"paying essential staff\")\n",
    "else:\n",
    "    print(\"this user has been paid his salary\")"
   ]
  },
  {
   "cell_type": "code",
   "execution_count": 65,
   "id": "0e083dec-b2d4-489f-8806-1e5d2a16ac46",
   "metadata": {},
   "outputs": [
    {
     "ename": "SyntaxError",
     "evalue": "invalid syntax (431069779.py, line 1)",
     "output_type": "error",
     "traceback": [
      "\u001b[1;36m  Cell \u001b[1;32mIn[65], line 1\u001b[1;36m\u001b[0m\n\u001b[1;33m    else:\u001b[0m\n\u001b[1;37m    ^\u001b[0m\n\u001b[1;31mSyntaxError\u001b[0m\u001b[1;31m:\u001b[0m invalid syntax\n"
     ]
    }
   ],
   "source": [
    "elif: \n",
    "    print(\"hi\")"
   ]
  },
  {
   "cell_type": "code",
   "execution_count": null,
   "id": "8e4f883b-d752-4b90-8832-182ad4c2331d",
   "metadata": {},
   "outputs": [],
   "source": []
  }
 ],
 "metadata": {
  "kernelspec": {
   "display_name": "Python 3 (ipykernel)",
   "language": "python",
   "name": "python3"
  },
  "language_info": {
   "codemirror_mode": {
    "name": "ipython",
    "version": 3
   },
   "file_extension": ".py",
   "mimetype": "text/x-python",
   "name": "python",
   "nbconvert_exporter": "python",
   "pygments_lexer": "ipython3",
   "version": "3.12.9"
  }
 },
 "nbformat": 4,
 "nbformat_minor": 5
}
