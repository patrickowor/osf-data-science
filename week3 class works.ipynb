{
 "cells": [
  {
   "cell_type": "code",
   "execution_count": 35,
   "id": "1d683596-d46c-4c5d-9503-c89bd606b7a4",
   "metadata": {},
   "outputs": [
    {
     "name": "stdin",
     "output_type": "stream",
     "text": [
      "enter a number:  -16\n",
      "enter another number:  0.5\n",
      "enter an operator e.g (+, -, *, /) : +\n"
     ]
    },
    {
     "name": "stdout",
     "output_type": "stream",
     "text": [
      "the answer is:  -15.5\n"
     ]
    }
   ],
   "source": [
    "number1 = float(input(\"enter a number: \"))\n",
    "\n",
    "number2 = float(input(\"enter another number: \"))\n",
    "\n",
    "operator = input(\"enter an operator e.g (+, -, *, /) :\")\n",
    "operator = operator.strip()\n",
    "answer = None\n",
    "\n",
    "if operator == \"+\":\n",
    "    answer = number1 + number2\n",
    "elif operator == \"-\":\n",
    "    answer = number1 - number2\n",
    "elif operator == \"/\":\n",
    "    answer = number1 / number2\n",
    "elif operator == \"*\":\n",
    "    answer = number1 * number2\n",
    "\n",
    "\n",
    "if answer != None:\n",
    "     print(\"the answer is: \", answer)\n",
    "else:\n",
    "    print(\"enter a correct operator\")"
   ]
  },
  {
   "cell_type": "code",
   "execution_count": 9,
   "id": "fd690d4e-ec72-491b-8c52-3c8b411fa917",
   "metadata": {},
   "outputs": [
    {
     "name": "stdin",
     "output_type": "stream",
     "text": [
      "what is your type who knows\n"
     ]
    },
    {
     "data": {
      "text/plain": [
       "str"
      ]
     },
     "execution_count": 9,
     "metadata": {},
     "output_type": "execute_result"
    }
   ],
   "source": [
    "type(input(\"what is your type\"))"
   ]
  },
  {
   "cell_type": "code",
   "execution_count": 50,
   "id": "0f62828d-8c3e-4343-b80b-7103e7ba457d",
   "metadata": {},
   "outputs": [
    {
     "name": "stdout",
     "output_type": "stream",
     "text": [
      "{'age': <bound method Kernel.raw_input of <ipykernel.ipkernel.IPythonKernel object at 0x0000020B3355C5F0>>}\n"
     ]
    },
    {
     "name": "stdin",
     "output_type": "stream",
     "text": [
      "enter your name:  i am ade\n"
     ]
    },
    {
     "name": "stdout",
     "output_type": "stream",
     "text": [
      "{'age': 'i am ade'}\n"
     ]
    }
   ],
   "source": [
    "myDict = {\"age\": input }\n",
    "print(myDict)\n",
    "myDict[\"age\"] = myDict[\"age\"](\"enter your name: \")\n",
    "print(myDict)\n",
    "# if myDict[\"age\"] > 21:\n",
    "#     print(\"you are welcome\")\n",
    "# else: \n",
    "#     print(\"you are too young to be here\")"
   ]
  },
  {
   "cell_type": "code",
   "execution_count": 49,
   "id": "68d39081-a30d-4f40-9ece-d6f6224bdd25",
   "metadata": {},
   "outputs": [
    {
     "data": {
      "text/plain": [
       "{'age': <bound method Kernel.raw_input of <ipykernel.ipkernel.IPythonKernel object at 0x0000020B3355C5F0>>}"
      ]
     },
     "execution_count": 49,
     "metadata": {},
     "output_type": "execute_result"
    }
   ],
   "source": [
    "myDict"
   ]
  },
  {
   "cell_type": "code",
   "execution_count": 1,
   "id": "2088d9f9-d3fa-4f36-96ae-0d5b4522ab1b",
   "metadata": {},
   "outputs": [
    {
     "data": {
      "text/plain": [
       "\u001b[1;31mSignature:\u001b[0m \u001b[0mprint\u001b[0m\u001b[1;33m(\u001b[0m\u001b[1;33m*\u001b[0m\u001b[0margs\u001b[0m\u001b[1;33m,\u001b[0m \u001b[0msep\u001b[0m\u001b[1;33m=\u001b[0m\u001b[1;34m' '\u001b[0m\u001b[1;33m,\u001b[0m \u001b[0mend\u001b[0m\u001b[1;33m=\u001b[0m\u001b[1;34m'\\n'\u001b[0m\u001b[1;33m,\u001b[0m \u001b[0mfile\u001b[0m\u001b[1;33m=\u001b[0m\u001b[1;32mNone\u001b[0m\u001b[1;33m,\u001b[0m \u001b[0mflush\u001b[0m\u001b[1;33m=\u001b[0m\u001b[1;32mFalse\u001b[0m\u001b[1;33m)\u001b[0m\u001b[1;33m\u001b[0m\u001b[1;33m\u001b[0m\u001b[0m\n",
       "\u001b[1;31mDocstring:\u001b[0m\n",
       "Prints the values to a stream, or to sys.stdout by default.\n",
       "\n",
       "sep\n",
       "  string inserted between values, default a space.\n",
       "end\n",
       "  string appended after the last value, default a newline.\n",
       "file\n",
       "  a file-like object (stream); defaults to the current sys.stdout.\n",
       "flush\n",
       "  whether to forcibly flush the stream.\n",
       "\u001b[1;31mType:\u001b[0m      builtin_function_or_method"
      ]
     },
     "metadata": {},
     "output_type": "display_data"
    }
   ],
   "source": [
    "print?"
   ]
  },
  {
   "cell_type": "code",
   "execution_count": null,
   "id": "503ffbe4-5cd1-4a5e-bb87-889a3f545c4f",
   "metadata": {},
   "outputs": [],
   "source": []
  }
 ],
 "metadata": {
  "kernelspec": {
   "display_name": "Python 3 (ipykernel)",
   "language": "python",
   "name": "python3"
  },
  "language_info": {
   "codemirror_mode": {
    "name": "ipython",
    "version": 3
   },
   "file_extension": ".py",
   "mimetype": "text/x-python",
   "name": "python",
   "nbconvert_exporter": "python",
   "pygments_lexer": "ipython3",
   "version": "3.12.9"
  }
 },
 "nbformat": 4,
 "nbformat_minor": 5
}
