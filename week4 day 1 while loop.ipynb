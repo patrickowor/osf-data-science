{
 "cells": [
  {
   "cell_type": "code",
   "execution_count": null,
   "id": "d6e5c6f8-5ea6-4cd0-b290-1108184d42d3",
   "metadata": {},
   "outputs": [],
   "source": [
    "# while condition:\n",
    "#     what to do"
   ]
  },
  {
   "cell_type": "code",
   "execution_count": 1,
   "id": "e45e3ae5-3956-47ca-b14b-482e714e1fe0",
   "metadata": {},
   "outputs": [
    {
     "name": "stdout",
     "output_type": "stream",
     "text": [
      "0\n",
      "1\n",
      "2\n",
      "3\n",
      "4\n",
      "5\n",
      "6\n"
     ]
    }
   ],
   "source": [
    "value = 0\n",
    "\n",
    "while value < 7:\n",
    "    print(value)\n",
    "    value += 1\n"
   ]
  },
  {
   "cell_type": "code",
   "execution_count": null,
   "id": "c8ae57bd-ec6f-4aae-acfa-7b9fe390802a",
   "metadata": {},
   "outputs": [],
   "source": [
    "while condition:\n",
    "    break"
   ]
  },
  {
   "cell_type": "code",
   "execution_count": 12,
   "id": "ab6fab36-dfee-42fa-a186-b0c2e71616b6",
   "metadata": {},
   "outputs": [
    {
     "name": "stdin",
     "output_type": "stream",
     "text": [
      "enter your request:  hi\n"
     ]
    },
    {
     "name": "stdout",
     "output_type": "stream",
     "text": [
      "404 Not found\n"
     ]
    },
    {
     "name": "stdin",
     "output_type": "stream",
     "text": [
      "enter your request:  get\n"
     ]
    },
    {
     "name": "stdout",
     "output_type": "stream",
     "text": [
      "hello world\n",
      "no_of_req=2\n"
     ]
    },
    {
     "name": "stdin",
     "output_type": "stream",
     "text": [
      "enter your request:  exit\n"
     ]
    }
   ],
   "source": [
    "no_of_req= 0\n",
    "while True:\n",
    "    no_of_req += 1\n",
    "    req = input(\"enter your request: \")\n",
    "\n",
    "    if req == 'exit':\n",
    "        break\n",
    "    if req == 'get':\n",
    "        print(\"hello world\")\n",
    "    elif req == 'post':\n",
    "        print(\"file has been uploaded\")\n",
    "    else: \n",
    "        print(\"404 Not found\")\n",
    "        continue\n",
    "\n",
    "    \n",
    "    print(f\"{no_of_req=}\")"
   ]
  },
  {
   "cell_type": "code",
   "execution_count": 19,
   "id": "8a5cbf1f-2944-4445-bf1e-856577afe061",
   "metadata": {},
   "outputs": [
    {
     "name": "stdin",
     "output_type": "stream",
     "text": [
      "enter a number:  10\n",
      "enter an operator e.g (+, -, *, /) : +\n",
      "enter another number:  15\n"
     ]
    },
    {
     "name": "stdout",
     "output_type": "stream",
     "text": [
      "the answer is:  25.0\n"
     ]
    },
    {
     "name": "stdin",
     "output_type": "stream",
     "text": [
      "enter an operator e.g (+, -, *, /) : 14\n",
      "enter another number:  clear\n",
      "enter a number:  19\n",
      "enter an operator e.g (+, -, *, /) : +\n",
      "enter another number:  17\n"
     ]
    },
    {
     "name": "stdout",
     "output_type": "stream",
     "text": [
      "the answer is:  36.0\n"
     ]
    },
    {
     "name": "stdin",
     "output_type": "stream",
     "text": [
      "enter an operator e.g (+, -, *, /) : clear\n",
      "enter another number:  exit\n"
     ]
    },
    {
     "name": "stdout",
     "output_type": "stream",
     "text": [
      "end of program\n"
     ]
    }
   ],
   "source": [
    "answer = None\n",
    "number1 = None\n",
    "operator = None\n",
    "number2 = None\n",
    "\n",
    "while True:\n",
    "    if answer == None:\n",
    "        number1 = input(\"enter a number: \")\n",
    "    else:\n",
    "        number1 = answer\n",
    "    operator = input(\"enter an operator e.g (+, -, *, /) :\")\n",
    "    operator = operator.strip()\n",
    "    \n",
    "    number2 = input(\"enter another number: \")\n",
    "\n",
    "    if number1 == \"exit\" or number2 == \"exit\" or operator == \"exit\":\n",
    "        print(\"end of program\")\n",
    "        break\n",
    "    elif number1 == \"clear\" or number2 == \"clear\" or operator == \"clear\":\n",
    "        answer = None\n",
    "        number1 = None\n",
    "        operator = None\n",
    "        number2 = None\n",
    "        continue\n",
    "        \n",
    "    number1 = float(number1)\n",
    "    number2 = float(number2)\n",
    "    if operator == \"+\":\n",
    "        answer = number1 + number2\n",
    "    elif operator == \"-\":\n",
    "        answer = number1 - number2\n",
    "    elif operator == \"/\":\n",
    "        answer = number1 / number2\n",
    "    elif operator == \"*\":\n",
    "        answer = number1 * number2\n",
    "    \n",
    "    \n",
    "    if answer != None:\n",
    "         print(\"the answer is: \", answer)\n",
    "    else:\n",
    "        print(\"enter a correct operator\")"
   ]
  },
  {
   "cell_type": "markdown",
   "id": "f5b8fe05-07f6-4bbb-9245-dcec064dc836",
   "metadata": {},
   "source": [
    "### class work"
   ]
  },
  {
   "cell_type": "code",
   "execution_count": 23,
   "id": "626c9137-ef85-49cf-bf8f-a7e514da32d7",
   "metadata": {},
   "outputs": [
    {
     "name": "stdout",
     "output_type": "stream",
     "text": [
      "2\n",
      "4\n",
      "6\n",
      "8\n",
      "10\n",
      "12\n",
      "14\n",
      "16\n",
      "18\n",
      "20\n"
     ]
    }
   ],
   "source": [
    "# write a program to print the first 10 even numbers\n",
    "current_number = 1\n",
    "i = 1\n",
    "\n",
    "while True:\n",
    "    if current_number % 2 == 0:\n",
    "        print(current_number)\n",
    "        i += 1\n",
    "\n",
    "    if i > 10:\n",
    "        break\n",
    "\n",
    "    current_number += 1"
   ]
  },
  {
   "cell_type": "code",
   "execution_count": 24,
   "id": "dd910bc5-160c-4c4a-8db2-1fb99191398d",
   "metadata": {},
   "outputs": [
    {
     "name": "stdout",
     "output_type": "stream",
     "text": [
      "2\n",
      "4\n",
      "6\n",
      "8\n",
      "10\n",
      "12\n",
      "14\n",
      "16\n",
      "18\n",
      "20\n"
     ]
    }
   ],
   "source": [
    "# write a program to print the first 10 even numbers\n",
    "current_number = 1\n",
    "i = 1\n",
    "\n",
    "while i <= 10:\n",
    "    if current_number % 2 == 0:\n",
    "        print(current_number)\n",
    "        i += 1\n",
    "    current_number += 1"
   ]
  },
  {
   "cell_type": "code",
   "execution_count": 27,
   "id": "265ee38e-a8dc-4436-ae96-469f721616ab",
   "metadata": {},
   "outputs": [
    {
     "name": "stdout",
     "output_type": "stream",
     "text": [
      "1 1\n",
      "2 4\n",
      "3 9\n",
      "4 16\n",
      "5 25\n",
      "6 36\n",
      "7 49\n",
      "8 64\n",
      "9 81\n",
      "10 100\n"
     ]
    }
   ],
   "source": [
    "index = 1\n",
    "\n",
    "while index < 11:\n",
    "    print(index, index ** 2)\n",
    "    index += 1"
   ]
  },
  {
   "cell_type": "code",
   "execution_count": null,
   "id": "b1ca8670-80c9-42a0-ab7d-2abebfd0c523",
   "metadata": {},
   "outputs": [],
   "source": [
    "while condition:\n",
    "    do something"
   ]
  },
  {
   "cell_type": "markdown",
   "id": "12902897-fc4f-4f67-9f93-6e26b01e7fcb",
   "metadata": {},
   "source": [
    "## function"
   ]
  },
  {
   "cell_type": "code",
   "execution_count": 28,
   "id": "1f72ec47-99d7-458e-b39c-fa84584568d4",
   "metadata": {},
   "outputs": [],
   "source": [
    "# a function is a block of reusable code"
   ]
  },
  {
   "cell_type": "code",
   "execution_count": 29,
   "id": "376c27ba-1716-4cfd-b90d-c1b8094b86a1",
   "metadata": {},
   "outputs": [],
   "source": [
    "def add2(val):\n",
    "    result = val + 2\n",
    "    print(result)"
   ]
  },
  {
   "cell_type": "code",
   "execution_count": 30,
   "id": "b4df5e4d-3027-484a-aa1f-1b23ab31597e",
   "metadata": {},
   "outputs": [
    {
     "name": "stdout",
     "output_type": "stream",
     "text": [
      "12\n"
     ]
    }
   ],
   "source": [
    "add2(10)"
   ]
  },
  {
   "cell_type": "code",
   "execution_count": 31,
   "id": "f0aeb4b9-1847-4b18-861b-cfe43357e927",
   "metadata": {},
   "outputs": [],
   "source": [
    "def add_2_values(first_value, second_value):\n",
    "    res = first_value + second_value\n",
    "    print(res)"
   ]
  },
  {
   "cell_type": "code",
   "execution_count": 32,
   "id": "8f709f11-0a7b-450f-a439-4a7d308a9a93",
   "metadata": {},
   "outputs": [
    {
     "name": "stdout",
     "output_type": "stream",
     "text": [
      "17\n"
     ]
    }
   ],
   "source": [
    "add_2_values(2, 15)"
   ]
  },
  {
   "cell_type": "code",
   "execution_count": 33,
   "id": "513119dc-9153-4d57-8282-06d83ad99da1",
   "metadata": {},
   "outputs": [
    {
     "name": "stdout",
     "output_type": "stream",
     "text": [
      "32\n"
     ]
    }
   ],
   "source": [
    "add_2_values(17, 15)"
   ]
  },
  {
   "cell_type": "code",
   "execution_count": 34,
   "id": "52dcb1d6-e041-4261-b16b-bbde882d2afa",
   "metadata": {},
   "outputs": [
    {
     "name": "stdout",
     "output_type": "stream",
     "text": [
      "0\n",
      "2\n",
      "6\n",
      "12\n",
      "20\n",
      "30\n",
      "42\n",
      "56\n",
      "72\n",
      "90\n",
      "110\n",
      "132\n",
      "156\n",
      "182\n",
      "210\n",
      "240\n",
      "272\n",
      "306\n",
      "342\n",
      "380\n",
      "420\n",
      "462\n",
      "506\n",
      "552\n",
      "600\n",
      "650\n",
      "702\n",
      "756\n",
      "812\n",
      "870\n",
      "930\n",
      "992\n",
      "1056\n",
      "1122\n",
      "1190\n",
      "1260\n",
      "1332\n",
      "1406\n",
      "1482\n",
      "1560\n",
      "1640\n",
      "1722\n",
      "1806\n",
      "1892\n",
      "1980\n",
      "2070\n",
      "2162\n",
      "2256\n",
      "2352\n",
      "2450\n"
     ]
    }
   ],
   "source": [
    "for i in range(50):\n",
    "    add_2_values(i, i**2)"
   ]
  },
  {
   "cell_type": "code",
   "execution_count": 35,
   "id": "ec11de92-c848-433a-8f94-b85319ebabb2",
   "metadata": {},
   "outputs": [
    {
     "data": {
      "text/plain": [
       "\u001b[1;31mInit signature:\u001b[0m \u001b[0mrange\u001b[0m\u001b[1;33m(\u001b[0m\u001b[0mself\u001b[0m\u001b[1;33m,\u001b[0m \u001b[1;33m/\u001b[0m\u001b[1;33m,\u001b[0m \u001b[1;33m*\u001b[0m\u001b[0margs\u001b[0m\u001b[1;33m,\u001b[0m \u001b[1;33m**\u001b[0m\u001b[0mkwargs\u001b[0m\u001b[1;33m)\u001b[0m\u001b[1;33m\u001b[0m\u001b[1;33m\u001b[0m\u001b[0m\n",
       "\u001b[1;31mDocstring:\u001b[0m     \n",
       "range(stop) -> range object\n",
       "range(start, stop[, step]) -> range object\n",
       "\n",
       "Return an object that produces a sequence of integers from start (inclusive)\n",
       "to stop (exclusive) by step.  range(i, j) produces i, i+1, i+2, ..., j-1.\n",
       "start defaults to 0, and stop is omitted!  range(4) produces 0, 1, 2, 3.\n",
       "These are exactly the valid indices for a list of 4 elements.\n",
       "When step is given, it specifies the increment (or decrement).\n",
       "\u001b[1;31mType:\u001b[0m           type\n",
       "\u001b[1;31mSubclasses:\u001b[0m     "
      ]
     },
     "metadata": {},
     "output_type": "display_data"
    }
   ],
   "source": [
    "range?"
   ]
  },
  {
   "cell_type": "code",
   "execution_count": 45,
   "id": "49d86322-dac3-4426-8452-58b084830c29",
   "metadata": {},
   "outputs": [],
   "source": [
    "def my_range(start, stop=None, step=None):\n",
    "    if start == None:\n",
    "        raise ValueError(\"invalid starting point\")\n",
    "    index = 0 \n",
    "    end = start\n",
    "    move = 1\n",
    "    if step != None:\n",
    "        move = step\n",
    "    if start != None and stop != None:\n",
    "        index = start\n",
    "    if stop != None:\n",
    "        end = stop\n",
    "    while True:\n",
    "        if index > end:\n",
    "            break\n",
    "        print(index)\n",
    "        index += move\n",
    "        "
   ]
  },
  {
   "cell_type": "code",
   "execution_count": 48,
   "id": "149b9be0-8c1b-4486-bb11-6d753aea04d7",
   "metadata": {},
   "outputs": [
    {
     "name": "stdout",
     "output_type": "stream",
     "text": [
      "50\n",
      "51\n",
      "52\n",
      "53\n",
      "54\n",
      "55\n",
      "56\n",
      "57\n"
     ]
    }
   ],
   "source": [
    " my_range(50, 57)"
   ]
  },
  {
   "cell_type": "code",
   "execution_count": 55,
   "id": "c1cb1a89-8bbf-4af9-92c9-4864e1ba400a",
   "metadata": {},
   "outputs": [],
   "source": [
    "from tester  import test_my_range"
   ]
  },
  {
   "cell_type": "code",
   "execution_count": 53,
   "id": "621d94d9-11a1-46ff-a986-95bfc39dbb82",
   "metadata": {},
   "outputs": [
    {
     "data": {
      "text/plain": [
       "['__builtins__',\n",
       " '__cached__',\n",
       " '__doc__',\n",
       " '__file__',\n",
       " '__loader__',\n",
       " '__name__',\n",
       " '__package__',\n",
       " '__spec__',\n",
       " 'test_my_range']"
      ]
     },
     "execution_count": 53,
     "metadata": {},
     "output_type": "execute_result"
    }
   ],
   "source": [
    "dir(tester)"
   ]
  },
  {
   "cell_type": "code",
   "execution_count": 56,
   "id": "ed3cacd6-8e07-4748-b29e-c7fc14807c26",
   "metadata": {},
   "outputs": [
    {
     "name": "stdout",
     "output_type": "stream",
     "text": [
      "0\n",
      "1\n",
      "2\n",
      "3\n",
      "4\n",
      "5\n",
      "6\n",
      "7\n",
      "8\n",
      "9\n",
      "10\n"
     ]
    }
   ],
   "source": [
    "test_my_range(10)"
   ]
  },
  {
   "cell_type": "code",
   "execution_count": 57,
   "id": "8cbec022-a1f4-4329-84a3-890b851a5601",
   "metadata": {},
   "outputs": [
    {
     "name": "stdout",
     "output_type": "stream",
     "text": [
      "0\n",
      "1\n",
      "2\n",
      "3\n",
      "4\n",
      "5\n",
      "6\n",
      "7\n",
      "8\n",
      "9\n",
      "10\n",
      "11\n",
      "12\n",
      "13\n",
      "14\n",
      "15\n",
      "16\n",
      "17\n",
      "18\n",
      "19\n",
      "20\n",
      "21\n",
      "22\n",
      "23\n",
      "24\n",
      "25\n",
      "26\n",
      "27\n",
      "28\n",
      "29\n",
      "30\n",
      "31\n",
      "32\n",
      "33\n",
      "34\n",
      "35\n",
      "36\n",
      "37\n",
      "38\n",
      "39\n",
      "40\n",
      "41\n",
      "42\n",
      "43\n",
      "44\n",
      "45\n",
      "46\n",
      "47\n",
      "48\n",
      "49\n",
      "50\n",
      "51\n",
      "52\n"
     ]
    }
   ],
   "source": [
    "test_my_range(52)"
   ]
  },
  {
   "cell_type": "code",
   "execution_count": 58,
   "id": "ac3b825b-579b-45a7-9f88-973d3e2854a1",
   "metadata": {},
   "outputs": [],
   "source": [
    "start = 500"
   ]
  },
  {
   "cell_type": "code",
   "execution_count": 59,
   "id": "58cfc78f-72ef-40a1-b38d-52fccb99778e",
   "metadata": {},
   "outputs": [
    {
     "name": "stdout",
     "output_type": "stream",
     "text": [
      "0\n",
      "1\n",
      "2\n",
      "3\n",
      "4\n",
      "5\n",
      "6\n",
      "7\n",
      "8\n",
      "9\n",
      "10\n"
     ]
    }
   ],
   "source": [
    "my_range(10)"
   ]
  },
  {
   "cell_type": "code",
   "execution_count": 62,
   "id": "02bd5176-8eb9-4596-8378-b183d9e80961",
   "metadata": {},
   "outputs": [],
   "source": [
    "def hello():\n",
    "    start = 10\n",
    "    print(start)"
   ]
  },
  {
   "cell_type": "code",
   "execution_count": 63,
   "id": "3a5e5678-472f-42e7-93e2-0644ddca7c23",
   "metadata": {},
   "outputs": [
    {
     "name": "stdout",
     "output_type": "stream",
     "text": [
      "10\n"
     ]
    }
   ],
   "source": [
    "hello()"
   ]
  },
  {
   "cell_type": "code",
   "execution_count": 64,
   "id": "09897d06-b9ce-402f-b51f-b124348b8fd4",
   "metadata": {},
   "outputs": [
    {
     "data": {
      "text/plain": [
       "500"
      ]
     },
     "execution_count": 64,
     "metadata": {},
     "output_type": "execute_result"
    }
   ],
   "source": [
    "start"
   ]
  },
  {
   "cell_type": "code",
   "execution_count": 71,
   "id": "83b40647-88f7-4004-9c9e-0711af80c83d",
   "metadata": {},
   "outputs": [],
   "source": [
    "def ade(a = 7):\n",
    "    l = locals()\n",
    "\n",
    "    print(l)"
   ]
  },
  {
   "cell_type": "code",
   "execution_count": 72,
   "id": "942a7fa7-34f4-4a51-a9a5-405ed3a6dc3c",
   "metadata": {},
   "outputs": [
    {
     "name": "stdout",
     "output_type": "stream",
     "text": [
      "{'a': 7}\n"
     ]
    }
   ],
   "source": [
    "ade()"
   ]
  },
  {
   "cell_type": "code",
   "execution_count": 74,
   "id": "2bfdcd5d-f718-4075-ba38-a14b21043775",
   "metadata": {},
   "outputs": [],
   "source": [
    "def run_range():\n",
    "    for a in range(3):\n",
    "        print(a)"
   ]
  },
  {
   "cell_type": "code",
   "execution_count": 75,
   "id": "0155b5ac-2e2f-4d4c-b2e1-50da87c0f046",
   "metadata": {},
   "outputs": [
    {
     "name": "stdout",
     "output_type": "stream",
     "text": [
      "0\n",
      "1\n",
      "2\n"
     ]
    }
   ],
   "source": [
    "run_range()"
   ]
  },
  {
   "cell_type": "code",
   "execution_count": 76,
   "id": "a18bcd45-5ff4-4c8a-9da0-39e9acc41143",
   "metadata": {},
   "outputs": [
    {
     "name": "stdout",
     "output_type": "stream",
     "text": [
      "0\n",
      "1\n",
      "2\n"
     ]
    }
   ],
   "source": [
    "run_range()"
   ]
  },
  {
   "cell_type": "code",
   "execution_count": 77,
   "id": "cbb22f22-f124-4afd-b6d2-fbc61acc30f8",
   "metadata": {},
   "outputs": [
    {
     "name": "stdout",
     "output_type": "stream",
     "text": [
      "0\n",
      "1\n",
      "2\n"
     ]
    }
   ],
   "source": [
    "run_range()"
   ]
  },
  {
   "cell_type": "code",
   "execution_count": 78,
   "id": "b9c99128-e4c0-45d9-9f8b-acd099b1ba6a",
   "metadata": {},
   "outputs": [
    {
     "name": "stdout",
     "output_type": "stream",
     "text": [
      "0\n",
      "1\n",
      "2\n"
     ]
    }
   ],
   "source": [
    "run_range()"
   ]
  },
  {
   "cell_type": "code",
   "execution_count": 79,
   "id": "a2204c7c-035b-4574-9c32-71cc109fc80c",
   "metadata": {},
   "outputs": [
    {
     "name": "stdout",
     "output_type": "stream",
     "text": [
      "0\n",
      "1\n",
      "2\n"
     ]
    }
   ],
   "source": [
    "run_range()"
   ]
  },
  {
   "cell_type": "code",
   "execution_count": 91,
   "id": "43610ea4-0dd6-43ee-a65d-f4a260402138",
   "metadata": {},
   "outputs": [],
   "source": [
    "def sanitize(sentence): # to clean up any toxic word in a sentence\n",
    "    toxic_words = ['idiot', 'fool', \"baffoon\"]\n",
    "    r = sentence\n",
    "    \n",
    "    for word in toxic_words:\n",
    "        rem = len(word) - 2\n",
    "        c = word[0] + ('*' * rem) + word[-1]\n",
    "        \n",
    "        r = r.replace(word, c)\n",
    "    return r"
   ]
  },
  {
   "cell_type": "code",
   "execution_count": 92,
   "id": "6da3bb2f-3bb3-4902-9af5-144815b4dd20",
   "metadata": {},
   "outputs": [],
   "source": [
    "safe_sentence = sanitize(\"you are an idiot, you are a baffoon, and a fool , the greatest idiot in the world\")"
   ]
  },
  {
   "cell_type": "code",
   "execution_count": 93,
   "id": "06febeb5-2ea5-4791-bdd5-64827aabc9ed",
   "metadata": {},
   "outputs": [
    {
     "data": {
      "text/plain": [
       "'you are an i***t, you are a b*****n, and a f**l , the greatest i***t in the world'"
      ]
     },
     "execution_count": 93,
     "metadata": {},
     "output_type": "execute_result"
    }
   ],
   "source": [
    "safe_sentence"
   ]
  },
  {
   "cell_type": "code",
   "execution_count": 99,
   "id": "de205a8d-f5b1-43aa-8fc8-a3ba90e73c9a",
   "metadata": {},
   "outputs": [],
   "source": [
    "def findminmax(mylist):\n",
    "    mymin = mylist[0]\n",
    "    mymax= mylist[0]\n",
    "\n",
    "    for val in mylist:\n",
    "        if val > mymax:\n",
    "            mymax = val\n",
    "        if val <  mymin:\n",
    "            mymin = val\n",
    "    print(\"min={}, max={}\".format(mymin, mymax))"
   ]
  },
  {
   "cell_type": "code",
   "execution_count": 101,
   "id": "fe2c2a01-8b01-4c76-84bd-5dd8a3d65c9f",
   "metadata": {},
   "outputs": [
    {
     "name": "stdout",
     "output_type": "stream",
     "text": [
      "min=1, max=50\n"
     ]
    }
   ],
   "source": [
    "findminmax([10,20,50, 1])"
   ]
  },
  {
   "cell_type": "code",
   "execution_count": 102,
   "id": "b7ec1ede-d938-4e8d-8b77-6c5e0045201e",
   "metadata": {},
   "outputs": [
    {
     "name": "stdout",
     "output_type": "stream",
     "text": [
      "min=-2, max=100\n"
     ]
    }
   ],
   "source": [
    "findminmax([30, 16, 4, -2, 0, 100])"
   ]
  },
  {
   "cell_type": "code",
   "execution_count": 103,
   "id": "8c5693d5-904d-409a-9574-806d3f714c37",
   "metadata": {},
   "outputs": [
    {
     "ename": "TypeError",
     "evalue": "findminmax() missing 1 required positional argument: 'mylist'",
     "output_type": "error",
     "traceback": [
      "\u001b[1;31m---------------------------------------------------------------------------\u001b[0m",
      "\u001b[1;31mTypeError\u001b[0m                                 Traceback (most recent call last)",
      "Cell \u001b[1;32mIn[103], line 1\u001b[0m\n\u001b[1;32m----> 1\u001b[0m findminmax()\n",
      "\u001b[1;31mTypeError\u001b[0m: findminmax() missing 1 required positional argument: 'mylist'"
     ]
    }
   ],
   "source": [
    "findminmax()"
   ]
  },
  {
   "cell_type": "code",
   "execution_count": 104,
   "id": "8e28c721-fa77-4559-b66f-2a2cd5c06fe6",
   "metadata": {},
   "outputs": [
    {
     "data": {
      "text/plain": [
       "\u001b[1;31mSignature:\u001b[0m \u001b[0mprint\u001b[0m\u001b[1;33m(\u001b[0m\u001b[1;33m*\u001b[0m\u001b[0margs\u001b[0m\u001b[1;33m,\u001b[0m \u001b[0msep\u001b[0m\u001b[1;33m=\u001b[0m\u001b[1;34m' '\u001b[0m\u001b[1;33m,\u001b[0m \u001b[0mend\u001b[0m\u001b[1;33m=\u001b[0m\u001b[1;34m'\\n'\u001b[0m\u001b[1;33m,\u001b[0m \u001b[0mfile\u001b[0m\u001b[1;33m=\u001b[0m\u001b[1;32mNone\u001b[0m\u001b[1;33m,\u001b[0m \u001b[0mflush\u001b[0m\u001b[1;33m=\u001b[0m\u001b[1;32mFalse\u001b[0m\u001b[1;33m)\u001b[0m\u001b[1;33m\u001b[0m\u001b[1;33m\u001b[0m\u001b[0m\n",
       "\u001b[1;31mDocstring:\u001b[0m\n",
       "Prints the values to a stream, or to sys.stdout by default.\n",
       "\n",
       "sep\n",
       "  string inserted between values, default a space.\n",
       "end\n",
       "  string appended after the last value, default a newline.\n",
       "file\n",
       "  a file-like object (stream); defaults to the current sys.stdout.\n",
       "flush\n",
       "  whether to forcibly flush the stream.\n",
       "\u001b[1;31mType:\u001b[0m      builtin_function_or_method"
      ]
     },
     "metadata": {},
     "output_type": "display_data"
    }
   ],
   "source": [
    "print?"
   ]
  },
  {
   "cell_type": "code",
   "execution_count": 105,
   "id": "7471f3fa-ece1-49aa-ac78-15d0a6c29a0b",
   "metadata": {},
   "outputs": [
    {
     "name": "stdout",
     "output_type": "stream",
     "text": [
      "1 2 3 4 5 6 7 8 9\n"
     ]
    }
   ],
   "source": [
    "print(1,2,3,4,5,6,7,8,9)"
   ]
  },
  {
   "cell_type": "code",
   "execution_count": 109,
   "id": "633237b3-bf2f-4673-8c3b-b038bef88097",
   "metadata": {},
   "outputs": [
    {
     "name": "stdout",
     "output_type": "stream",
     "text": [
      "1hello2hello3\n"
     ]
    }
   ],
   "source": [
    "print(1,2,3, sep=\"hello\")"
   ]
  },
  {
   "cell_type": "code",
   "execution_count": 112,
   "id": "39eb5e36-eae6-4bab-956c-b7872cb6191a",
   "metadata": {},
   "outputs": [],
   "source": [
    "def myfunc(*mymultivalue):\n",
    "    print(mymultivalue)"
   ]
  },
  {
   "cell_type": "code",
   "execution_count": 114,
   "id": "473baa52-c66b-456e-8386-500285c0dcf3",
   "metadata": {},
   "outputs": [
    {
     "name": "stdout",
     "output_type": "stream",
     "text": [
      "(1, 2, 3, 4, 5, 5, 6)\n"
     ]
    }
   ],
   "source": [
    "myfunc(1,2,3,4,5,5,6)"
   ]
  },
  {
   "cell_type": "code",
   "execution_count": 118,
   "id": "b84aadac-6e67-4bf6-b710-ecd423e12d45",
   "metadata": {},
   "outputs": [
    {
     "ename": "SyntaxError",
     "evalue": "positional argument follows keyword argument (675534580.py, line 1)",
     "output_type": "error",
     "traceback": [
      "\u001b[1;36m  Cell \u001b[1;32mIn[118], line 1\u001b[1;36m\u001b[0m\n\u001b[1;33m    my_range(step= 2, stop=10, 0)\u001b[0m\n\u001b[1;37m                                ^\u001b[0m\n\u001b[1;31mSyntaxError\u001b[0m\u001b[1;31m:\u001b[0m positional argument follows keyword argument\n"
     ]
    }
   ],
   "source": [
    " my_range(step= 2, stop=10, 0)"
   ]
  },
  {
   "cell_type": "code",
   "execution_count": 119,
   "id": "d4470d23-25e9-45d5-b362-3725e3071164",
   "metadata": {},
   "outputs": [],
   "source": [
    "def user_info(name, age, height, hair_colour):\n",
    "    print(f\"i met a {age} years old person named {name} who had a height of {height} and a peculiar {hair_colour} colour of hair\")"
   ]
  },
  {
   "cell_type": "code",
   "execution_count": 120,
   "id": "d0c75a09-a541-4518-9611-ad2ceae6c4f8",
   "metadata": {},
   "outputs": [
    {
     "name": "stdout",
     "output_type": "stream",
     "text": [
      "i met a 15 years old person named ade who had a height of 50cm and a peculiar green colour of hair\n"
     ]
    }
   ],
   "source": [
    " user_info(\"ade\", 15, \"50cm\", \"green\")"
   ]
  },
  {
   "cell_type": "code",
   "execution_count": 121,
   "id": "57e1e855-904b-4245-9f0a-f11b77bdbdae",
   "metadata": {},
   "outputs": [
    {
     "name": "stdout",
     "output_type": "stream",
     "text": [
      "i met a ade years old person named 15 who had a height of green and a peculiar 20cm colour of hair\n"
     ]
    }
   ],
   "source": [
    "user_info(15, \"ade\", \"green\", \"20cm\")"
   ]
  },
  {
   "cell_type": "code",
   "execution_count": 122,
   "id": "6b362450-6c73-41df-8fe5-bd8ca7fa08ad",
   "metadata": {},
   "outputs": [],
   "source": [
    "def user_info2(name=\"\", age=\"\", height=\"\", hair_colour=\"\"):\n",
    "    print(f\"i met a {age} years old person named {name} who had a height of {height} and a peculiar {hair_colour} colour of hair\")"
   ]
  },
  {
   "cell_type": "code",
   "execution_count": 123,
   "id": "2a98cd8c-6673-4791-84f5-e2e8549a169e",
   "metadata": {},
   "outputs": [
    {
     "name": "stdout",
     "output_type": "stream",
     "text": [
      "i met a 15 years old person named ade who had a height of 50cm and a peculiar green colour of hair\n"
     ]
    }
   ],
   "source": [
    " user_info2(\"ade\", 15, \"50cm\", \"green\")"
   ]
  },
  {
   "cell_type": "code",
   "execution_count": 124,
   "id": "2b4722c0-9d68-494a-9c68-5383bdb9f14f",
   "metadata": {},
   "outputs": [
    {
     "name": "stdout",
     "output_type": "stream",
     "text": [
      "i met a ade years old person named 15 who had a height of green and a peculiar 20cm colour of hair\n"
     ]
    }
   ],
   "source": [
    "user_info2(15, \"ade\", \"green\", \"20cm\")"
   ]
  },
  {
   "cell_type": "code",
   "execution_count": 125,
   "id": "98d79798-5230-4eba-bece-d383c7328c13",
   "metadata": {},
   "outputs": [
    {
     "name": "stdout",
     "output_type": "stream",
     "text": [
      "i met a 15 years old person named ade who had a height of 20cm and a peculiar green colour of hair\n"
     ]
    }
   ],
   "source": [
    "user_info(age=15, name=\"ade\", hair_colour=\"green\", height=\"20cm\")"
   ]
  },
  {
   "cell_type": "code",
   "execution_count": 131,
   "id": "af313b3c-8779-4a31-b548-6b4de8ad407e",
   "metadata": {},
   "outputs": [],
   "source": [
    "myval = (8, 2, 3, -1, 7, 10)"
   ]
  },
  {
   "cell_type": "code",
   "execution_count": 129,
   "id": "92befa69-4184-416e-aa10-b0428c2539b7",
   "metadata": {},
   "outputs": [],
   "source": [
    "def multiply_list(mylist):\n",
    "    total = 1\n",
    "    for single in mylist:\n",
    "        total *= single\n",
    "    return total"
   ]
  },
  {
   "cell_type": "code",
   "execution_count": 132,
   "id": "d9fff051-5c79-470a-8e65-00a8449760e7",
   "metadata": {},
   "outputs": [
    {
     "data": {
      "text/plain": [
       "-3360"
      ]
     },
     "execution_count": 132,
     "metadata": {},
     "output_type": "execute_result"
    }
   ],
   "source": [
    "multiply_list(myval)"
   ]
  },
  {
   "cell_type": "code",
   "execution_count": null,
   "id": "435b786b-b3ac-47e3-b506-c66ed8c006e7",
   "metadata": {},
   "outputs": [],
   "source": []
  }
 ],
 "metadata": {
  "kernelspec": {
   "display_name": "Python 3 (ipykernel)",
   "language": "python",
   "name": "python3"
  },
  "language_info": {
   "codemirror_mode": {
    "name": "ipython",
    "version": 3
   },
   "file_extension": ".py",
   "mimetype": "text/x-python",
   "name": "python",
   "nbconvert_exporter": "python",
   "pygments_lexer": "ipython3",
   "version": "3.12.9"
  }
 },
 "nbformat": 4,
 "nbformat_minor": 5
}
