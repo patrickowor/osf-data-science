{
 "cells": [
  {
   "cell_type": "code",
   "execution_count": 1,
   "id": "8ff07e5a-b37c-490a-99ba-0fa6d4cf237e",
   "metadata": {},
   "outputs": [],
   "source": [
    "import pandas as pd\n",
    "import numpy as np\n",
    "import matplotlib.pyplot as plt"
   ]
  },
  {
   "cell_type": "code",
   "execution_count": 3,
   "id": "3eb95132-4b0f-4919-8ee0-8e24afc5220b",
   "metadata": {},
   "outputs": [],
   "source": [
    "df = pd.read_csv(\"cleaning/ecommerce_customers.csv\")"
   ]
  },
  {
   "cell_type": "code",
   "execution_count": 4,
   "id": "021669fe-2e21-48e0-bc14-76a7dd0af793",
   "metadata": {},
   "outputs": [
    {
     "data": {
      "text/html": [
       "<div>\n",
       "<style scoped>\n",
       "    .dataframe tbody tr th:only-of-type {\n",
       "        vertical-align: middle;\n",
       "    }\n",
       "\n",
       "    .dataframe tbody tr th {\n",
       "        vertical-align: top;\n",
       "    }\n",
       "\n",
       "    .dataframe thead th {\n",
       "        text-align: right;\n",
       "    }\n",
       "</style>\n",
       "<table border=\"1\" class=\"dataframe\">\n",
       "  <thead>\n",
       "    <tr style=\"text-align: right;\">\n",
       "      <th></th>\n",
       "      <th>CustomerID</th>\n",
       "      <th>Age</th>\n",
       "      <th>Gender</th>\n",
       "      <th>Annual Income</th>\n",
       "      <th>Spending Score</th>\n",
       "      <th>Last Purchase</th>\n",
       "      <th>Membership Status</th>\n",
       "    </tr>\n",
       "  </thead>\n",
       "  <tbody>\n",
       "    <tr>\n",
       "      <th>0</th>\n",
       "      <td>CUST1000</td>\n",
       "      <td>51</td>\n",
       "      <td>Female</td>\n",
       "      <td>117866.9</td>\n",
       "      <td>81.0</td>\n",
       "      <td>Apr 30, 2024</td>\n",
       "      <td>Silver</td>\n",
       "    </tr>\n",
       "    <tr>\n",
       "      <th>1</th>\n",
       "      <td>CUST1001</td>\n",
       "      <td>33</td>\n",
       "      <td>MALE</td>\n",
       "      <td>25429.51 USD</td>\n",
       "      <td>58.0</td>\n",
       "      <td>2024-11-30</td>\n",
       "      <td>Silver</td>\n",
       "    </tr>\n",
       "    <tr>\n",
       "      <th>2</th>\n",
       "      <td>CUST1002</td>\n",
       "      <td>24</td>\n",
       "      <td>FEMALE</td>\n",
       "      <td>69437.33</td>\n",
       "      <td>30.0</td>\n",
       "      <td>28-02-2023</td>\n",
       "      <td>Gold</td>\n",
       "    </tr>\n",
       "    <tr>\n",
       "      <th>3</th>\n",
       "      <td>CUST1003</td>\n",
       "      <td>34</td>\n",
       "      <td>MALE</td>\n",
       "      <td>$105023.33</td>\n",
       "      <td>68.0</td>\n",
       "      <td>NaN</td>\n",
       "      <td>Silver</td>\n",
       "    </tr>\n",
       "    <tr>\n",
       "      <th>4</th>\n",
       "      <td>CUST1004</td>\n",
       "      <td>55</td>\n",
       "      <td>Male</td>\n",
       "      <td>NaN</td>\n",
       "      <td>22.0</td>\n",
       "      <td>05-02-2023</td>\n",
       "      <td>Silver</td>\n",
       "    </tr>\n",
       "  </tbody>\n",
       "</table>\n",
       "</div>"
      ],
      "text/plain": [
       "  CustomerID Age  Gender Annual Income  Spending Score Last Purchase  \\\n",
       "0   CUST1000  51  Female      117866.9            81.0  Apr 30, 2024   \n",
       "1   CUST1001  33    MALE  25429.51 USD            58.0    2024-11-30   \n",
       "2   CUST1002  24  FEMALE      69437.33            30.0    28-02-2023   \n",
       "3   CUST1003  34    MALE    $105023.33            68.0           NaN   \n",
       "4   CUST1004  55    Male           NaN            22.0    05-02-2023   \n",
       "\n",
       "  Membership Status  \n",
       "0            Silver  \n",
       "1            Silver  \n",
       "2              Gold  \n",
       "3            Silver  \n",
       "4            Silver  "
      ]
     },
     "execution_count": 4,
     "metadata": {},
     "output_type": "execute_result"
    }
   ],
   "source": [
    "df.head()"
   ]
  },
  {
   "cell_type": "code",
   "execution_count": 5,
   "id": "65b405a9-a421-4ac2-80e1-978a1423ae61",
   "metadata": {},
   "outputs": [
    {
     "data": {
      "text/plain": [
       "RangeIndex(start=0, stop=260, step=1)"
      ]
     },
     "execution_count": 5,
     "metadata": {},
     "output_type": "execute_result"
    }
   ],
   "source": [
    "df.index"
   ]
  },
  {
   "cell_type": "code",
   "execution_count": 6,
   "id": "7fce8f81-1341-49dc-bcdf-f7a772ca453b",
   "metadata": {},
   "outputs": [
    {
     "data": {
      "text/plain": [
       "Index(['CustomerID', 'Age', 'Gender', 'Annual Income', 'Spending Score',\n",
       "       'Last Purchase', 'Membership Status'],\n",
       "      dtype='object')"
      ]
     },
     "execution_count": 6,
     "metadata": {},
     "output_type": "execute_result"
    }
   ],
   "source": [
    "df.columns"
   ]
  },
  {
   "cell_type": "code",
   "execution_count": 13,
   "id": "48f8fe83-ef52-4d94-a792-710ea3200da3",
   "metadata": {},
   "outputs": [],
   "source": [
    "df.columns = df.columns.str.lower().str.replace(\" \", \"_\")"
   ]
  },
  {
   "cell_type": "code",
   "execution_count": 14,
   "id": "a56f11e6-135e-47c4-9743-4801eb92a5e3",
   "metadata": {},
   "outputs": [
    {
     "data": {
      "text/plain": [
       "Index(['customerid', 'age', 'gender', 'annual_income', 'spending_score',\n",
       "       'last_purchase', 'membership_status'],\n",
       "      dtype='object')"
      ]
     },
     "execution_count": 14,
     "metadata": {},
     "output_type": "execute_result"
    }
   ],
   "source": [
    "df.columns"
   ]
  },
  {
   "cell_type": "code",
   "execution_count": 15,
   "id": "fb8dc25a-bd9f-4e6c-83d7-24edeeb6f90e",
   "metadata": {},
   "outputs": [
    {
     "data": {
      "text/html": [
       "<div>\n",
       "<style scoped>\n",
       "    .dataframe tbody tr th:only-of-type {\n",
       "        vertical-align: middle;\n",
       "    }\n",
       "\n",
       "    .dataframe tbody tr th {\n",
       "        vertical-align: top;\n",
       "    }\n",
       "\n",
       "    .dataframe thead th {\n",
       "        text-align: right;\n",
       "    }\n",
       "</style>\n",
       "<table border=\"1\" class=\"dataframe\">\n",
       "  <thead>\n",
       "    <tr style=\"text-align: right;\">\n",
       "      <th></th>\n",
       "      <th>customerid</th>\n",
       "      <th>age</th>\n",
       "      <th>gender</th>\n",
       "      <th>annual_income</th>\n",
       "      <th>spending_score</th>\n",
       "      <th>last_purchase</th>\n",
       "      <th>membership_status</th>\n",
       "    </tr>\n",
       "  </thead>\n",
       "  <tbody>\n",
       "    <tr>\n",
       "      <th>0</th>\n",
       "      <td>CUST1000</td>\n",
       "      <td>51</td>\n",
       "      <td>female</td>\n",
       "      <td>117866.9</td>\n",
       "      <td>81.0</td>\n",
       "      <td>Apr 30, 2024</td>\n",
       "      <td>Silver</td>\n",
       "    </tr>\n",
       "    <tr>\n",
       "      <th>1</th>\n",
       "      <td>CUST1001</td>\n",
       "      <td>33</td>\n",
       "      <td>male</td>\n",
       "      <td>25429.51 USD</td>\n",
       "      <td>58.0</td>\n",
       "      <td>2024-11-30</td>\n",
       "      <td>Silver</td>\n",
       "    </tr>\n",
       "    <tr>\n",
       "      <th>2</th>\n",
       "      <td>CUST1002</td>\n",
       "      <td>24</td>\n",
       "      <td>female</td>\n",
       "      <td>69437.33</td>\n",
       "      <td>30.0</td>\n",
       "      <td>28-02-2023</td>\n",
       "      <td>Gold</td>\n",
       "    </tr>\n",
       "    <tr>\n",
       "      <th>3</th>\n",
       "      <td>CUST1003</td>\n",
       "      <td>34</td>\n",
       "      <td>male</td>\n",
       "      <td>$105023.33</td>\n",
       "      <td>68.0</td>\n",
       "      <td>NaN</td>\n",
       "      <td>Silver</td>\n",
       "    </tr>\n",
       "    <tr>\n",
       "      <th>4</th>\n",
       "      <td>CUST1004</td>\n",
       "      <td>55</td>\n",
       "      <td>male</td>\n",
       "      <td>NaN</td>\n",
       "      <td>22.0</td>\n",
       "      <td>05-02-2023</td>\n",
       "      <td>Silver</td>\n",
       "    </tr>\n",
       "  </tbody>\n",
       "</table>\n",
       "</div>"
      ],
      "text/plain": [
       "  customerid age  gender annual_income  spending_score last_purchase  \\\n",
       "0   CUST1000  51  female      117866.9            81.0  Apr 30, 2024   \n",
       "1   CUST1001  33    male  25429.51 USD            58.0    2024-11-30   \n",
       "2   CUST1002  24  female      69437.33            30.0    28-02-2023   \n",
       "3   CUST1003  34    male    $105023.33            68.0           NaN   \n",
       "4   CUST1004  55    male           NaN            22.0    05-02-2023   \n",
       "\n",
       "  membership_status  \n",
       "0            Silver  \n",
       "1            Silver  \n",
       "2              Gold  \n",
       "3            Silver  \n",
       "4            Silver  "
      ]
     },
     "execution_count": 15,
     "metadata": {},
     "output_type": "execute_result"
    }
   ],
   "source": [
    "df.gender = df.gender.str.strip().str.lower()\n",
    "df.head()"
   ]
  },
  {
   "cell_type": "code",
   "execution_count": 16,
   "id": "2df5346a-70c2-42ac-86bd-2d229a65f933",
   "metadata": {},
   "outputs": [
    {
     "name": "stdout",
     "output_type": "stream",
     "text": [
      "<class 'pandas.core.frame.DataFrame'>\n",
      "RangeIndex: 260 entries, 0 to 259\n",
      "Data columns (total 7 columns):\n",
      " #   Column             Non-Null Count  Dtype  \n",
      "---  ------             --------------  -----  \n",
      " 0   customerid         260 non-null    object \n",
      " 1   age                254 non-null    object \n",
      " 2   gender             260 non-null    object \n",
      " 3   annual_income      189 non-null    object \n",
      " 4   spending_score     251 non-null    float64\n",
      " 5   last_purchase      247 non-null    object \n",
      " 6   membership_status  150 non-null    object \n",
      "dtypes: float64(1), object(6)\n",
      "memory usage: 14.3+ KB\n"
     ]
    }
   ],
   "source": [
    "df.info()"
   ]
  },
  {
   "cell_type": "code",
   "execution_count": 17,
   "id": "4b7d85b3-7b03-46a7-b7d9-934671613020",
   "metadata": {},
   "outputs": [
    {
     "data": {
      "text/plain": [
       "array(['51', '33', '24', '34', '55', '45', '37', '67', '50', '57', '25',\n",
       "       'twenty-five', '44', '69', '31', '60', '23', '61', '42', '22',\n",
       "       '43', '38', '35', '66', '20', '40', '52', '49', '63', '65', '59',\n",
       "       '54', '19', '62', '58', '21', '53', '70', '56', '28', '29', '41',\n",
       "       '18', '48', '36', '27', '64', nan, '46', '68', '30', '47', '26',\n",
       "       '32', '39'], dtype=object)"
      ]
     },
     "execution_count": 17,
     "metadata": {},
     "output_type": "execute_result"
    }
   ],
   "source": [
    "df.age.unique()"
   ]
  },
  {
   "cell_type": "code",
   "execution_count": 22,
   "id": "6c1c0af5-3b2e-444e-9a8d-ab3b2263db7d",
   "metadata": {},
   "outputs": [
    {
     "name": "stdout",
     "output_type": "stream",
     "text": [
      "Collecting word2number\n",
      "  Downloading word2number-1.1.zip (9.7 kB)\n",
      "  Preparing metadata (setup.py): started\n",
      "  Preparing metadata (setup.py): finished with status 'done'\n",
      "Building wheels for collected packages: word2number\n",
      "  Building wheel for word2number (setup.py): started\n",
      "  Building wheel for word2number (setup.py): finished with status 'done'\n",
      "  Created wheel for word2number: filename=word2number-1.1-py3-none-any.whl size=5647 sha256=d50bf2b3dfe49fe184a82f9a137eefa3892af9cf893292ddb9f0acec0bbd0d6f\n",
      "  Stored in directory: c:\\users\\sourcebird\\appdata\\local\\pip\\cache\\wheels\\5b\\79\\fb\\d25928e599c7e11fe4e00d32048cd74933f34a74c633d2aea6\n",
      "Successfully built word2number\n",
      "Installing collected packages: word2number\n",
      "Successfully installed word2number-1.1\n"
     ]
    }
   ],
   "source": [
    "!pip install word2number"
   ]
  },
  {
   "cell_type": "code",
   "execution_count": 26,
   "id": "fd860b9a-3eff-4383-a672-f717eca96c60",
   "metadata": {},
   "outputs": [
    {
     "data": {
      "text/plain": [
       "25"
      ]
     },
     "execution_count": 26,
     "metadata": {},
     "output_type": "execute_result"
    }
   ],
   "source": [
    "from  word2number import w2n\n",
    "\n",
    "w2n.word_to_num('twenty-five')"
   ]
  },
  {
   "cell_type": "code",
   "execution_count": 29,
   "id": "03a8a1f5-df2d-4f3e-86c4-735385bf7980",
   "metadata": {},
   "outputs": [],
   "source": [
    "my_ages = []\n",
    "\n",
    "for age in df.age.values:\n",
    "    if pd.isna(age):\n",
    "        my_ages.append(age) # we plan to fill na with the mean\n",
    "    else:\n",
    "        try:\n",
    "            my_ages.append(int(age))\n",
    "        except:\n",
    "            my_ages.append(w2n.word_to_num(age))"
   ]
  },
  {
   "cell_type": "code",
   "execution_count": 31,
   "id": "0a9aec3e-864f-4087-8d07-447c7d8b2f90",
   "metadata": {},
   "outputs": [
    {
     "name": "stdout",
     "output_type": "stream",
     "text": [
      "<class 'pandas.core.frame.DataFrame'>\n",
      "RangeIndex: 260 entries, 0 to 259\n",
      "Data columns (total 7 columns):\n",
      " #   Column             Non-Null Count  Dtype  \n",
      "---  ------             --------------  -----  \n",
      " 0   customerid         260 non-null    object \n",
      " 1   age                254 non-null    float64\n",
      " 2   gender             260 non-null    object \n",
      " 3   annual_income      189 non-null    object \n",
      " 4   spending_score     251 non-null    float64\n",
      " 5   last_purchase      247 non-null    object \n",
      " 6   membership_status  150 non-null    object \n",
      "dtypes: float64(2), object(5)\n",
      "memory usage: 14.3+ KB\n"
     ]
    }
   ],
   "source": [
    "df.age = my_ages\n",
    "df.info()"
   ]
  },
  {
   "cell_type": "code",
   "execution_count": 32,
   "id": "10d0ac65-be77-4602-8b38-4181c6e4c3c3",
   "metadata": {},
   "outputs": [
    {
     "data": {
      "text/html": [
       "<div>\n",
       "<style scoped>\n",
       "    .dataframe tbody tr th:only-of-type {\n",
       "        vertical-align: middle;\n",
       "    }\n",
       "\n",
       "    .dataframe tbody tr th {\n",
       "        vertical-align: top;\n",
       "    }\n",
       "\n",
       "    .dataframe thead th {\n",
       "        text-align: right;\n",
       "    }\n",
       "</style>\n",
       "<table border=\"1\" class=\"dataframe\">\n",
       "  <thead>\n",
       "    <tr style=\"text-align: right;\">\n",
       "      <th></th>\n",
       "      <th>customerid</th>\n",
       "      <th>age</th>\n",
       "      <th>gender</th>\n",
       "      <th>annual_income</th>\n",
       "      <th>spending_score</th>\n",
       "      <th>last_purchase</th>\n",
       "      <th>membership_status</th>\n",
       "    </tr>\n",
       "  </thead>\n",
       "  <tbody>\n",
       "    <tr>\n",
       "      <th>0</th>\n",
       "      <td>CUST1000</td>\n",
       "      <td>51.0</td>\n",
       "      <td>female</td>\n",
       "      <td>117866.9</td>\n",
       "      <td>81.0</td>\n",
       "      <td>Apr 30, 2024</td>\n",
       "      <td>Silver</td>\n",
       "    </tr>\n",
       "    <tr>\n",
       "      <th>1</th>\n",
       "      <td>CUST1001</td>\n",
       "      <td>33.0</td>\n",
       "      <td>male</td>\n",
       "      <td>25429.51 USD</td>\n",
       "      <td>58.0</td>\n",
       "      <td>2024-11-30</td>\n",
       "      <td>Silver</td>\n",
       "    </tr>\n",
       "    <tr>\n",
       "      <th>2</th>\n",
       "      <td>CUST1002</td>\n",
       "      <td>24.0</td>\n",
       "      <td>female</td>\n",
       "      <td>69437.33</td>\n",
       "      <td>30.0</td>\n",
       "      <td>28-02-2023</td>\n",
       "      <td>Gold</td>\n",
       "    </tr>\n",
       "    <tr>\n",
       "      <th>3</th>\n",
       "      <td>CUST1003</td>\n",
       "      <td>34.0</td>\n",
       "      <td>male</td>\n",
       "      <td>$105023.33</td>\n",
       "      <td>68.0</td>\n",
       "      <td>NaN</td>\n",
       "      <td>Silver</td>\n",
       "    </tr>\n",
       "    <tr>\n",
       "      <th>4</th>\n",
       "      <td>CUST1004</td>\n",
       "      <td>55.0</td>\n",
       "      <td>male</td>\n",
       "      <td>NaN</td>\n",
       "      <td>22.0</td>\n",
       "      <td>05-02-2023</td>\n",
       "      <td>Silver</td>\n",
       "    </tr>\n",
       "  </tbody>\n",
       "</table>\n",
       "</div>"
      ],
      "text/plain": [
       "  customerid   age  gender annual_income  spending_score last_purchase  \\\n",
       "0   CUST1000  51.0  female      117866.9            81.0  Apr 30, 2024   \n",
       "1   CUST1001  33.0    male  25429.51 USD            58.0    2024-11-30   \n",
       "2   CUST1002  24.0  female      69437.33            30.0    28-02-2023   \n",
       "3   CUST1003  34.0    male    $105023.33            68.0           NaN   \n",
       "4   CUST1004  55.0    male           NaN            22.0    05-02-2023   \n",
       "\n",
       "  membership_status  \n",
       "0            Silver  \n",
       "1            Silver  \n",
       "2              Gold  \n",
       "3            Silver  \n",
       "4            Silver  "
      ]
     },
     "execution_count": 32,
     "metadata": {},
     "output_type": "execute_result"
    }
   ],
   "source": [
    "df.head()"
   ]
  },
  {
   "cell_type": "code",
   "execution_count": 36,
   "id": "b4934b01-d191-4163-914a-bcaa4f83ef38",
   "metadata": {},
   "outputs": [
    {
     "data": {
      "text/plain": [
       "43"
      ]
     },
     "execution_count": 36,
     "metadata": {},
     "output_type": "execute_result"
    }
   ],
   "source": [
    "mean = int(df.age.mean())\n",
    "mean"
   ]
  },
  {
   "cell_type": "code",
   "execution_count": 37,
   "id": "71d226be-d958-490c-a5ca-f8e1d9fc2eb0",
   "metadata": {},
   "outputs": [],
   "source": [
    "df.age.fillna(mean, inplace=True)"
   ]
  },
  {
   "cell_type": "code",
   "execution_count": 38,
   "id": "3fa42ee9-4973-4b6c-988e-0dea8450cf0f",
   "metadata": {},
   "outputs": [
    {
     "name": "stdout",
     "output_type": "stream",
     "text": [
      "<class 'pandas.core.frame.DataFrame'>\n",
      "RangeIndex: 260 entries, 0 to 259\n",
      "Data columns (total 7 columns):\n",
      " #   Column             Non-Null Count  Dtype  \n",
      "---  ------             --------------  -----  \n",
      " 0   customerid         260 non-null    object \n",
      " 1   age                260 non-null    float64\n",
      " 2   gender             260 non-null    object \n",
      " 3   annual_income      189 non-null    object \n",
      " 4   spending_score     251 non-null    float64\n",
      " 5   last_purchase      247 non-null    object \n",
      " 6   membership_status  150 non-null    object \n",
      "dtypes: float64(2), object(5)\n",
      "memory usage: 14.3+ KB\n"
     ]
    }
   ],
   "source": [
    "df.info()"
   ]
  },
  {
   "cell_type": "code",
   "execution_count": 54,
   "id": "9a33faf3-40c2-4611-8c94-eea4851d7bd4",
   "metadata": {},
   "outputs": [],
   "source": [
    "df_new = df.dropna(ignore_index=True) "
   ]
  },
  {
   "cell_type": "code",
   "execution_count": 55,
   "id": "f9b4ab58-4253-49d6-9ef6-58b77dd113a3",
   "metadata": {},
   "outputs": [
    {
     "name": "stdout",
     "output_type": "stream",
     "text": [
      "<class 'pandas.core.frame.DataFrame'>\n",
      "RangeIndex: 100 entries, 0 to 99\n",
      "Data columns (total 7 columns):\n",
      " #   Column             Non-Null Count  Dtype  \n",
      "---  ------             --------------  -----  \n",
      " 0   customerid         100 non-null    object \n",
      " 1   age                100 non-null    float64\n",
      " 2   gender             100 non-null    object \n",
      " 3   annual_income      100 non-null    object \n",
      " 4   spending_score     100 non-null    float64\n",
      " 5   last_purchase      100 non-null    object \n",
      " 6   membership_status  100 non-null    object \n",
      "dtypes: float64(2), object(5)\n",
      "memory usage: 5.6+ KB\n"
     ]
    }
   ],
   "source": [
    "df_new.info()"
   ]
  },
  {
   "cell_type": "code",
   "execution_count": 56,
   "id": "7ab41f21-5ecf-4443-ad3c-ee12d7595372",
   "metadata": {},
   "outputs": [
    {
     "data": {
      "text/plain": [
       "array(['117866.9', '25429.51', '69437.33', '53010.8', '56319.18',\n",
       "       '93770.45', '53458.89', '119448.96', '45311.03', '113130.57',\n",
       "       '93628.73', '52179.17', '33281.88', '97151.63', '117394.73',\n",
       "       '67238.35', '42883.28', '103875.44', '99610.32', '99154.69',\n",
       "       '25151.87', '72518.68', '63429.88', '57190.37', '52640.52',\n",
       "       '107107.08', '61793.1', '98723.88', '59249.69', '96995.23',\n",
       "       '62780.29', '42548.34', '87248.7', '72508.34', '30406.91',\n",
       "       '39141.02', '53686.16', '88718.52', '66969.5', '89317.54',\n",
       "       '38671.3', '49711.38', '42797.02', '36355.9', '62742.59',\n",
       "       '94809.74', '32917.04', '58184.84', '83005.38', '68260.55',\n",
       "       '74001.28', '109416.18', '33514.52', '54534.32', '44690.62',\n",
       "       '25895.24', '71536.94', '102459.07', '59737.4', '95603.59',\n",
       "       '97794.17', '62410.42', '58746.55', '92311.66', '63726.8',\n",
       "       '28570.8', '117700.06', '90079.23', '78828.41', '30222.74',\n",
       "       '63756.32', '53418.23', '56501.66', '81937.82', '108764.01',\n",
       "       '29142.64', '94635.59', '40550.15', '114980.23', '72937.4',\n",
       "       '93225.13', '69066.18', '82353.74', '98085.67', '37869.03',\n",
       "       '41548.23', '34152.55', '62240.16', '100584.35', '21463.07',\n",
       "       '65333.91', '116650.64', '104427.69', '22594.74', '110868.99',\n",
       "       '32201.83', '102396.98'], dtype=object)"
      ]
     },
     "execution_count": 56,
     "metadata": {},
     "output_type": "execute_result"
    }
   ],
   "source": [
    "df_new.annual_income.unique()"
   ]
  },
  {
   "cell_type": "code",
   "execution_count": 57,
   "id": "9bfb8b18-e75c-41e5-8c50-220042f053ea",
   "metadata": {},
   "outputs": [
    {
     "name": "stderr",
     "output_type": "stream",
     "text": [
      "C:\\Users\\SourceBird\\AppData\\Local\\Temp\\ipykernel_14468\\2369537876.py:1: SettingWithCopyWarning: \n",
      "A value is trying to be set on a copy of a slice from a DataFrame.\n",
      "Try using .loc[row_indexer,col_indexer] = value instead\n",
      "\n",
      "See the caveats in the documentation: https://pandas.pydata.org/pandas-docs/stable/user_guide/indexing.html#returning-a-view-versus-a-copy\n",
      "  df_new.annual_income = df_new.annual_income.str.lower().str.replace(\"$\", \"\").str.replace(\"usd\", \"\").str.strip()\n"
     ]
    }
   ],
   "source": [
    "df_new.annual_income = df_new.annual_income.str.lower().str.replace(\"$\", \"\").str.replace(\"usd\", \"\").str.strip()"
   ]
  },
  {
   "cell_type": "code",
   "execution_count": 58,
   "id": "33a02d90-79be-4577-b086-8c7694c9710e",
   "metadata": {},
   "outputs": [
    {
     "data": {
      "text/plain": [
       "array(['117866.9', '25429.51', '69437.33', '53010.8', '56319.18',\n",
       "       '93770.45', '53458.89', '119448.96', '45311.03', '113130.57',\n",
       "       '93628.73', '52179.17', '33281.88', '97151.63', '117394.73',\n",
       "       '67238.35', '42883.28', '103875.44', '99610.32', '99154.69',\n",
       "       '25151.87', '72518.68', '63429.88', '57190.37', '52640.52',\n",
       "       '107107.08', '61793.1', '98723.88', '59249.69', '96995.23',\n",
       "       '62780.29', '42548.34', '87248.7', '72508.34', '30406.91',\n",
       "       '39141.02', '53686.16', '88718.52', '66969.5', '89317.54',\n",
       "       '38671.3', '49711.38', '42797.02', '36355.9', '62742.59',\n",
       "       '94809.74', '32917.04', '58184.84', '83005.38', '68260.55',\n",
       "       '74001.28', '109416.18', '33514.52', '54534.32', '44690.62',\n",
       "       '25895.24', '71536.94', '102459.07', '59737.4', '95603.59',\n",
       "       '97794.17', '62410.42', '58746.55', '92311.66', '63726.8',\n",
       "       '28570.8', '117700.06', '90079.23', '78828.41', '30222.74',\n",
       "       '63756.32', '53418.23', '56501.66', '81937.82', '108764.01',\n",
       "       '29142.64', '94635.59', '40550.15', '114980.23', '72937.4',\n",
       "       '93225.13', '69066.18', '82353.74', '98085.67', '37869.03',\n",
       "       '41548.23', '34152.55', '62240.16', '100584.35', '21463.07',\n",
       "       '65333.91', '116650.64', '104427.69', '22594.74', '110868.99',\n",
       "       '32201.83', '102396.98'], dtype=object)"
      ]
     },
     "execution_count": 58,
     "metadata": {},
     "output_type": "execute_result"
    }
   ],
   "source": [
    "df_new.annual_income.unique()"
   ]
  },
  {
   "cell_type": "code",
   "execution_count": 59,
   "id": "60134735-12c6-4002-848e-2a9cbfda1812",
   "metadata": {},
   "outputs": [
    {
     "name": "stderr",
     "output_type": "stream",
     "text": [
      "C:\\Users\\SourceBird\\AppData\\Local\\Temp\\ipykernel_14468\\3020398864.py:1: SettingWithCopyWarning: \n",
      "A value is trying to be set on a copy of a slice from a DataFrame.\n",
      "Try using .loc[row_indexer,col_indexer] = value instead\n",
      "\n",
      "See the caveats in the documentation: https://pandas.pydata.org/pandas-docs/stable/user_guide/indexing.html#returning-a-view-versus-a-copy\n",
      "  df_new.annual_income = pd.to_numeric(df_new.annual_income)\n"
     ]
    }
   ],
   "source": [
    "df_new.annual_income = pd.to_numeric(df_new.annual_income)"
   ]
  },
  {
   "cell_type": "code",
   "execution_count": 60,
   "id": "b275694b-3b94-472a-9a2c-170af07d6bba",
   "metadata": {},
   "outputs": [
    {
     "name": "stdout",
     "output_type": "stream",
     "text": [
      "<class 'pandas.core.frame.DataFrame'>\n",
      "RangeIndex: 100 entries, 0 to 99\n",
      "Data columns (total 7 columns):\n",
      " #   Column             Non-Null Count  Dtype  \n",
      "---  ------             --------------  -----  \n",
      " 0   customerid         100 non-null    object \n",
      " 1   age                100 non-null    float64\n",
      " 2   gender             100 non-null    object \n",
      " 3   annual_income      100 non-null    float64\n",
      " 4   spending_score     100 non-null    float64\n",
      " 5   last_purchase      100 non-null    object \n",
      " 6   membership_status  100 non-null    object \n",
      "dtypes: float64(3), object(4)\n",
      "memory usage: 5.6+ KB\n"
     ]
    }
   ],
   "source": [
    "df_new.info()"
   ]
  },
  {
   "cell_type": "code",
   "execution_count": 61,
   "id": "577eeecd-0228-4fab-9290-858f6c9ec29c",
   "metadata": {},
   "outputs": [
    {
     "data": {
      "text/html": [
       "<div>\n",
       "<style scoped>\n",
       "    .dataframe tbody tr th:only-of-type {\n",
       "        vertical-align: middle;\n",
       "    }\n",
       "\n",
       "    .dataframe tbody tr th {\n",
       "        vertical-align: top;\n",
       "    }\n",
       "\n",
       "    .dataframe thead th {\n",
       "        text-align: right;\n",
       "    }\n",
       "</style>\n",
       "<table border=\"1\" class=\"dataframe\">\n",
       "  <thead>\n",
       "    <tr style=\"text-align: right;\">\n",
       "      <th></th>\n",
       "      <th>customerid</th>\n",
       "      <th>age</th>\n",
       "      <th>gender</th>\n",
       "      <th>annual_income</th>\n",
       "      <th>spending_score</th>\n",
       "      <th>last_purchase</th>\n",
       "      <th>membership_status</th>\n",
       "    </tr>\n",
       "  </thead>\n",
       "  <tbody>\n",
       "    <tr>\n",
       "      <th>0</th>\n",
       "      <td>CUST1000</td>\n",
       "      <td>51.0</td>\n",
       "      <td>female</td>\n",
       "      <td>117866.90</td>\n",
       "      <td>81.0</td>\n",
       "      <td>Apr 30, 2024</td>\n",
       "      <td>Silver</td>\n",
       "    </tr>\n",
       "    <tr>\n",
       "      <th>1</th>\n",
       "      <td>CUST1001</td>\n",
       "      <td>33.0</td>\n",
       "      <td>male</td>\n",
       "      <td>25429.51</td>\n",
       "      <td>58.0</td>\n",
       "      <td>2024-11-30</td>\n",
       "      <td>Silver</td>\n",
       "    </tr>\n",
       "    <tr>\n",
       "      <th>2</th>\n",
       "      <td>CUST1002</td>\n",
       "      <td>24.0</td>\n",
       "      <td>female</td>\n",
       "      <td>69437.33</td>\n",
       "      <td>30.0</td>\n",
       "      <td>28-02-2023</td>\n",
       "      <td>Gold</td>\n",
       "    </tr>\n",
       "    <tr>\n",
       "      <th>3</th>\n",
       "      <td>CUST1007</td>\n",
       "      <td>33.0</td>\n",
       "      <td>female</td>\n",
       "      <td>53010.80</td>\n",
       "      <td>13.0</td>\n",
       "      <td>2024-03-09</td>\n",
       "      <td>Silver</td>\n",
       "    </tr>\n",
       "    <tr>\n",
       "      <th>4</th>\n",
       "      <td>CUST1009</td>\n",
       "      <td>50.0</td>\n",
       "      <td>female</td>\n",
       "      <td>56319.18</td>\n",
       "      <td>61.0</td>\n",
       "      <td>03/01/2023</td>\n",
       "      <td>Bronze</td>\n",
       "    </tr>\n",
       "  </tbody>\n",
       "</table>\n",
       "</div>"
      ],
      "text/plain": [
       "  customerid   age  gender  annual_income  spending_score last_purchase  \\\n",
       "0   CUST1000  51.0  female      117866.90            81.0  Apr 30, 2024   \n",
       "1   CUST1001  33.0    male       25429.51            58.0    2024-11-30   \n",
       "2   CUST1002  24.0  female       69437.33            30.0    28-02-2023   \n",
       "3   CUST1007  33.0  female       53010.80            13.0    2024-03-09   \n",
       "4   CUST1009  50.0  female       56319.18            61.0    03/01/2023   \n",
       "\n",
       "  membership_status  \n",
       "0            Silver  \n",
       "1            Silver  \n",
       "2              Gold  \n",
       "3            Silver  \n",
       "4            Bronze  "
      ]
     },
     "execution_count": 61,
     "metadata": {},
     "output_type": "execute_result"
    }
   ],
   "source": [
    "df_new.head()"
   ]
  },
  {
   "cell_type": "code",
   "execution_count": 64,
   "id": "77b0b2cf-92bb-474f-ae17-cf7e0432c14f",
   "metadata": {},
   "outputs": [
    {
     "name": "stderr",
     "output_type": "stream",
     "text": [
      "C:\\Users\\SourceBird\\AppData\\Local\\Temp\\ipykernel_14468\\769852875.py:1: SettingWithCopyWarning: \n",
      "A value is trying to be set on a copy of a slice from a DataFrame.\n",
      "Try using .loc[row_indexer,col_indexer] = value instead\n",
      "\n",
      "See the caveats in the documentation: https://pandas.pydata.org/pandas-docs/stable/user_guide/indexing.html#returning-a-view-versus-a-copy\n",
      "  df_new.last_purchase = pd.to_datetime(df_new.last_purchase,format='mixed' )\n"
     ]
    }
   ],
   "source": [
    "df_new.last_purchase = pd.to_datetime(df_new.last_purchase,format='mixed' )"
   ]
  },
  {
   "cell_type": "code",
   "execution_count": 65,
   "id": "73192479-c431-461e-b0a5-68476e3f1bc0",
   "metadata": {},
   "outputs": [
    {
     "name": "stdout",
     "output_type": "stream",
     "text": [
      "<class 'pandas.core.frame.DataFrame'>\n",
      "RangeIndex: 100 entries, 0 to 99\n",
      "Data columns (total 7 columns):\n",
      " #   Column             Non-Null Count  Dtype         \n",
      "---  ------             --------------  -----         \n",
      " 0   customerid         100 non-null    object        \n",
      " 1   age                100 non-null    float64       \n",
      " 2   gender             100 non-null    object        \n",
      " 3   annual_income      100 non-null    float64       \n",
      " 4   spending_score     100 non-null    float64       \n",
      " 5   last_purchase      100 non-null    datetime64[ns]\n",
      " 6   membership_status  100 non-null    object        \n",
      "dtypes: datetime64[ns](1), float64(3), object(3)\n",
      "memory usage: 5.6+ KB\n"
     ]
    }
   ],
   "source": [
    "df_new.info()"
   ]
  },
  {
   "cell_type": "code",
   "execution_count": 116,
   "id": "39a1cfbc-a9c1-4005-9822-88d23b6a487c",
   "metadata": {},
   "outputs": [],
   "source": [
    "df_new.membership_status = df_new.membership_status.str.strip().str.lower()"
   ]
  },
  {
   "cell_type": "code",
   "execution_count": 67,
   "id": "3f8e8eb3-69bd-4070-94f9-2f66fc3934fc",
   "metadata": {},
   "outputs": [],
   "source": [
    "df_new = df_new.drop_duplicates()"
   ]
  },
  {
   "cell_type": "code",
   "execution_count": 68,
   "id": "18c66e70-0c11-4a77-b60d-1716a1b58263",
   "metadata": {},
   "outputs": [
    {
     "data": {
      "text/html": [
       "<div>\n",
       "<style scoped>\n",
       "    .dataframe tbody tr th:only-of-type {\n",
       "        vertical-align: middle;\n",
       "    }\n",
       "\n",
       "    .dataframe tbody tr th {\n",
       "        vertical-align: top;\n",
       "    }\n",
       "\n",
       "    .dataframe thead th {\n",
       "        text-align: right;\n",
       "    }\n",
       "</style>\n",
       "<table border=\"1\" class=\"dataframe\">\n",
       "  <thead>\n",
       "    <tr style=\"text-align: right;\">\n",
       "      <th></th>\n",
       "      <th>customerid</th>\n",
       "      <th>age</th>\n",
       "      <th>gender</th>\n",
       "      <th>annual_income</th>\n",
       "      <th>spending_score</th>\n",
       "      <th>last_purchase</th>\n",
       "      <th>membership_status</th>\n",
       "    </tr>\n",
       "  </thead>\n",
       "  <tbody>\n",
       "    <tr>\n",
       "      <th>0</th>\n",
       "      <td>CUST1000</td>\n",
       "      <td>51.0</td>\n",
       "      <td>female</td>\n",
       "      <td>117866.90</td>\n",
       "      <td>81.0</td>\n",
       "      <td>2024-04-30</td>\n",
       "      <td>Silver</td>\n",
       "    </tr>\n",
       "    <tr>\n",
       "      <th>1</th>\n",
       "      <td>CUST1001</td>\n",
       "      <td>33.0</td>\n",
       "      <td>male</td>\n",
       "      <td>25429.51</td>\n",
       "      <td>58.0</td>\n",
       "      <td>2024-11-30</td>\n",
       "      <td>Silver</td>\n",
       "    </tr>\n",
       "    <tr>\n",
       "      <th>2</th>\n",
       "      <td>CUST1002</td>\n",
       "      <td>24.0</td>\n",
       "      <td>female</td>\n",
       "      <td>69437.33</td>\n",
       "      <td>30.0</td>\n",
       "      <td>2023-02-28</td>\n",
       "      <td>Gold</td>\n",
       "    </tr>\n",
       "    <tr>\n",
       "      <th>3</th>\n",
       "      <td>CUST1007</td>\n",
       "      <td>33.0</td>\n",
       "      <td>female</td>\n",
       "      <td>53010.80</td>\n",
       "      <td>13.0</td>\n",
       "      <td>2024-03-09</td>\n",
       "      <td>Silver</td>\n",
       "    </tr>\n",
       "    <tr>\n",
       "      <th>4</th>\n",
       "      <td>CUST1009</td>\n",
       "      <td>50.0</td>\n",
       "      <td>female</td>\n",
       "      <td>56319.18</td>\n",
       "      <td>61.0</td>\n",
       "      <td>2023-03-01</td>\n",
       "      <td>Bronze</td>\n",
       "    </tr>\n",
       "  </tbody>\n",
       "</table>\n",
       "</div>"
      ],
      "text/plain": [
       "  customerid   age  gender  annual_income  spending_score last_purchase  \\\n",
       "0   CUST1000  51.0  female      117866.90            81.0    2024-04-30   \n",
       "1   CUST1001  33.0    male       25429.51            58.0    2024-11-30   \n",
       "2   CUST1002  24.0  female       69437.33            30.0    2023-02-28   \n",
       "3   CUST1007  33.0  female       53010.80            13.0    2024-03-09   \n",
       "4   CUST1009  50.0  female       56319.18            61.0    2023-03-01   \n",
       "\n",
       "  membership_status  \n",
       "0            Silver  \n",
       "1            Silver  \n",
       "2              Gold  \n",
       "3            Silver  \n",
       "4            Bronze  "
      ]
     },
     "execution_count": 68,
     "metadata": {},
     "output_type": "execute_result"
    }
   ],
   "source": [
    "df_new.head()"
   ]
  },
  {
   "cell_type": "code",
   "execution_count": 70,
   "id": "4a916a91-9152-4339-96ee-607ef30fdb7f",
   "metadata": {},
   "outputs": [
    {
     "name": "stdout",
     "output_type": "stream",
     "text": [
      "<class 'pandas.core.frame.DataFrame'>\n",
      "Index: 97 entries, 0 to 96\n",
      "Data columns (total 7 columns):\n",
      " #   Column             Non-Null Count  Dtype         \n",
      "---  ------             --------------  -----         \n",
      " 0   customerid         97 non-null     object        \n",
      " 1   age                97 non-null     float64       \n",
      " 2   gender             97 non-null     object        \n",
      " 3   annual_income      97 non-null     float64       \n",
      " 4   spending_score     97 non-null     float64       \n",
      " 5   last_purchase      97 non-null     datetime64[ns]\n",
      " 6   membership_status  97 non-null     object        \n",
      "dtypes: datetime64[ns](1), float64(3), object(3)\n",
      "memory usage: 6.1+ KB\n"
     ]
    }
   ],
   "source": [
    "df_new.info()"
   ]
  },
  {
   "cell_type": "code",
   "execution_count": null,
   "id": "94b83fff-4c47-4878-9450-c39b9b5737eb",
   "metadata": {},
   "outputs": [],
   "source": [
    "# visualiztion"
   ]
  },
  {
   "cell_type": "code",
   "execution_count": 81,
   "id": "d5c1337e-0e21-4950-b5a6-e849815190b3",
   "metadata": {},
   "outputs": [
    {
     "data": {
      "image/png": "[encoded data removed]",
      "text/plain": [
       "<Figure size 640x480 with 1 Axes>"
      ]
     },
     "metadata": {},
     "output_type": "display_data"
    }
   ],
   "source": [
    "# histtype : {'bar', 'barstacked', 'step', 'stepfilled'}\n",
    "plt.hist(df_new.age.values,  histtype='barstacked', )#rwidth=0.8)\n",
    "plt.title(\"histogram of our ages\")\n",
    "plt.xlabel(\"the various ages\")\n",
    "plt.ylabel(\"thier frequency of occourence\")\n",
    "plt.show()"
   ]
  },
  {
   "cell_type": "code",
   "execution_count": 111,
   "id": "dccca17f-5a8b-46e8-8a75-f85753f3fac2",
   "metadata": {},
   "outputs": [],
   "source": [
    "females = len(list(filter(lambda x:  x, (df_new.gender == \"female\").values)))"
   ]
  },
  {
   "cell_type": "code",
   "execution_count": 112,
   "id": "56b41fce-bd2e-4e97-8709-49cab2206a80",
   "metadata": {},
   "outputs": [
    {
     "data": {
      "text/plain": [
       "{'females': 55, 'males': 42}"
      ]
     },
     "execution_count": 112,
     "metadata": {},
     "output_type": "execute_result"
    }
   ],
   "source": [
    "males = df_new.gender.count() - females\n",
    "{ 'females': females, 'males': int(males)}"
   ]
  },
  {
   "cell_type": "code",
   "execution_count": 109,
   "id": "495a489d-a011-4065-9b20-3843a53f74a5",
   "metadata": {},
   "outputs": [
    {
     "data": {
      "text/plain": [
       "{'female': 55, 'male': 42}"
      ]
     },
     "execution_count": 109,
     "metadata": {},
     "output_type": "execute_result"
    }
   ],
   "source": [
    "gender_count = {}\n",
    "\n",
    "for g in df_new.gender.values:\n",
    "    if gender_count.get(g) == None:\n",
    "        gender_count[g] = 0\n",
    "    gender_count[g] += 1\n",
    "gender_count"
   ]
  },
  {
   "cell_type": "code",
   "execution_count": 110,
   "id": "5150f542-78a3-4a61-81a0-77f8984cb247",
   "metadata": {},
   "outputs": [
    {
     "data": {
      "image/png": "[encoded data removed]",
      "text/plain": [
       "<Figure size 1000x300 with 1 Axes>"
      ]
     },
     "metadata": {},
     "output_type": "display_data"
    }
   ],
   "source": [
    "plt.figure(figsize=(10, 3))\n",
    "\n",
    "x = gender_count.keys()\n",
    "y = gender_count.values()\n",
    "plt.bar(x, height=y)\n",
    "plt.show()\n"
   ]
  },
  {
   "cell_type": "code",
   "execution_count": 113,
   "id": "1ff39a20-29bd-425d-b269-38020347e814",
   "metadata": {},
   "outputs": [
    {
     "data": {
      "text/html": [
       "<div>\n",
       "<style scoped>\n",
       "    .dataframe tbody tr th:only-of-type {\n",
       "        vertical-align: middle;\n",
       "    }\n",
       "\n",
       "    .dataframe tbody tr th {\n",
       "        vertical-align: top;\n",
       "    }\n",
       "\n",
       "    .dataframe thead th {\n",
       "        text-align: right;\n",
       "    }\n",
       "</style>\n",
       "<table border=\"1\" class=\"dataframe\">\n",
       "  <thead>\n",
       "    <tr style=\"text-align: right;\">\n",
       "      <th></th>\n",
       "      <th>customerid</th>\n",
       "      <th>age</th>\n",
       "      <th>gender</th>\n",
       "      <th>annual_income</th>\n",
       "      <th>spending_score</th>\n",
       "      <th>last_purchase</th>\n",
       "      <th>membership_status</th>\n",
       "    </tr>\n",
       "  </thead>\n",
       "  <tbody>\n",
       "    <tr>\n",
       "      <th>0</th>\n",
       "      <td>CUST1000</td>\n",
       "      <td>51.0</td>\n",
       "      <td>female</td>\n",
       "      <td>117866.90</td>\n",
       "      <td>81.0</td>\n",
       "      <td>2024-04-30</td>\n",
       "      <td>Silver</td>\n",
       "    </tr>\n",
       "    <tr>\n",
       "      <th>1</th>\n",
       "      <td>CUST1001</td>\n",
       "      <td>33.0</td>\n",
       "      <td>male</td>\n",
       "      <td>25429.51</td>\n",
       "      <td>58.0</td>\n",
       "      <td>2024-11-30</td>\n",
       "      <td>Silver</td>\n",
       "    </tr>\n",
       "    <tr>\n",
       "      <th>2</th>\n",
       "      <td>CUST1002</td>\n",
       "      <td>24.0</td>\n",
       "      <td>female</td>\n",
       "      <td>69437.33</td>\n",
       "      <td>30.0</td>\n",
       "      <td>2023-02-28</td>\n",
       "      <td>Gold</td>\n",
       "    </tr>\n",
       "    <tr>\n",
       "      <th>3</th>\n",
       "      <td>CUST1007</td>\n",
       "      <td>33.0</td>\n",
       "      <td>female</td>\n",
       "      <td>53010.80</td>\n",
       "      <td>13.0</td>\n",
       "      <td>2024-03-09</td>\n",
       "      <td>Silver</td>\n",
       "    </tr>\n",
       "    <tr>\n",
       "      <th>4</th>\n",
       "      <td>CUST1009</td>\n",
       "      <td>50.0</td>\n",
       "      <td>female</td>\n",
       "      <td>56319.18</td>\n",
       "      <td>61.0</td>\n",
       "      <td>2023-03-01</td>\n",
       "      <td>Bronze</td>\n",
       "    </tr>\n",
       "  </tbody>\n",
       "</table>\n",
       "</div>"
      ],
      "text/plain": [
       "  customerid   age  gender  annual_income  spending_score last_purchase  \\\n",
       "0   CUST1000  51.0  female      117866.90            81.0    2024-04-30   \n",
       "1   CUST1001  33.0    male       25429.51            58.0    2024-11-30   \n",
       "2   CUST1002  24.0  female       69437.33            30.0    2023-02-28   \n",
       "3   CUST1007  33.0  female       53010.80            13.0    2024-03-09   \n",
       "4   CUST1009  50.0  female       56319.18            61.0    2023-03-01   \n",
       "\n",
       "  membership_status  \n",
       "0            Silver  \n",
       "1            Silver  \n",
       "2              Gold  \n",
       "3            Silver  \n",
       "4            Bronze  "
      ]
     },
     "execution_count": 113,
     "metadata": {},
     "output_type": "execute_result"
    }
   ],
   "source": [
    "df_new.head()"
   ]
  },
  {
   "cell_type": "code",
   "execution_count": 117,
   "id": "1fa9f5d3-11d2-461c-a7c4-7093c8d88aab",
   "metadata": {},
   "outputs": [
    {
     "data": {
      "text/plain": [
       "array(['silver', 'gold', 'bronze'], dtype=object)"
      ]
     },
     "execution_count": 117,
     "metadata": {},
     "output_type": "execute_result"
    }
   ],
   "source": [
    "df_new.membership_status.unique()"
   ]
  },
  {
   "cell_type": "code",
   "execution_count": 118,
   "id": "c4fad9c4-a2b2-47fd-990a-59833b31f386",
   "metadata": {},
   "outputs": [
    {
     "data": {
      "text/plain": [
       "{'silver': 30, 'gold': 43, 'bronze': 24}"
      ]
     },
     "execution_count": 118,
     "metadata": {},
     "output_type": "execute_result"
    }
   ],
   "source": [
    "membership_count = {}\n",
    "\n",
    "for m in df_new.membership_status.values:\n",
    "    if membership_count.get(m) == None:\n",
    "        membership_count[m] = 0\n",
    "    membership_count[m] += 1\n",
    "membership_count"
   ]
  },
  {
   "cell_type": "code",
   "execution_count": 123,
   "id": "da1e0795-5a2f-4c01-a493-997c8b68c8b2",
   "metadata": {},
   "outputs": [
    {
     "data": {
      "image/png": "[encoded data removed]",
      "text/plain": [
       "<Figure size 300x300 with 1 Axes>"
      ]
     },
     "metadata": {},
     "output_type": "display_data"
    }
   ],
   "source": [
    "plt.figure(figsize=(3, 3))\n",
    "y = membership_count.values()\n",
    "labels = membership_count.keys()\n",
    "explode=[0.1, 0, 0] #optional\n",
    "plt.pie(y, labels=labels, explode=explode)\n",
    "plt.show()"
   ]
  },
  {
   "cell_type": "code",
   "execution_count": 127,
   "id": "a0c6ad80-633f-4d86-a844-f8a3e6fa4cf7",
   "metadata": {},
   "outputs": [
    {
     "data": {
      "image/png": "[encoded data removed]",
      "text/plain": [
       "<Figure size 640x480 with 1 Axes>"
      ]
     },
     "metadata": {},
     "output_type": "display_data"
    }
   ],
   "source": [
    "y = df_new.annual_income.values\n",
    "x = df_new.spending_score.values\n",
    "\n",
    "plt.scatter(x, y)\n",
    "plt.xlabel(\"spending_score\")\n",
    "plt.ylabel(\"annual_income\")\n",
    "plt.title(\"annual income vs spending scor\")\n",
    "plt.show()"
   ]
  },
  {
   "cell_type": "code",
   "execution_count": 130,
   "id": "b55d44ca-a5aa-4cd8-9cf3-7bd02f58d2f6",
   "metadata": {},
   "outputs": [
    {
     "data": {
      "text/plain": [
       "0     silver\n",
       "1     silver\n",
       "2       gold\n",
       "3     silver\n",
       "4     bronze\n",
       "       ...  \n",
       "92      gold\n",
       "93      gold\n",
       "94      gold\n",
       "95    silver\n",
       "96    silver\n",
       "Name: membership_status, Length: 97, dtype: object"
      ]
     },
     "execution_count": 130,
     "metadata": {},
     "output_type": "execute_result"
    }
   ],
   "source": [
    "df_new.spending_score\n",
    "df_new.membership_status"
   ]
  },
  {
   "cell_type": "code",
   "execution_count": 135,
   "id": "dc22fb71-08b7-4a32-867f-b93dc2ed1fec",
   "metadata": {},
   "outputs": [
    {
     "data": {
      "text/html": [
       "<div>\n",
       "<style scoped>\n",
       "    .dataframe tbody tr th:only-of-type {\n",
       "        vertical-align: middle;\n",
       "    }\n",
       "\n",
       "    .dataframe tbody tr th {\n",
       "        vertical-align: top;\n",
       "    }\n",
       "\n",
       "    .dataframe thead th {\n",
       "        text-align: right;\n",
       "    }\n",
       "</style>\n",
       "<table border=\"1\" class=\"dataframe\">\n",
       "  <thead>\n",
       "    <tr style=\"text-align: right;\">\n",
       "      <th></th>\n",
       "      <th>customerid</th>\n",
       "      <th>age</th>\n",
       "      <th>annual_income</th>\n",
       "      <th>spending_score</th>\n",
       "      <th>last_purchase</th>\n",
       "      <th>membership_status</th>\n",
       "    </tr>\n",
       "    <tr>\n",
       "      <th>gender</th>\n",
       "      <th></th>\n",
       "      <th></th>\n",
       "      <th></th>\n",
       "      <th></th>\n",
       "      <th></th>\n",
       "      <th></th>\n",
       "    </tr>\n",
       "  </thead>\n",
       "  <tbody>\n",
       "    <tr>\n",
       "      <th>female</th>\n",
       "      <td>55</td>\n",
       "      <td>55</td>\n",
       "      <td>55</td>\n",
       "      <td>55</td>\n",
       "      <td>55</td>\n",
       "      <td>55</td>\n",
       "    </tr>\n",
       "    <tr>\n",
       "      <th>male</th>\n",
       "      <td>42</td>\n",
       "      <td>42</td>\n",
       "      <td>42</td>\n",
       "      <td>42</td>\n",
       "      <td>42</td>\n",
       "      <td>42</td>\n",
       "    </tr>\n",
       "  </tbody>\n",
       "</table>\n",
       "</div>"
      ],
      "text/plain": [
       "        customerid  age  annual_income  spending_score  last_purchase  \\\n",
       "gender                                                                  \n",
       "female          55   55             55              55             55   \n",
       "male            42   42             42              42             42   \n",
       "\n",
       "        membership_status  \n",
       "gender                     \n",
       "female                 55  \n",
       "male                   42  "
      ]
     },
     "execution_count": 135,
     "metadata": {},
     "output_type": "execute_result"
    }
   ],
   "source": [
    "df_new.groupby('gender').count().apply(list)"
   ]
  },
  {
   "cell_type": "code",
   "execution_count": 136,
   "id": "ae56a6d7-49a7-4426-9452-30528ba4bcbb",
   "metadata": {},
   "outputs": [],
   "source": [
    "spend_grouping = df_new.groupby('membership_status')['spending_score'].apply(list)"
   ]
  },
  {
   "cell_type": "code",
   "execution_count": 139,
   "id": "52ca6122-7146-4163-8e8c-eacbba426097",
   "metadata": {},
   "outputs": [
    {
     "data": {
      "text/plain": [
       "Index(['bronze', 'gold', 'silver'], dtype='object', name='membership_status')"
      ]
     },
     "execution_count": 139,
     "metadata": {},
     "output_type": "execute_result"
    }
   ],
   "source": [
    "spend_grouping.index"
   ]
  },
  {
   "cell_type": "code",
   "execution_count": 143,
   "id": "a121c3be-a440-4db4-bc9e-2c8963bdc733",
   "metadata": {},
   "outputs": [
    {
     "data": {
      "image/png": "[encoded data removed]",
      "text/plain": [
       "<Figure size 300x300 with 1 Axes>"
      ]
     },
     "metadata": {},
     "output_type": "display_data"
    }
   ],
   "source": [
    "plt.figure(figsize=(3, 3))\n",
    "plt.boxplot(spend_grouping, label=list(spend_grouping.index))\n",
    "plt.show()"
   ]
  },
  {
   "cell_type": "code",
   "execution_count": 144,
   "id": "1354126d-c6bd-4440-b0b9-a9b7cd76e652",
   "metadata": {},
   "outputs": [],
   "source": [
    "import streamlit as st"
   ]
  },
  {
   "cell_type": "code",
   "execution_count": null,
   "id": "85c63799-4247-4dd0-b621-4c2f08617c1f",
   "metadata": {},
   "outputs": [],
   "source": [
    "st.write('Here is a ecommerce dataset:', df_new)"
   ]
  }
 ],
 "metadata": {
  "kernelspec": {
   "display_name": "Python 3 (ipykernel)",
   "language": "python",
   "name": "python3"
  },
  "language_info": {
   "codemirror_mode": {
    "name": "ipython",
    "version": 3
   },
   "file_extension": ".py",
   "mimetype": "text/x-python",
   "name": "python",
   "nbconvert_exporter": "python",
   "pygments_lexer": "ipython3",
   "version": "3.12.9"
  }
 },
 "nbformat": 4,
 "nbformat_minor": 5
}
