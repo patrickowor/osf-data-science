{
 "cells": [
  {
   "cell_type": "code",
   "execution_count": 14,
   "id": "cdf8984a-e635-41e9-b403-c5f028d6658d",
   "metadata": {},
   "outputs": [],
   "source": [
    "number = 15000_000_000"
   ]
  },
  {
   "cell_type": "code",
   "execution_count": 15,
   "id": "a16066f1-85b8-467f-8138-20051c8fb759",
   "metadata": {},
   "outputs": [
    {
     "name": "stdout",
     "output_type": "stream",
     "text": [
      "<class 'int'>\n"
     ]
    }
   ],
   "source": [
    "print(type(number))"
   ]
  },
  {
   "cell_type": "code",
   "execution_count": 16,
   "id": "22c89119-f24b-4d29-94c2-0efc032468ce",
   "metadata": {},
   "outputs": [
    {
     "name": "stdout",
     "output_type": "stream",
     "text": [
      "15000000000\n"
     ]
    }
   ],
   "source": [
    "print(number)"
   ]
  },
  {
   "cell_type": "code",
   "execution_count": 19,
   "id": "aff4d7d8-fc2f-4a8f-a63b-322694b152d4",
   "metadata": {},
   "outputs": [
    {
     "data": {
      "text/plain": [
       "'hello, welcome mr/+mrs ade'"
      ]
     },
     "execution_count": 19,
     "metadata": {},
     "output_type": "execute_result"
    }
   ],
   "source": [
    "# we can d o some fancy things with strings like concatnate it\n",
    "\n",
    "\"hello, welcome mr/mrs \"  + \"ade\""
   ]
  },
  {
   "cell_type": "code",
   "execution_count": 20,
   "id": "2bf8d19b-e47f-4e8b-9f74-299f47feb077",
   "metadata": {},
   "outputs": [],
   "source": [
    "# you can multiply a string but you must do it with a number"
   ]
  },
  {
   "cell_type": "code",
   "execution_count": 21,
   "id": "b7367956-54db-4398-a026-6c3cdbde71ac",
   "metadata": {},
   "outputs": [
    {
     "data": {
      "text/plain": [
       "'hello hello hello'"
      ]
     },
     "execution_count": 21,
     "metadata": {},
     "output_type": "execute_result"
    }
   ],
   "source": [
    "# e.g say hello 3 times \n",
    "\n",
    "\"hello hello hello\""
   ]
  },
  {
   "cell_type": "code",
   "execution_count": 22,
   "id": "586e13e2-16b7-401f-9756-677ae6398e11",
   "metadata": {},
   "outputs": [
    {
     "data": {
      "text/plain": [
       "'hello hello hello '"
      ]
     },
     "execution_count": 22,
     "metadata": {},
     "output_type": "execute_result"
    }
   ],
   "source": [
    "\"hello \" * 3"
   ]
  },
  {
   "cell_type": "code",
   "execution_count": 23,
   "id": "3ccda2ef-5962-4f14-94aa-2fc821cd1be6",
   "metadata": {},
   "outputs": [],
   "source": [
    "# but we cannot divide a string "
   ]
  },
  {
   "cell_type": "code",
   "execution_count": 24,
   "id": "7a7ae6b5-dd27-4c62-9dc6-c5cdb5d26671",
   "metadata": {},
   "outputs": [
    {
     "ename": "TypeError",
     "evalue": "unsupported operand type(s) for /: 'str' and 'int'",
     "output_type": "error",
     "traceback": [
      "\u001b[1;31m---------------------------------------------------------------------------\u001b[0m",
      "\u001b[1;31mTypeError\u001b[0m                                 Traceback (most recent call last)",
      "Cell \u001b[1;32mIn[24], line 1\u001b[0m\n\u001b[1;32m----> 1\u001b[0m \u001b[38;5;124m\"\u001b[39m\u001b[38;5;124mhello\u001b[39m\u001b[38;5;124m\"\u001b[39m \u001b[38;5;241m/\u001b[39m \u001b[38;5;241m2\u001b[39m\n",
      "\u001b[1;31mTypeError\u001b[0m: unsupported operand type(s) for /: 'str' and 'int'"
     ]
    }
   ],
   "source": [
    "\"hello\" / 2"
   ]
  },
  {
   "cell_type": "code",
   "execution_count": 25,
   "id": "54640cd5-d0eb-4c7f-9d6c-e75bb68b2c0d",
   "metadata": {},
   "outputs": [
    {
     "data": {
      "text/plain": [
       "'helloworld'"
      ]
     },
     "execution_count": 25,
     "metadata": {},
     "output_type": "execute_result"
    }
   ],
   "source": [
    "# if we put 2 string literals together they will be concatnated\n",
    "\n",
    "\"hello\" \"world\""
   ]
  },
  {
   "cell_type": "code",
   "execution_count": 30,
   "id": "aa5f13ee-b6d6-4b92-992c-c46661c18f32",
   "metadata": {},
   "outputs": [
    {
     "data": {
      "text/plain": [
       "'hello world i am patrickhello world i am patrickhello world i am patrick'"
      ]
     },
     "execution_count": 30,
     "metadata": {},
     "output_type": "execute_result"
    }
   ],
   "source": [
    "(\"hello \" \"world \" \"i am patrick\")"
   ]
  },
  {
   "cell_type": "code",
   "execution_count": 34,
   "id": "281c290d-d706-4060-85a2-3bbda689f1e6",
   "metadata": {},
   "outputs": [
    {
     "name": "stderr",
     "output_type": "stream",
     "text": [
      "<>:1: SyntaxWarning: 'str' object is not callable; perhaps you missed a comma?\n",
      "<>:1: SyntaxWarning: 'str' object is not callable; perhaps you missed a comma?\n",
      "C:\\Users\\SourceBird\\AppData\\Local\\Temp\\ipykernel_17824\\2180170827.py:1: SyntaxWarning: 'str' object is not callable; perhaps you missed a comma?\n",
      "  \"hello \" \"world \"  (\"i am patrick\" * 3)\n"
     ]
    },
    {
     "ename": "TypeError",
     "evalue": "'str' object is not callable",
     "output_type": "error",
     "traceback": [
      "\u001b[1;31m---------------------------------------------------------------------------\u001b[0m",
      "\u001b[1;31mTypeError\u001b[0m                                 Traceback (most recent call last)",
      "Cell \u001b[1;32mIn[34], line 1\u001b[0m\n\u001b[1;32m----> 1\u001b[0m \u001b[38;5;124m\"\u001b[39m\u001b[38;5;124mhello \u001b[39m\u001b[38;5;124m\"\u001b[39m \u001b[38;5;124m\"\u001b[39m\u001b[38;5;124mworld \u001b[39m\u001b[38;5;124m\"\u001b[39m  (\u001b[38;5;124m\"\u001b[39m\u001b[38;5;124mi am patrick\u001b[39m\u001b[38;5;124m\"\u001b[39m \u001b[38;5;241m*\u001b[39m \u001b[38;5;241m3\u001b[39m)\n",
      "\u001b[1;31mTypeError\u001b[0m: 'str' object is not callable"
     ]
    }
   ],
   "source": [
    "\"hello \" \"world \"  (\"i am patrick\" * 3)"
   ]
  },
  {
   "cell_type": "code",
   "execution_count": 36,
   "id": "fdb00c78-a26f-49a7-bfeb-44ac3a2973a3",
   "metadata": {},
   "outputs": [
    {
     "data": {
      "text/plain": [
       "'hello world  i am patrick i am patrick i am patrick'"
      ]
     },
     "execution_count": 36,
     "metadata": {},
     "output_type": "execute_result"
    }
   ],
   "source": [
    "\"hello \" \"world \" + (\" i am patrick\" * 3)"
   ]
  },
  {
   "cell_type": "code",
   "execution_count": 27,
   "id": "a4106a85-777b-49c8-98e8-60eaa0fa93dc",
   "metadata": {},
   "outputs": [
    {
     "data": {
      "text/plain": [
       "-7758.0"
      ]
     },
     "execution_count": 27,
     "metadata": {},
     "output_type": "execute_result"
    }
   ],
   "source": [
    "12 / 3 + 7 *  2 - 6 ** 5"
   ]
  },
  {
   "cell_type": "code",
   "execution_count": 28,
   "id": "c22586cb-b565-472c-9b57-66cd4f1f0149",
   "metadata": {},
   "outputs": [
    {
     "data": {
      "text/plain": [
       "248832.0"
      ]
     },
     "execution_count": 28,
     "metadata": {},
     "output_type": "execute_result"
    }
   ],
   "source": [
    "(12 / 3 + 7 *  2 - 6) ** 5"
   ]
  },
  {
   "cell_type": "code",
   "execution_count": 29,
   "id": "ca85e4c3-9307-416c-b06c-fb1253e99501",
   "metadata": {},
   "outputs": [
    {
     "data": {
      "text/plain": [
       "-604.6617600000001"
      ]
     },
     "execution_count": 29,
     "metadata": {},
     "output_type": "execute_result"
    }
   ],
   "source": [
    "( 12 / (3 + 7) *  2 - 6) ** 5"
   ]
  },
  {
   "cell_type": "code",
   "execution_count": 42,
   "id": "b262366a-5f18-443b-b411-f90fbe7778a3",
   "metadata": {},
   "outputs": [],
   "source": [
    "ade = \"ade' is a boy\""
   ]
  },
  {
   "cell_type": "code",
   "execution_count": 43,
   "id": "8dd8f84d-f7ca-4e32-a33a-91ff614cd3c6",
   "metadata": {},
   "outputs": [
    {
     "data": {
      "text/plain": [
       "\"ade' is a boy\""
      ]
     },
     "execution_count": 43,
     "metadata": {},
     "output_type": "execute_result"
    }
   ],
   "source": [
    "ade"
   ]
  },
  {
   "cell_type": "code",
   "execution_count": 44,
   "id": "09d20400-5c9f-4162-9b2c-6bfe6719b0de",
   "metadata": {},
   "outputs": [
    {
     "data": {
      "text/plain": [
       "'a'"
      ]
     },
     "execution_count": 44,
     "metadata": {},
     "output_type": "execute_result"
    }
   ],
   "source": [
    "ade[0]"
   ]
  },
  {
   "cell_type": "code",
   "execution_count": 47,
   "id": "c86dbf23-c2a9-4566-97da-046180aa13de",
   "metadata": {},
   "outputs": [
    {
     "data": {
      "text/plain": [
       "\"'\""
      ]
     },
     "execution_count": 47,
     "metadata": {},
     "output_type": "execute_result"
    }
   ],
   "source": [
    "#  the quote around a string are to tell python it is a string but the quote inside are valid characters\n",
    "ade[3]"
   ]
  },
  {
   "cell_type": "code",
   "execution_count": 46,
   "id": "f9854a92-7df1-46c1-910c-f4298de5490d",
   "metadata": {},
   "outputs": [
    {
     "data": {
      "text/plain": [
       "' '"
      ]
     },
     "execution_count": 46,
     "metadata": {},
     "output_type": "execute_result"
    }
   ],
   "source": [
    "ade[4]"
   ]
  },
  {
   "cell_type": "code",
   "execution_count": 48,
   "id": "a3611734-9f79-4d86-bac2-e29545ecb132",
   "metadata": {},
   "outputs": [
    {
     "data": {
      "text/plain": [
       "'y'"
      ]
     },
     "execution_count": 48,
     "metadata": {},
     "output_type": "execute_result"
    }
   ],
   "source": [
    "ade[-1]  # last character"
   ]
  },
  {
   "cell_type": "code",
   "execution_count": 49,
   "id": "0f10b1ec-ecbc-47a9-a188-482045138f32",
   "metadata": {},
   "outputs": [
    {
     "data": {
      "text/plain": [
       "'ad'"
      ]
     },
     "execution_count": 49,
     "metadata": {},
     "output_type": "execute_result"
    }
   ],
   "source": [
    "ade[0:2] "
   ]
  },
  {
   "cell_type": "code",
   "execution_count": 50,
   "id": "3bfb1d55-b4b4-4124-ba9b-54b23b56a130",
   "metadata": {},
   "outputs": [
    {
     "data": {
      "text/plain": [
       "'adeoluwalo'"
      ]
     },
     "execution_count": 50,
     "metadata": {},
     "output_type": "execute_result"
    }
   ],
   "source": [
    "\"adeoluwalorantimifunmilayoleni\"[0:10]"
   ]
  },
  {
   "cell_type": "code",
   "execution_count": 51,
   "id": "6fad13f9-4534-4e1a-9bad-7d1c1f7bd22b",
   "metadata": {},
   "outputs": [
    {
     "data": {
      "text/plain": [
       "['ade', 'is', 'a', 'boy']"
      ]
     },
     "execution_count": 51,
     "metadata": {},
     "output_type": "execute_result"
    }
   ],
   "source": [
    "\"ade is a boy\".split(\" \")"
   ]
  },
  {
   "cell_type": "code",
   "execution_count": 52,
   "id": "3656f2f9-0d9e-49e7-9bc0-292021aa3c33",
   "metadata": {},
   "outputs": [],
   "source": [
    "# enter full name"
   ]
  },
  {
   "cell_type": "code",
   "execution_count": 57,
   "id": "732afc30-eb7a-41cf-8af1-d3a588f6abfb",
   "metadata": {},
   "outputs": [
    {
     "data": {
      "text/plain": [
       "['adepoju', 'bamitale', 'feranmi']"
      ]
     },
     "execution_count": 57,
     "metadata": {},
     "output_type": "execute_result"
    }
   ],
   "source": [
    "\"adepoju bamitale feranmi\".split(\" \")"
   ]
  },
  {
   "cell_type": "code",
   "execution_count": 60,
   "id": "d576cad8-f7c7-4ff9-9597-1c30af280567",
   "metadata": {},
   "outputs": [
    {
     "data": {
      "text/plain": [
       "str"
      ]
     },
     "execution_count": 60,
     "metadata": {},
     "output_type": "execute_result"
    }
   ],
   "source": [
    "type(\"adepoju bamitale feranmi\")"
   ]
  },
  {
   "cell_type": "code",
   "execution_count": 58,
   "id": "2766c149-57c9-4ac8-9854-23844900f944",
   "metadata": {},
   "outputs": [
    {
     "data": {
      "text/plain": [
       "list"
      ]
     },
     "execution_count": 58,
     "metadata": {},
     "output_type": "execute_result"
    }
   ],
   "source": [
    "type(\"adepoju bamitale feranmi\".split(\" \", ))"
   ]
  },
  {
   "cell_type": "code",
   "execution_count": 55,
   "id": "5ed32cf5-fc36-44e4-bb0b-fe21a481fb07",
   "metadata": {},
   "outputs": [],
   "source": [
    "firstname, middlename, lastname = \"adepoju bamitale feranmi\".split(\" \")\n"
   ]
  },
  {
   "cell_type": "code",
   "execution_count": 56,
   "id": "f6f26a80-5b8a-4601-9c7e-ddc67388640a",
   "metadata": {},
   "outputs": [
    {
     "data": {
      "text/plain": [
       "'adepoju'"
      ]
     },
     "execution_count": 56,
     "metadata": {},
     "output_type": "execute_result"
    }
   ],
   "source": [
    "firstname"
   ]
  },
  {
   "cell_type": "code",
   "execution_count": 61,
   "id": "93861e49-22de-4f79-8ae5-a9c3d45c463e",
   "metadata": {},
   "outputs": [
    {
     "data": {
      "text/plain": [
       "'ADEPOJU'"
      ]
     },
     "execution_count": 61,
     "metadata": {},
     "output_type": "execute_result"
    }
   ],
   "source": [
    "firstname.upper()"
   ]
  },
  {
   "cell_type": "code",
   "execution_count": 62,
   "id": "0604e66f-8686-46ef-ae63-721066f11b48",
   "metadata": {},
   "outputs": [
    {
     "data": {
      "text/plain": [
       "13"
      ]
     },
     "execution_count": 62,
     "metadata": {},
     "output_type": "execute_result"
    }
   ],
   "source": [
    "len(ade) # to get the length"
   ]
  },
  {
   "cell_type": "code",
   "execution_count": 63,
   "id": "536a08d3-7cfc-4ea2-adcd-adfd0d68f1da",
   "metadata": {},
   "outputs": [
    {
     "ename": "IndexError",
     "evalue": "string index out of range",
     "output_type": "error",
     "traceback": [
      "\u001b[1;31m---------------------------------------------------------------------------\u001b[0m",
      "\u001b[1;31mIndexError\u001b[0m                                Traceback (most recent call last)",
      "Cell \u001b[1;32mIn[63], line 1\u001b[0m\n\u001b[1;32m----> 1\u001b[0m ade[\u001b[38;5;241m53\u001b[39m]\n",
      "\u001b[1;31mIndexError\u001b[0m: string index out of range"
     ]
    }
   ],
   "source": [
    "ade[53]"
   ]
  },
  {
   "cell_type": "code",
   "execution_count": 64,
   "id": "9edecebc-3778-42bf-9cca-e4f647fa752f",
   "metadata": {},
   "outputs": [],
   "source": [
    "# boolean are True or False"
   ]
  },
  {
   "cell_type": "code",
   "execution_count": 65,
   "id": "0071b298-b832-4c6e-8906-9e46939af9eb",
   "metadata": {},
   "outputs": [
    {
     "data": {
      "text/plain": [
       "True"
      ]
     },
     "execution_count": 65,
     "metadata": {},
     "output_type": "execute_result"
    }
   ],
   "source": [
    "True"
   ]
  },
  {
   "cell_type": "code",
   "execution_count": 66,
   "id": "52716007-7967-4972-ac10-69723b4e8b51",
   "metadata": {},
   "outputs": [
    {
     "data": {
      "text/plain": [
       "False"
      ]
     },
     "execution_count": 66,
     "metadata": {},
     "output_type": "execute_result"
    }
   ],
   "source": [
    "False"
   ]
  },
  {
   "cell_type": "code",
   "execution_count": 67,
   "id": "50131667-2428-4413-9612-1cf5e1903b15",
   "metadata": {},
   "outputs": [
    {
     "data": {
      "text/plain": [
       "bool"
      ]
     },
     "execution_count": 67,
     "metadata": {},
     "output_type": "execute_result"
    }
   ],
   "source": [
    "type(True)"
   ]
  },
  {
   "cell_type": "code",
   "execution_count": 68,
   "id": "d41a0d24-03ad-4129-8322-8618c5362bfa",
   "metadata": {},
   "outputs": [
    {
     "data": {
      "text/plain": [
       "str"
      ]
     },
     "execution_count": 68,
     "metadata": {},
     "output_type": "execute_result"
    }
   ],
   "source": [
    "type(\"True\")"
   ]
  },
  {
   "cell_type": "markdown",
   "id": "ff699fd2-d1be-43ef-96fa-93249d33edd5",
   "metadata": {},
   "source": [
    "## complex data types"
   ]
  },
  {
   "cell_type": "code",
   "execution_count": 69,
   "id": "24c23371-0207-4c0d-afd7-9bf02b015afc",
   "metadata": {},
   "outputs": [],
   "source": [
    "# List \n",
    "# Tuple \n",
    "# set\n",
    "# Dictionary"
   ]
  },
  {
   "cell_type": "markdown",
   "id": "b804701e-e91c-409d-9799-d8cf645b15f5",
   "metadata": {},
   "source": [
    "### List"
   ]
  },
  {
   "cell_type": "code",
   "execution_count": 70,
   "id": "3872bdf3-25b9-4e18-b658-6c850f5c641e",
   "metadata": {},
   "outputs": [
    {
     "data": {
      "text/plain": [
       "[1, 'hello', 5.0, [6.7, 7.7], False]"
      ]
     },
     "execution_count": 70,
     "metadata": {},
     "output_type": "execute_result"
    }
   ],
   "source": [
    "[ 1, \"hello\", 5.0, [6.7, 7.7], False ]"
   ]
  },
  {
   "cell_type": "code",
   "execution_count": 71,
   "id": "e9807884-c943-4fd8-80cc-dd0678b5de12",
   "metadata": {},
   "outputs": [],
   "source": [
    "myList = [ 1, \"hello\", 5.0, [6.7, 7.7], False ]"
   ]
  },
  {
   "cell_type": "code",
   "execution_count": 72,
   "id": "d10eb9c7-92d6-4d7b-9182-0067d77c0b9c",
   "metadata": {},
   "outputs": [
    {
     "data": {
      "text/plain": [
       "1"
      ]
     },
     "execution_count": 72,
     "metadata": {},
     "output_type": "execute_result"
    }
   ],
   "source": [
    "myList[0]"
   ]
  },
  {
   "cell_type": "code",
   "execution_count": 73,
   "id": "facf78f9-4bad-491c-a0c2-eb7844276475",
   "metadata": {},
   "outputs": [
    {
     "data": {
      "text/plain": [
       "'hello'"
      ]
     },
     "execution_count": 73,
     "metadata": {},
     "output_type": "execute_result"
    }
   ],
   "source": [
    "myList[1]"
   ]
  },
  {
   "cell_type": "code",
   "execution_count": 77,
   "id": "71c14e28-4137-4e85-9baf-56cb41dc021d",
   "metadata": {},
   "outputs": [
    {
     "data": {
      "text/plain": [
       "'l'"
      ]
     },
     "execution_count": 77,
     "metadata": {},
     "output_type": "execute_result"
    }
   ],
   "source": [
    "myList[1][2]"
   ]
  },
  {
   "cell_type": "code",
   "execution_count": 78,
   "id": "be04c579-3fba-48d9-a3b0-05124a88846e",
   "metadata": {},
   "outputs": [
    {
     "ename": "IndexError",
     "evalue": "list index out of range",
     "output_type": "error",
     "traceback": [
      "\u001b[1;31m---------------------------------------------------------------------------\u001b[0m",
      "\u001b[1;31mIndexError\u001b[0m                                Traceback (most recent call last)",
      "Cell \u001b[1;32mIn[78], line 1\u001b[0m\n\u001b[1;32m----> 1\u001b[0m myList[\u001b[38;5;241m3\u001b[39m][\u001b[38;5;241m2\u001b[39m]\n",
      "\u001b[1;31mIndexError\u001b[0m: list index out of range"
     ]
    }
   ],
   "source": [
    "myList[3][2]"
   ]
  },
  {
   "cell_type": "code",
   "execution_count": 71,
   "id": "0485bc36-16be-4bcf-851a-6cd0174a20f4",
   "metadata": {},
   "outputs": [],
   "source": [
    "myList = [ 1, \"hello\", 5.0, [6.7, 7.7], False ]"
   ]
  },
  {
   "cell_type": "code",
   "execution_count": 79,
   "id": "ba14bf81-5aa8-4bda-a886-5d73d94724c6",
   "metadata": {},
   "outputs": [],
   "source": [
    "myList[4] = 27"
   ]
  },
  {
   "cell_type": "code",
   "execution_count": 80,
   "id": "96273baf-c507-434a-b58e-0afc87abd320",
   "metadata": {},
   "outputs": [
    {
     "data": {
      "text/plain": [
       "[1, 'hello', 5.0, [6.7, 7.7], 27]"
      ]
     },
     "execution_count": 80,
     "metadata": {},
     "output_type": "execute_result"
    }
   ],
   "source": [
    "myList"
   ]
  },
  {
   "cell_type": "code",
   "execution_count": 81,
   "id": "efd57bd2-b605-4732-bdbe-f9288276db69",
   "metadata": {},
   "outputs": [
    {
     "ename": "IndexError",
     "evalue": "list assignment index out of range",
     "output_type": "error",
     "traceback": [
      "\u001b[1;31m---------------------------------------------------------------------------\u001b[0m",
      "\u001b[1;31mIndexError\u001b[0m                                Traceback (most recent call last)",
      "Cell \u001b[1;32mIn[81], line 1\u001b[0m\n\u001b[1;32m----> 1\u001b[0m myList[\u001b[38;5;241m5\u001b[39m] \u001b[38;5;241m=\u001b[39m \u001b[38;5;241m27\u001b[39m\n",
      "\u001b[1;31mIndexError\u001b[0m: list assignment index out of range"
     ]
    }
   ],
   "source": [
    "myList[5] = 27"
   ]
  },
  {
   "cell_type": "code",
   "execution_count": 82,
   "id": "551a84fb-1624-4d63-9f3c-7a42a082ff07",
   "metadata": {},
   "outputs": [],
   "source": [
    "myList.append(\"this is awesome\")"
   ]
  },
  {
   "cell_type": "code",
   "execution_count": 83,
   "id": "d00cf8d5-4490-4858-9fd4-24954c9d3bdb",
   "metadata": {},
   "outputs": [
    {
     "data": {
      "text/plain": [
       "[1, 'hello', 5.0, [6.7, 7.7], 27, 'this is awesome']"
      ]
     },
     "execution_count": 83,
     "metadata": {},
     "output_type": "execute_result"
    }
   ],
   "source": [
    "myList"
   ]
  },
  {
   "cell_type": "code",
   "execution_count": 84,
   "id": "899dcb49-d624-47cd-a509-35846284e2d9",
   "metadata": {},
   "outputs": [
    {
     "data": {
      "text/plain": [
       "'this is awesome'"
      ]
     },
     "execution_count": 84,
     "metadata": {},
     "output_type": "execute_result"
    }
   ],
   "source": [
    "myList.pop()"
   ]
  },
  {
   "cell_type": "code",
   "execution_count": 85,
   "id": "65f9f698-6c81-4e90-bca5-d7b340142946",
   "metadata": {},
   "outputs": [
    {
     "data": {
      "text/plain": [
       "[1, 'hello', 5.0, [6.7, 7.7], 27]"
      ]
     },
     "execution_count": 85,
     "metadata": {},
     "output_type": "execute_result"
    }
   ],
   "source": [
    "myList"
   ]
  },
  {
   "cell_type": "code",
   "execution_count": 86,
   "id": "72da2a83-dbbc-44f1-95a4-2ec7d492b817",
   "metadata": {},
   "outputs": [],
   "source": [
    "myList.insert(1, \"!hello world\")"
   ]
  },
  {
   "cell_type": "code",
   "execution_count": 87,
   "id": "bf7b2fe1-6fcc-40eb-b484-07b90ca662c4",
   "metadata": {},
   "outputs": [
    {
     "data": {
      "text/plain": [
       "[1, '!hello world', 'hello', 5.0, [6.7, 7.7], 27]"
      ]
     },
     "execution_count": 87,
     "metadata": {},
     "output_type": "execute_result"
    }
   ],
   "source": [
    "myList"
   ]
  },
  {
   "cell_type": "code",
   "execution_count": 88,
   "id": "e3f39ad7-6dd7-4527-8a41-23be4b4a49c2",
   "metadata": {},
   "outputs": [],
   "source": [
    "myList.insert(1, \"Python is the best\")"
   ]
  },
  {
   "cell_type": "code",
   "execution_count": 89,
   "id": "13dd1cf8-519e-4e73-ada3-5b41f66d93b6",
   "metadata": {},
   "outputs": [
    {
     "data": {
      "text/plain": [
       "[1, 'Python is the best', '!hello world', 'hello', 5.0, [6.7, 7.7], 27]"
      ]
     },
     "execution_count": 89,
     "metadata": {},
     "output_type": "execute_result"
    }
   ],
   "source": [
    "myList"
   ]
  },
  {
   "cell_type": "code",
   "execution_count": 90,
   "id": "c0b2927a-1257-4586-926c-d32e4d3ba7ce",
   "metadata": {},
   "outputs": [],
   "source": [
    "myList.remove(\"!hello world\")"
   ]
  },
  {
   "cell_type": "code",
   "execution_count": 91,
   "id": "5b9b8b77-0cfd-4624-b164-c00db04953e0",
   "metadata": {},
   "outputs": [
    {
     "data": {
      "text/plain": [
       "[1, 'Python is the best', 'hello', 5.0, [6.7, 7.7], 27]"
      ]
     },
     "execution_count": 91,
     "metadata": {},
     "output_type": "execute_result"
    }
   ],
   "source": [
    "myList"
   ]
  },
  {
   "cell_type": "code",
   "execution_count": 92,
   "id": "fa17c595-3c8f-4e09-a331-ab1806705e40",
   "metadata": {},
   "outputs": [
    {
     "ename": "ValueError",
     "evalue": "list.remove(x): x not in list",
     "output_type": "error",
     "traceback": [
      "\u001b[1;31m---------------------------------------------------------------------------\u001b[0m",
      "\u001b[1;31mValueError\u001b[0m                                Traceback (most recent call last)",
      "Cell \u001b[1;32mIn[92], line 1\u001b[0m\n\u001b[1;32m----> 1\u001b[0m myList\u001b[38;5;241m.\u001b[39mremove(\u001b[38;5;241m0\u001b[39m)\n",
      "\u001b[1;31mValueError\u001b[0m: list.remove(x): x not in list"
     ]
    }
   ],
   "source": [
    "myList.remove(0)"
   ]
  },
  {
   "cell_type": "code",
   "execution_count": 93,
   "id": "9a2b5f91-d6e3-4e73-994a-7e6446fc82eb",
   "metadata": {},
   "outputs": [
    {
     "data": {
      "text/plain": [
       "True"
      ]
     },
     "execution_count": 93,
     "metadata": {},
     "output_type": "execute_result"
    }
   ],
   "source": [
    "1 in myList"
   ]
  },
  {
   "cell_type": "code",
   "execution_count": 94,
   "id": "63c45522-7cfb-403e-bb57-3d009f6b3deb",
   "metadata": {},
   "outputs": [],
   "source": [
    "myList.append(1)"
   ]
  },
  {
   "cell_type": "code",
   "execution_count": 95,
   "id": "a4111f6a-017a-4824-8ed0-9d6c639617ee",
   "metadata": {},
   "outputs": [
    {
     "data": {
      "text/plain": [
       "[1, 'Python is the best', 'hello', 5.0, [6.7, 7.7], 27, 1]"
      ]
     },
     "execution_count": 95,
     "metadata": {},
     "output_type": "execute_result"
    }
   ],
   "source": [
    "myList"
   ]
  },
  {
   "cell_type": "markdown",
   "id": "16e34691-4954-4699-aede-f6576f853719",
   "metadata": {},
   "source": [
    "### Tuple"
   ]
  },
  {
   "cell_type": "code",
   "execution_count": null,
   "id": "741fc45d-8080-4b39-a737-04abcc9deadc",
   "metadata": {},
   "outputs": [],
   "source": []
  }
 ],
 "metadata": {
  "kernelspec": {
   "display_name": "Python 3 (ipykernel)",
   "language": "python",
   "name": "python3"
  },
  "language_info": {
   "codemirror_mode": {
    "name": "ipython",
    "version": 3
   },
   "file_extension": ".py",
   "mimetype": "text/x-python",
   "name": "python",
   "nbconvert_exporter": "python",
   "pygments_lexer": "ipython3",
   "version": "3.12.9"
  }
 },
 "nbformat": 4,
 "nbformat_minor": 5
}
