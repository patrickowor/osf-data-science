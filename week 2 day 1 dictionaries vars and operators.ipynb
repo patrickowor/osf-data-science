{
 "cells": [
  {
   "cell_type": "markdown",
   "id": "6c22ac73-98f9-493d-994c-7c6608d7ec81",
   "metadata": {},
   "source": [
    "### Dictionaries"
   ]
  },
  {
   "cell_type": "code",
   "execution_count": 1,
   "id": "e4fa046f-07cf-4301-b637-1e40431bf635",
   "metadata": {},
   "outputs": [],
   "source": [
    "# its also a complex datatype "
   ]
  },
  {
   "cell_type": "code",
   "execution_count": 2,
   "id": "b846f59d-bde4-4e98-8262-75546700d5d9",
   "metadata": {},
   "outputs": [],
   "source": [
    "# its a data type of key value pairs"
   ]
  },
  {
   "cell_type": "code",
   "execution_count": 19,
   "id": "0fd8e248-3575-41a9-97f5-c35e6c03d4ac",
   "metadata": {},
   "outputs": [],
   "source": [
    "myDictionary =  { \"name\": \"adesegun oluronke adegbemi\", \n",
    "                 \"age\": 7 , \n",
    "                 \"scores\": [7,6,3, 2], \n",
    "                 \"extra\": {\n",
    "                     \"parent name\" : \"mr & mrs adesegun\",\n",
    "                     \"age\" : [40, 38]\n",
    "                 } \n",
    "                }"
   ]
  },
  {
   "cell_type": "code",
   "execution_count": 8,
   "id": "940c2591-c97c-43c0-8dce-b161368a9b52",
   "metadata": {},
   "outputs": [
    {
     "data": {
      "text/plain": [
       "dict"
      ]
     },
     "execution_count": 8,
     "metadata": {},
     "output_type": "execute_result"
    }
   ],
   "source": [
    "type(myDictionary)"
   ]
  },
  {
   "cell_type": "code",
   "execution_count": 9,
   "id": "f3e63333-eaed-4ac2-a86d-aaeb66be9e89",
   "metadata": {},
   "outputs": [
    {
     "data": {
      "text/plain": [
       "{'name': 'adesegun oluronke adegbemi',\n",
       " 'age': 7,\n",
       " 'scores': [7, 6, 3, 2],\n",
       " 'extra': {'parent name': 'mr & mrs adesegun', 'age': [40, 38]}}"
      ]
     },
     "execution_count": 9,
     "metadata": {},
     "output_type": "execute_result"
    }
   ],
   "source": [
    "myDictionary"
   ]
  },
  {
   "cell_type": "code",
   "execution_count": 10,
   "id": "4b07d1a0-e948-4d91-9d6a-e574ae086c74",
   "metadata": {},
   "outputs": [
    {
     "data": {
      "text/plain": [
       "'adesegun oluronke adegbemi'"
      ]
     },
     "execution_count": 10,
     "metadata": {},
     "output_type": "execute_result"
    }
   ],
   "source": [
    "myDictionary[\"name\"]"
   ]
  },
  {
   "cell_type": "code",
   "execution_count": 12,
   "id": "5b76887e-676e-4e98-9b50-6374f1a7d0ff",
   "metadata": {},
   "outputs": [
    {
     "data": {
      "text/plain": [
       "str"
      ]
     },
     "execution_count": 12,
     "metadata": {},
     "output_type": "execute_result"
    }
   ],
   "source": [
    "type(myDictionary[\"name\"])"
   ]
  },
  {
   "cell_type": "code",
   "execution_count": 13,
   "id": "a7bf8b21-8673-482a-bcd1-2f69dd9ee100",
   "metadata": {},
   "outputs": [],
   "source": [
    "myDictionary[\"class\"] = \"jss1\""
   ]
  },
  {
   "cell_type": "code",
   "execution_count": 14,
   "id": "3658eec3-d0be-4502-91de-c9cacc46d4ae",
   "metadata": {},
   "outputs": [
    {
     "data": {
      "text/plain": [
       "{'name': 'adesegun oluronke adegbemi',\n",
       " 'age': 7,\n",
       " 'scores': [7, 6, 3, 2],\n",
       " 'extra': {'parent name': 'mr & mrs adesegun', 'age': [40, 38]},\n",
       " 'class': 'jss1'}"
      ]
     },
     "execution_count": 14,
     "metadata": {},
     "output_type": "execute_result"
    }
   ],
   "source": [
    "myDictionary"
   ]
  },
  {
   "cell_type": "code",
   "execution_count": 15,
   "id": "5f7d2041-2ba5-4a9b-a838-13da70a4cc9b",
   "metadata": {},
   "outputs": [],
   "source": [
    "del myDictionary[\"age\"]"
   ]
  },
  {
   "cell_type": "code",
   "execution_count": 16,
   "id": "f64c0a0f-b0fa-4be5-812f-a8132f7d927b",
   "metadata": {},
   "outputs": [
    {
     "data": {
      "text/plain": [
       "{'name': 'adesegun oluronke adegbemi',\n",
       " 'scores': [7, 6, 3, 2],\n",
       " 'extra': {'parent name': 'mr & mrs adesegun', 'age': [40, 38]},\n",
       " 'class': 'jss1'}"
      ]
     },
     "execution_count": 16,
     "metadata": {},
     "output_type": "execute_result"
    }
   ],
   "source": [
    "myDictionary"
   ]
  },
  {
   "cell_type": "code",
   "execution_count": 17,
   "id": "ae06492d-6e96-463c-9b69-1d396f7933cc",
   "metadata": {},
   "outputs": [],
   "source": [
    "del myDictionary"
   ]
  },
  {
   "cell_type": "code",
   "execution_count": 21,
   "id": "a9c89793-ace4-45fa-b583-bb6944cc4781",
   "metadata": {},
   "outputs": [
    {
     "data": {
      "text/plain": [
       "{'name': 'adesegun oluronke adegbemi',\n",
       " 'age': 7,\n",
       " 'scores': [7, 6, 3, 2],\n",
       " 'extra': {'parent name': 'mr & mrs adesegun', 'age': [40, 38]}}"
      ]
     },
     "execution_count": 21,
     "metadata": {},
     "output_type": "execute_result"
    }
   ],
   "source": [
    "myDictionary"
   ]
  },
  {
   "cell_type": "code",
   "execution_count": 22,
   "id": "77fbde6e-bd7b-4e15-9e7a-89ed10eb8e50",
   "metadata": {},
   "outputs": [
    {
     "data": {
      "text/plain": [
       "dict_keys(['name', 'age', 'scores', 'extra'])"
      ]
     },
     "execution_count": 22,
     "metadata": {},
     "output_type": "execute_result"
    }
   ],
   "source": [
    "myDictionary.keys()"
   ]
  },
  {
   "cell_type": "code",
   "execution_count": 23,
   "id": "d7ab42b4-1a87-43cc-bef5-c75a9cb7034f",
   "metadata": {},
   "outputs": [
    {
     "data": {
      "text/plain": [
       "dict_values(['adesegun oluronke adegbemi', 7, [7, 6, 3, 2], {'parent name': 'mr & mrs adesegun', 'age': [40, 38]}])"
      ]
     },
     "execution_count": 23,
     "metadata": {},
     "output_type": "execute_result"
    }
   ],
   "source": [
    "myDictionary.values()"
   ]
  },
  {
   "cell_type": "code",
   "execution_count": 24,
   "id": "69d0229a-d05e-4281-a9e0-b08f4bca5ab0",
   "metadata": {},
   "outputs": [
    {
     "data": {
      "text/plain": [
       "dict_items([('name', 'adesegun oluronke adegbemi'), ('age', 7), ('scores', [7, 6, 3, 2]), ('extra', {'parent name': 'mr & mrs adesegun', 'age': [40, 38]})])"
      ]
     },
     "execution_count": 24,
     "metadata": {},
     "output_type": "execute_result"
    }
   ],
   "source": [
    "myDictionary.items()"
   ]
  },
  {
   "cell_type": "code",
   "execution_count": 25,
   "id": "47afabae-4dbc-4a03-a6fc-286ead5954f4",
   "metadata": {},
   "outputs": [
    {
     "data": {
      "text/plain": [
       "'adesegun oluronke adegbemi'"
      ]
     },
     "execution_count": 25,
     "metadata": {},
     "output_type": "execute_result"
    }
   ],
   "source": [
    "myDictionary.get(\"name\")"
   ]
  },
  {
   "cell_type": "code",
   "execution_count": 28,
   "id": "af01e607-11d6-40ae-9842-c3bb3dbafae7",
   "metadata": {},
   "outputs": [
    {
     "name": "stdout",
     "output_type": "stream",
     "text": [
      "no value\n"
     ]
    }
   ],
   "source": [
    "print(myDictionary.get(0, \"no value\"))"
   ]
  },
  {
   "cell_type": "markdown",
   "id": "39f96616-e11a-49b2-9294-3883c71a23df",
   "metadata": {},
   "source": [
    "### Variables"
   ]
  },
  {
   "cell_type": "code",
   "execution_count": 29,
   "id": "de80a78b-05bf-4c46-b431-0bb1956e35d7",
   "metadata": {},
   "outputs": [],
   "source": [
    "# rules of variable\n",
    "# 1. a variable must not contain a unique symbol except the underscore\n",
    "# i.e ade-segun is not a propr variable name\n",
    "# 2. a variable can contain a number but must never start with it e.g 2square is wrong\n",
    "# 3. a variable is case sensitive 1.e ade is not the same as ADE or Ade\n",
    "# 4. a variable should not be used before it has been created and initialized "
   ]
  },
  {
   "cell_type": "code",
   "execution_count": 30,
   "id": "38613115-6e13-430e-8216-d8294d1e04b6",
   "metadata": {},
   "outputs": [
    {
     "ename": "SyntaxError",
     "evalue": "invalid decimal literal (2333785821.py, line 1)",
     "output_type": "error",
     "traceback": [
      "\u001b[1;36m  Cell \u001b[1;32mIn[30], line 1\u001b[1;36m\u001b[0m\n\u001b[1;33m    23Ade = 7\u001b[0m\n\u001b[1;37m     ^\u001b[0m\n\u001b[1;31mSyntaxError\u001b[0m\u001b[1;31m:\u001b[0m invalid decimal literal\n"
     ]
    }
   ],
   "source": [
    "23Ade = 7 "
   ]
  },
  {
   "cell_type": "code",
   "execution_count": 31,
   "id": "14eddd77-5a61-4ef0-8eea-75e545310dab",
   "metadata": {},
   "outputs": [
    {
     "ename": "SyntaxError",
     "evalue": "cannot assign to expression here. Maybe you meant '==' instead of '='? (1804934203.py, line 1)",
     "output_type": "error",
     "traceback": [
      "\u001b[1;36m  Cell \u001b[1;32mIn[31], line 1\u001b[1;36m\u001b[0m\n\u001b[1;33m    +Ade = 35\u001b[0m\n\u001b[1;37m    ^\u001b[0m\n\u001b[1;31mSyntaxError\u001b[0m\u001b[1;31m:\u001b[0m cannot assign to expression here. Maybe you meant '==' instead of '='?\n"
     ]
    }
   ],
   "source": [
    "+Ade = 35"
   ]
  },
  {
   "cell_type": "code",
   "execution_count": 32,
   "id": "5ba2c5bb-9156-4a5a-80b2-e6cb03ce5ed1",
   "metadata": {},
   "outputs": [
    {
     "ename": "SyntaxError",
     "evalue": "invalid syntax (109171749.py, line 1)",
     "output_type": "error",
     "traceback": [
      "\u001b[1;36m  Cell \u001b[1;32mIn[32], line 1\u001b[1;36m\u001b[0m\n\u001b[1;33m    $ade = 5\u001b[0m\n\u001b[1;37m    ^\u001b[0m\n\u001b[1;31mSyntaxError\u001b[0m\u001b[1;31m:\u001b[0m invalid syntax\n"
     ]
    }
   ],
   "source": [
    "$ade = 5"
   ]
  },
  {
   "cell_type": "code",
   "execution_count": 33,
   "id": "f08ecbd1-dd55-448f-9789-c26ed01f7096",
   "metadata": {},
   "outputs": [
    {
     "ename": "SyntaxError",
     "evalue": "invalid syntax (2301416400.py, line 1)",
     "output_type": "error",
     "traceback": [
      "\u001b[1;36m  Cell \u001b[1;32mIn[33], line 1\u001b[1;36m\u001b[0m\n\u001b[1;33m    ade$ = 5\u001b[0m\n\u001b[1;37m       ^\u001b[0m\n\u001b[1;31mSyntaxError\u001b[0m\u001b[1;31m:\u001b[0m invalid syntax\n"
     ]
    }
   ],
   "source": [
    "ade$ = 5"
   ]
  },
  {
   "cell_type": "code",
   "execution_count": 34,
   "id": "1db266d6-f758-478e-be2e-b03a6909637d",
   "metadata": {},
   "outputs": [],
   "source": [
    "ade_ = 6"
   ]
  },
  {
   "cell_type": "code",
   "execution_count": 35,
   "id": "03fb32ee-f85d-484a-bd85-943f9abb8068",
   "metadata": {},
   "outputs": [],
   "source": [
    "__ade = 7"
   ]
  },
  {
   "cell_type": "code",
   "execution_count": 39,
   "id": "c6eaf02e-0c21-4d27-a292-3a12a1215edc",
   "metadata": {},
   "outputs": [
    {
     "ename": "SyntaxError",
     "evalue": "cannot assign to expression here. Maybe you meant '==' instead of '='? (808784474.py, line 1)",
     "output_type": "error",
     "traceback": [
      "\u001b[1;36m  Cell \u001b[1;32mIn[39], line 1\u001b[1;36m\u001b[0m\n\u001b[1;33m    _ade_+a27 = 14\u001b[0m\n\u001b[1;37m    ^\u001b[0m\n\u001b[1;31mSyntaxError\u001b[0m\u001b[1;31m:\u001b[0m cannot assign to expression here. Maybe you meant '==' instead of '='?\n"
     ]
    }
   ],
   "source": [
    "_ade_+a27 = 14"
   ]
  },
  {
   "cell_type": "code",
   "execution_count": 40,
   "id": "a4545253-ed2d-49d9-8e4d-995e24c702eb",
   "metadata": {},
   "outputs": [],
   "source": [
    "_ade27 = 27"
   ]
  },
  {
   "cell_type": "code",
   "execution_count": 36,
   "id": "754de1bd-321b-4d45-b8e1-7b2bcf874b25",
   "metadata": {},
   "outputs": [],
   "source": [
    "____ = 7"
   ]
  },
  {
   "cell_type": "code",
   "execution_count": 37,
   "id": "47594cb0-d8a8-4bb4-b948-a70f200af382",
   "metadata": {},
   "outputs": [],
   "source": [
    "___ = 5"
   ]
  },
  {
   "cell_type": "code",
   "execution_count": 38,
   "id": "6ca8df6b-ba02-46dd-bc3e-e9d89f1f3d8a",
   "metadata": {},
   "outputs": [
    {
     "name": "stdout",
     "output_type": "stream",
     "text": [
      "12\n"
     ]
    }
   ],
   "source": [
    "_______ = ____ + ___\n",
    "print(_______)"
   ]
  },
  {
   "cell_type": "code",
   "execution_count": 41,
   "id": "2d38a7ba-2a00-430e-9729-02319b3808e3",
   "metadata": {},
   "outputs": [],
   "source": [
    "_0x12vX57_ = 19"
   ]
  },
  {
   "cell_type": "code",
   "execution_count": 42,
   "id": "d210d237-50a9-4160-b4de-bada6a2ed29d",
   "metadata": {},
   "outputs": [
    {
     "ename": "SyntaxError",
     "evalue": "cannot assign to literal here. Maybe you meant '==' instead of '='? (3181294833.py, line 1)",
     "output_type": "error",
     "traceback": [
      "\u001b[1;36m  Cell \u001b[1;32mIn[42], line 1\u001b[1;36m\u001b[0m\n\u001b[1;33m    19 = 27\u001b[0m\n\u001b[1;37m    ^\u001b[0m\n\u001b[1;31mSyntaxError\u001b[0m\u001b[1;31m:\u001b[0m cannot assign to literal here. Maybe you meant '==' instead of '='?\n"
     ]
    }
   ],
   "source": [
    "19 = 27"
   ]
  },
  {
   "cell_type": "markdown",
   "id": "639743bd-ec56-42ca-994b-08fcec202507",
   "metadata": {},
   "source": [
    "### operators"
   ]
  },
  {
   "cell_type": "code",
   "execution_count": 43,
   "id": "0418635a-0eec-4b3a-b2d4-82603a55e956",
   "metadata": {},
   "outputs": [],
   "source": [
    "# mathematical operators"
   ]
  },
  {
   "cell_type": "code",
   "execution_count": 44,
   "id": "f4db8b0f-da53-4438-87b1-45389df18eb3",
   "metadata": {},
   "outputs": [],
   "source": [
    "# addition "
   ]
  },
  {
   "cell_type": "code",
   "execution_count": 45,
   "id": "86e3f651-a136-4857-b5d1-2f146a558fad",
   "metadata": {},
   "outputs": [
    {
     "data": {
      "text/plain": [
       "5"
      ]
     },
     "execution_count": 45,
     "metadata": {},
     "output_type": "execute_result"
    }
   ],
   "source": [
    "2 + 3"
   ]
  },
  {
   "cell_type": "code",
   "execution_count": 46,
   "id": "a76d55dd-3871-486a-a09c-16f99bfdeb1e",
   "metadata": {},
   "outputs": [
    {
     "data": {
      "text/plain": [
       "-1"
      ]
     },
     "execution_count": 46,
     "metadata": {},
     "output_type": "execute_result"
    }
   ],
   "source": [
    "# subtraction\n",
    "5 - 6"
   ]
  },
  {
   "cell_type": "code",
   "execution_count": 47,
   "id": "691ecb5c-c2b9-47c6-8512-437b01aa8b7c",
   "metadata": {},
   "outputs": [
    {
     "data": {
      "text/plain": [
       "105"
      ]
     },
     "execution_count": 47,
     "metadata": {},
     "output_type": "execute_result"
    }
   ],
   "source": [
    "# multiplication\n",
    "\n",
    "15 * 7 "
   ]
  },
  {
   "cell_type": "code",
   "execution_count": 48,
   "id": "1bf5bfb1-303c-415a-a2be-c03fa19fb47b",
   "metadata": {},
   "outputs": [
    {
     "data": {
      "text/plain": [
       "3.0"
      ]
     },
     "execution_count": 48,
     "metadata": {},
     "output_type": "execute_result"
    }
   ],
   "source": [
    "# division \n",
    "\n",
    "15 / 5"
   ]
  },
  {
   "cell_type": "code",
   "execution_count": 50,
   "id": "5900f3e6-5475-4e19-8b52-9ffd827d3c66",
   "metadata": {},
   "outputs": [
    {
     "data": {
      "text/plain": [
       "2"
      ]
     },
     "execution_count": 50,
     "metadata": {},
     "output_type": "execute_result"
    }
   ],
   "source": [
    "# modulos \n",
    "\n",
    "5 % 3"
   ]
  },
  {
   "cell_type": "code",
   "execution_count": 51,
   "id": "60276331-ec71-4712-99e9-633b6e889c49",
   "metadata": {},
   "outputs": [
    {
     "data": {
      "text/plain": [
       "49"
      ]
     },
     "execution_count": 51,
     "metadata": {},
     "output_type": "execute_result"
    }
   ],
   "source": [
    "# exponential or raise to power\n",
    "\n",
    "7 ** 2 "
   ]
  },
  {
   "cell_type": "code",
   "execution_count": 52,
   "id": "2f6e7ffd-bb42-4b1f-b679-a6b383288f65",
   "metadata": {},
   "outputs": [
    {
     "data": {
      "text/plain": [
       "4"
      ]
     },
     "execution_count": 52,
     "metadata": {},
     "output_type": "execute_result"
    }
   ],
   "source": [
    "2 ** 2"
   ]
  },
  {
   "cell_type": "code",
   "execution_count": 53,
   "id": "8311e4b0-bddd-4e55-8386-be883f8d9c3c",
   "metadata": {},
   "outputs": [
    {
     "data": {
      "text/plain": [
       "8"
      ]
     },
     "execution_count": 53,
     "metadata": {},
     "output_type": "execute_result"
    }
   ],
   "source": [
    "2 ** 3 # 2 raise to power 3"
   ]
  },
  {
   "cell_type": "code",
   "execution_count": 54,
   "id": "1a003274-bff0-4fbf-bfa0-581da1f4f06b",
   "metadata": {},
   "outputs": [
    {
     "data": {
      "text/plain": [
       "3.0"
      ]
     },
     "execution_count": 54,
     "metadata": {},
     "output_type": "execute_result"
    }
   ],
   "source": [
    "# floor division (to force a division without remainder)\n",
    "\n",
    "3.9 // 1"
   ]
  },
  {
   "cell_type": "code",
   "execution_count": 55,
   "id": "b6f8953a-277f-47c1-8a03-b538a5ba4bda",
   "metadata": {},
   "outputs": [
    {
     "data": {
      "text/plain": [
       "33.333333333333336"
      ]
     },
     "execution_count": 55,
     "metadata": {},
     "output_type": "execute_result"
    }
   ],
   "source": [
    "100 / 3"
   ]
  },
  {
   "cell_type": "code",
   "execution_count": 56,
   "id": "e97ed5d9-7598-45c2-b28b-4cfca319781b",
   "metadata": {},
   "outputs": [
    {
     "data": {
      "text/plain": [
       "33"
      ]
     },
     "execution_count": 56,
     "metadata": {},
     "output_type": "execute_result"
    }
   ],
   "source": [
    "100 // 3"
   ]
  },
  {
   "cell_type": "code",
   "execution_count": 57,
   "id": "9fab11b3-1a1b-46b4-a28b-b3c9da272d15",
   "metadata": {},
   "outputs": [
    {
     "data": {
      "text/plain": [
       "33.0"
      ]
     },
     "execution_count": 57,
     "metadata": {},
     "output_type": "execute_result"
    }
   ],
   "source": [
    "33.9 // 1"
   ]
  },
  {
   "cell_type": "code",
   "execution_count": 58,
   "id": "c119613d-2c9e-49cd-ae71-2c906a299cb2",
   "metadata": {},
   "outputs": [
    {
     "data": {
      "text/plain": [
       "4.0"
      ]
     },
     "execution_count": 58,
     "metadata": {},
     "output_type": "execute_result"
    }
   ],
   "source": [
    "16 ** (1/2) # there is no operator for root (there is a function thou)"
   ]
  },
  {
   "cell_type": "code",
   "execution_count": 95,
   "id": "f13e72ad-1d51-4898-93ad-05ef234d8f87",
   "metadata": {},
   "outputs": [],
   "source": [
    "from math import sqrt # from the standart library"
   ]
  },
  {
   "cell_type": "markdown",
   "id": "6ce32fd7-1c71-4fce-a902-16b6d081b35a",
   "metadata": {},
   "source": [
    "#### sorry for the deviation (just trying to prova a point on the power of operators and how to overload them)"
   ]
  },
  {
   "cell_type": "code",
   "execution_count": 62,
   "id": "5a64c466-333b-4bf8-9f7a-b68dbf0ef293",
   "metadata": {},
   "outputs": [
    {
     "data": {
      "text/plain": [
       "4.0"
      ]
     },
     "execution_count": 62,
     "metadata": {},
     "output_type": "execute_result"
    }
   ],
   "source": [
    "sqrt(16)"
   ]
  },
  {
   "cell_type": "code",
   "execution_count": 92,
   "id": "77aabbeb-fbd5-4504-bfff-b223d9515047",
   "metadata": {},
   "outputs": [],
   "source": [
    "class Ade:\n",
    "    def __init__(self, value):\n",
    "        self.value = value \n",
    "    def __repr__(self):\n",
    "        return str(self.value)\n",
    "    def __add__(self, new_val):\n",
    "        return f\"{self.value}:{new_val}\"\n",
    "    def __eq__(self, new_val):\n",
    "        if (isinstance(10, int)):\n",
    "            return self.value == new_val\n",
    "        return self.value == new_val.value"
   ]
  },
  {
   "cell_type": "code",
   "execution_count": 82,
   "id": "4aaf3709-7f89-4b05-8af6-857d8dc19f6a",
   "metadata": {},
   "outputs": [
    {
     "data": {
      "text/plain": [
       "10"
      ]
     },
     "execution_count": 82,
     "metadata": {},
     "output_type": "execute_result"
    }
   ],
   "source": [
    "Ade(10)"
   ]
  },
  {
   "cell_type": "code",
   "execution_count": 83,
   "id": "a0856bff-bc56-4b61-b6eb-8e5e4c9e5f03",
   "metadata": {},
   "outputs": [
    {
     "data": {
      "text/plain": [
       "'10:10'"
      ]
     },
     "execution_count": 83,
     "metadata": {},
     "output_type": "execute_result"
    }
   ],
   "source": [
    "Ade(10) + 10"
   ]
  },
  {
   "cell_type": "code",
   "execution_count": 94,
   "id": "2237b56f-29da-4883-97ae-8f278dd387db",
   "metadata": {},
   "outputs": [
    {
     "data": {
      "text/plain": [
       "True"
      ]
     },
     "execution_count": 94,
     "metadata": {},
     "output_type": "execute_result"
    }
   ],
   "source": [
    "Ade(9) == 9"
   ]
  },
  {
   "cell_type": "code",
   "execution_count": 90,
   "id": "f91750ec-b950-415c-b334-fd7510e0b54d",
   "metadata": {},
   "outputs": [
    {
     "ename": "SyntaxError",
     "evalue": "invalid syntax (979999169.py, line 1)",
     "output_type": "error",
     "traceback": [
      "\u001b[1;36m  Cell \u001b[1;32mIn[90], line 1\u001b[1;36m\u001b[0m\n\u001b[1;33m    10 isinstance 11\u001b[0m\n\u001b[1;37m       ^\u001b[0m\n\u001b[1;31mSyntaxError\u001b[0m\u001b[1;31m:\u001b[0m invalid syntax\n"
     ]
    }
   ],
   "source": [
    "10 isinstance 11"
   ]
  },
  {
   "cell_type": "code",
   "execution_count": 91,
   "id": "19d746a4-b367-4b1a-bc9a-f77ff6c48f95",
   "metadata": {},
   "outputs": [
    {
     "data": {
      "text/plain": [
       "True"
      ]
     },
     "execution_count": 91,
     "metadata": {},
     "output_type": "execute_result"
    }
   ],
   "source": [
    "isinstance(10, int)"
   ]
  },
  {
   "cell_type": "markdown",
   "id": "a1dd04e3-5b70-4609-a25f-41a6e68fd36b",
   "metadata": {},
   "source": [
    "#### end of the point back to class"
   ]
  },
  {
   "cell_type": "code",
   "execution_count": 98,
   "id": "a3ea094a-30b5-4ce7-8c86-95f314688e34",
   "metadata": {},
   "outputs": [],
   "source": [
    "# assignment operator i.e = "
   ]
  },
  {
   "cell_type": "code",
   "execution_count": 99,
   "id": "7e69b7c7-8e52-4e68-be3b-fac23b033d7c",
   "metadata": {},
   "outputs": [],
   "source": [
    "adesegun = 7"
   ]
  },
  {
   "cell_type": "code",
   "execution_count": 100,
   "id": "74c8af6d-8829-40d3-9955-02520d6e074d",
   "metadata": {},
   "outputs": [],
   "source": [
    "# we can combine the matematical operator and the assignment operator"
   ]
  },
  {
   "cell_type": "code",
   "execution_count": 102,
   "id": "60e95b11-0cc8-457b-9d44-708726456419",
   "metadata": {},
   "outputs": [
    {
     "data": {
      "text/plain": [
       "12"
      ]
     },
     "execution_count": 102,
     "metadata": {},
     "output_type": "execute_result"
    }
   ],
   "source": [
    "#ade = ade + 7  is the same as ade += 7\n",
    "ade = 5 \n",
    "\n",
    "ade += 7\n",
    "\n",
    "ade"
   ]
  },
  {
   "cell_type": "code",
   "execution_count": 103,
   "id": "5cde98f0-d2ef-40ee-b226-00f7c6bc25d1",
   "metadata": {},
   "outputs": [],
   "source": [
    "ade **= 2"
   ]
  },
  {
   "cell_type": "code",
   "execution_count": 104,
   "id": "bf236fea-8782-43be-9a7f-3c3508288c52",
   "metadata": {},
   "outputs": [
    {
     "data": {
      "text/plain": [
       "144"
      ]
     },
     "execution_count": 104,
     "metadata": {},
     "output_type": "execute_result"
    }
   ],
   "source": [
    "ade"
   ]
  },
  {
   "cell_type": "code",
   "execution_count": 108,
   "id": "48341376-e205-4853-9860-4902e4c71c44",
   "metadata": {},
   "outputs": [],
   "source": [
    "ade %= 15"
   ]
  },
  {
   "cell_type": "code",
   "execution_count": 109,
   "id": "e9e2f45a-a9bf-49ff-92e5-343c51416bc2",
   "metadata": {},
   "outputs": [
    {
     "data": {
      "text/plain": [
       "9"
      ]
     },
     "execution_count": 109,
     "metadata": {},
     "output_type": "execute_result"
    }
   ],
   "source": [
    "ade"
   ]
  },
  {
   "cell_type": "code",
   "execution_count": 110,
   "id": "e129dc90-e5ba-4947-a01c-183b1a2985fd",
   "metadata": {},
   "outputs": [],
   "source": [
    "myString = \"hello world \""
   ]
  },
  {
   "cell_type": "code",
   "execution_count": 111,
   "id": "3fe3bad2-f577-4395-b8af-333a78b34bfd",
   "metadata": {},
   "outputs": [],
   "source": [
    "myString += \"!! \""
   ]
  },
  {
   "cell_type": "code",
   "execution_count": 112,
   "id": "a66dc9ae-ffd0-44ba-8f37-a3210fe7edee",
   "metadata": {},
   "outputs": [
    {
     "data": {
      "text/plain": [
       "'hello world !! '"
      ]
     },
     "execution_count": 112,
     "metadata": {},
     "output_type": "execute_result"
    }
   ],
   "source": [
    "myString"
   ]
  },
  {
   "cell_type": "code",
   "execution_count": 113,
   "id": "53d37a8a-fc1b-411c-a517-9e10a04e4535",
   "metadata": {},
   "outputs": [],
   "source": [
    "myString *= 3"
   ]
  },
  {
   "cell_type": "code",
   "execution_count": 114,
   "id": "e3462071-eab3-442a-9499-0991c59a1421",
   "metadata": {},
   "outputs": [
    {
     "data": {
      "text/plain": [
       "'hello world !! hello world !! hello world !! '"
      ]
     },
     "execution_count": 114,
     "metadata": {},
     "output_type": "execute_result"
    }
   ],
   "source": [
    "myString"
   ]
  },
  {
   "cell_type": "code",
   "execution_count": 115,
   "id": "5f8ce5e9-15d8-4226-b484-6b4a1e9abce3",
   "metadata": {},
   "outputs": [
    {
     "ename": "TypeError",
     "evalue": "unsupported operand type(s) for /=: 'str' and 'int'",
     "output_type": "error",
     "traceback": [
      "\u001b[1;31m---------------------------------------------------------------------------\u001b[0m",
      "\u001b[1;31mTypeError\u001b[0m                                 Traceback (most recent call last)",
      "Cell \u001b[1;32mIn[115], line 1\u001b[0m\n\u001b[1;32m----> 1\u001b[0m myString \u001b[38;5;241m/\u001b[39m\u001b[38;5;241m=\u001b[39m \u001b[38;5;241m3\u001b[39m\n",
      "\u001b[1;31mTypeError\u001b[0m: unsupported operand type(s) for /=: 'str' and 'int'"
     ]
    }
   ],
   "source": [
    "myString /= 3"
   ]
  },
  {
   "cell_type": "code",
   "execution_count": 116,
   "id": "bf35f90a-ce96-4497-8c7b-43db432667f1",
   "metadata": {},
   "outputs": [],
   "source": [
    "ade /= 3"
   ]
  },
  {
   "cell_type": "code",
   "execution_count": 117,
   "id": "4b8b5d71-2dda-4419-8022-84104cd2564b",
   "metadata": {},
   "outputs": [
    {
     "data": {
      "text/plain": [
       "3.0"
      ]
     },
     "execution_count": 117,
     "metadata": {},
     "output_type": "execute_result"
    }
   ],
   "source": [
    "ade"
   ]
  },
  {
   "cell_type": "code",
   "execution_count": 118,
   "id": "8750691c-7361-4ccf-9d56-377e61f724d8",
   "metadata": {},
   "outputs": [
    {
     "ename": "SyntaxError",
     "evalue": "invalid syntax (3498242335.py, line 1)",
     "output_type": "error",
     "traceback": [
      "\u001b[1;36m  Cell \u001b[1;32mIn[118], line 1\u001b[1;36m\u001b[0m\n\u001b[1;33m    segun := 5\u001b[0m\n\u001b[1;37m          ^\u001b[0m\n\u001b[1;31mSyntaxError\u001b[0m\u001b[1;31m:\u001b[0m invalid syntax\n"
     ]
    }
   ],
   "source": [
    "segun := 5"
   ]
  },
  {
   "cell_type": "code",
   "execution_count": 119,
   "id": "6772fef1-62fa-476b-9f47-3fdea1049f70",
   "metadata": {},
   "outputs": [
    {
     "data": {
      "text/plain": [
       "5"
      ]
     },
     "execution_count": 119,
     "metadata": {},
     "output_type": "execute_result"
    }
   ],
   "source": [
    "(segun := 5)"
   ]
  },
  {
   "cell_type": "code",
   "execution_count": 120,
   "id": "cea7665d-96b9-4862-b0f7-149777197b3a",
   "metadata": {},
   "outputs": [
    {
     "ename": "SyntaxError",
     "evalue": "invalid syntax. Maybe you meant '==' or ':=' instead of '='? (2908563875.py, line 1)",
     "output_type": "error",
     "traceback": [
      "\u001b[1;36m  Cell \u001b[1;32mIn[120], line 1\u001b[1;36m\u001b[0m\n\u001b[1;33m    (ade = 5)\u001b[0m\n\u001b[1;37m     ^\u001b[0m\n\u001b[1;31mSyntaxError\u001b[0m\u001b[1;31m:\u001b[0m invalid syntax. Maybe you meant '==' or ':=' instead of '='?\n"
     ]
    }
   ],
   "source": [
    "(ade = 5)"
   ]
  },
  {
   "cell_type": "code",
   "execution_count": 121,
   "id": "6a98fb5f-3144-47da-9953-748e9b831ad9",
   "metadata": {},
   "outputs": [
    {
     "data": {
      "text/plain": [
       "13.7"
      ]
     },
     "execution_count": 121,
     "metadata": {},
     "output_type": "execute_result"
    }
   ],
   "source": [
    "(2 * 5) + 7 / (2* 5) + 3"
   ]
  },
  {
   "cell_type": "code",
   "execution_count": 122,
   "id": "251e45b3-4283-452b-bf8f-19d22c3df322",
   "metadata": {},
   "outputs": [
    {
     "data": {
      "text/plain": [
       "13.7"
      ]
     },
     "execution_count": 122,
     "metadata": {},
     "output_type": "execute_result"
    }
   ],
   "source": [
    "# the walrus can be used to assign inside an expression\n",
    "(t25 := 2 * 5) + 7 / t25 + 3"
   ]
  },
  {
   "cell_type": "code",
   "execution_count": 123,
   "id": "e85b7d3f-ca14-408b-b7a2-103e35497c95",
   "metadata": {},
   "outputs": [
    {
     "data": {
      "text/plain": [
       "2"
      ]
     },
     "execution_count": 123,
     "metadata": {},
     "output_type": "execute_result"
    }
   ],
   "source": [
    "# bitwise \n",
    "\n",
    "2 & 2"
   ]
  },
  {
   "cell_type": "code",
   "execution_count": 126,
   "id": "f819ae29-6ebb-4819-a376-38bef4a56f45",
   "metadata": {},
   "outputs": [
    {
     "data": {
      "text/plain": [
       "3"
      ]
     },
     "execution_count": 126,
     "metadata": {},
     "output_type": "execute_result"
    }
   ],
   "source": [
    "1 | 2"
   ]
  },
  {
   "cell_type": "code",
   "execution_count": 127,
   "id": "e8e87973-6703-4a26-b3ad-0f3b641f3dec",
   "metadata": {},
   "outputs": [],
   "source": [
    "# logical operator (this are for boolean values only)"
   ]
  },
  {
   "cell_type": "code",
   "execution_count": 128,
   "id": "c534816c-0e7b-4895-8a17-4756c44d677f",
   "metadata": {},
   "outputs": [
    {
     "data": {
      "text/plain": [
       "True"
      ]
     },
     "execution_count": 128,
     "metadata": {},
     "output_type": "execute_result"
    }
   ],
   "source": [
    "True or False"
   ]
  },
  {
   "cell_type": "code",
   "execution_count": 129,
   "id": "73080ea6-82ec-4ea7-8494-676ebe43594b",
   "metadata": {},
   "outputs": [
    {
     "data": {
      "text/plain": [
       "True"
      ]
     },
     "execution_count": 129,
     "metadata": {},
     "output_type": "execute_result"
    }
   ],
   "source": [
    "True and True"
   ]
  },
  {
   "cell_type": "code",
   "execution_count": 130,
   "id": "8a26dabb-0be1-4742-9dfe-e146cac52884",
   "metadata": {},
   "outputs": [
    {
     "data": {
      "text/plain": [
       "False"
      ]
     },
     "execution_count": 130,
     "metadata": {},
     "output_type": "execute_result"
    }
   ],
   "source": [
    "not True"
   ]
  },
  {
   "cell_type": "code",
   "execution_count": 131,
   "id": "a0ad62a7-d724-4447-b825-dab22fb0f32a",
   "metadata": {},
   "outputs": [
    {
     "data": {
      "text/plain": [
       "False"
      ]
     },
     "execution_count": 131,
     "metadata": {},
     "output_type": "execute_result"
    }
   ],
   "source": [
    "not 1"
   ]
  },
  {
   "cell_type": "code",
   "execution_count": 132,
   "id": "4371d8e2-fb8b-4808-828b-e2aadae9f4ba",
   "metadata": {},
   "outputs": [],
   "source": [
    "# comparison operators"
   ]
  },
  {
   "cell_type": "code",
   "execution_count": 133,
   "id": "cfafedaa-b72c-44b5-a5bc-2a3fd53912b2",
   "metadata": {},
   "outputs": [
    {
     "data": {
      "text/plain": [
       "True"
      ]
     },
     "execution_count": 133,
     "metadata": {},
     "output_type": "execute_result"
    }
   ],
   "source": [
    "# less than\n",
    "10 < 12"
   ]
  },
  {
   "cell_type": "code",
   "execution_count": 134,
   "id": "e35a4c24-f987-43a9-b8b2-fc0406c7a287",
   "metadata": {},
   "outputs": [
    {
     "data": {
      "text/plain": [
       "True"
      ]
     },
     "execution_count": 134,
     "metadata": {},
     "output_type": "execute_result"
    }
   ],
   "source": [
    "# greater than \n",
    "10 > 5"
   ]
  },
  {
   "cell_type": "code",
   "execution_count": 135,
   "id": "c486bce1-6cc1-4b83-9b67-e4abb24efb1e",
   "metadata": {},
   "outputs": [
    {
     "data": {
      "text/plain": [
       "True"
      ]
     },
     "execution_count": 135,
     "metadata": {},
     "output_type": "execute_result"
    }
   ],
   "source": [
    "10 >= 10 # greater than or equal to"
   ]
  },
  {
   "cell_type": "code",
   "execution_count": 136,
   "id": "77302c53-94f4-4f12-b554-44c0a185df4a",
   "metadata": {},
   "outputs": [
    {
     "data": {
      "text/plain": [
       "True"
      ]
     },
     "execution_count": 136,
     "metadata": {},
     "output_type": "execute_result"
    }
   ],
   "source": [
    "10 <= 17 # less than or equal to "
   ]
  },
  {
   "cell_type": "code",
   "execution_count": 137,
   "id": "7568ab15-0d44-4ac8-b065-db5479ee3335",
   "metadata": {},
   "outputs": [
    {
     "data": {
      "text/plain": [
       "False"
      ]
     },
     "execution_count": 137,
     "metadata": {},
     "output_type": "execute_result"
    }
   ],
   "source": [
    "10 != 10 # not equal to "
   ]
  },
  {
   "cell_type": "code",
   "execution_count": 138,
   "id": "7500175c-de95-4962-9ea0-20d8075cf42f",
   "metadata": {},
   "outputs": [
    {
     "data": {
      "text/plain": [
       "True"
      ]
     },
     "execution_count": 138,
     "metadata": {},
     "output_type": "execute_result"
    }
   ],
   "source": [
    "10 == 10 "
   ]
  },
  {
   "cell_type": "code",
   "execution_count": 139,
   "id": "a707c11f-831d-42cf-9ae9-6395d0f38780",
   "metadata": {},
   "outputs": [
    {
     "data": {
      "text/plain": [
       "False"
      ]
     },
     "execution_count": 139,
     "metadata": {},
     "output_type": "execute_result"
    }
   ],
   "source": [
    " 2 > 3 and 7 < 5  "
   ]
  },
  {
   "cell_type": "code",
   "execution_count": 140,
   "id": "038fa164-7890-4e49-b1b8-0eeeb3fdd164",
   "metadata": {},
   "outputs": [
    {
     "data": {
      "text/plain": [
       "False"
      ]
     },
     "execution_count": 140,
     "metadata": {},
     "output_type": "execute_result"
    }
   ],
   "source": [
    " 2 < 3 and 7 < 5  "
   ]
  },
  {
   "cell_type": "code",
   "execution_count": 141,
   "id": "1e746438-43ed-4673-ae0f-806dde209fea",
   "metadata": {},
   "outputs": [
    {
     "data": {
      "text/plain": [
       "True"
      ]
     },
     "execution_count": 141,
     "metadata": {},
     "output_type": "execute_result"
    }
   ],
   "source": [
    " 2 < 3 or 7 < 5 "
   ]
  },
  {
   "cell_type": "code",
   "execution_count": null,
   "id": "2e1dda58-d63d-44ae-9ac4-907d65ae33b5",
   "metadata": {},
   "outputs": [],
   "source": [
    "not 2 < 3 and 7 < 5 "
   ]
  }
 ],
 "metadata": {
  "kernelspec": {
   "display_name": "Python 3 (ipykernel)",
   "language": "python",
   "name": "python3"
  },
  "language_info": {
   "codemirror_mode": {
    "name": "ipython",
    "version": 3
   },
   "file_extension": ".py",
   "mimetype": "text/x-python",
   "name": "python",
   "nbconvert_exporter": "python",
   "pygments_lexer": "ipython3",
   "version": "3.12.9"
  }
 },
 "nbformat": 4,
 "nbformat_minor": 5
}
