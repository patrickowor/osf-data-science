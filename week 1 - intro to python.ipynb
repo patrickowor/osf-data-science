{
 "cells": [
  {
   "cell_type": "markdown",
   "id": "6723ff34-73d4-4018-b1bf-cc4af2b03ca5",
   "metadata": {},
   "source": [
    "# Into To Python\n",
    "\n",
    "this is the first python class for os week 3 "
   ]
  },
  {
   "cell_type": "code",
   "execution_count": 4,
   "id": "5f0ceaa6-8479-4a5c-83cd-77e52ab530b6",
   "metadata": {},
   "outputs": [
    {
     "name": "stdout",
     "output_type": "stream",
     "text": [
      " Volume in drive C has no label.\n",
      " Volume Serial Number is A2EC-1761\n",
      "\n",
      " Directory of C:\\Users\\SourceBird\\Desktop\\HUT\\MINE\\osf 3\\data science\n",
      "\n",
      "04/03/2025  01:32    <DIR>          .\n",
      "04/03/2025  01:32    <DIR>          ..\n",
      "04/03/2025  01:30    <DIR>          .ipynb_checkpoints\n",
      "04/03/2025  01:32                41 test.py\n",
      "04/03/2025  01:31             1,226 week 1 - intro to python.ipynb\n",
      "               2 File(s)          1,267 bytes\n",
      "               3 Dir(s)  111,797,485,568 bytes free\n"
     ]
    }
   ],
   "source": [
    "! dir"
   ]
  },
  {
   "cell_type": "markdown",
   "id": "80e8ff3d-a78b-422b-83a5-e869ee78c82d",
   "metadata": {},
   "source": [
    "## the python data types"
   ]
  },
  {
   "cell_type": "code",
   "execution_count": 15,
   "id": "ed325a94-2742-47c8-86cd-007247545e98",
   "metadata": {},
   "outputs": [
    {
     "name": "stdout",
     "output_type": "stream",
     "text": [
      "<class 'int'>\n",
      "<class 'int'>\n",
      "150000000\n"
     ]
    }
   ],
   "source": [
    "# integers\n",
    "\n",
    "print(type(1))\n",
    "\n",
    "print(type(-15))\n",
    "\n",
    "print(150_000_000)"
   ]
  },
  {
   "cell_type": "code",
   "execution_count": 28,
   "id": "c7c7f950-5575-4f61-8ac4-81aad2078022",
   "metadata": {},
   "outputs": [
    {
     "name": "stdout",
     "output_type": "stream",
     "text": [
      "<class 'float'>\n",
      "<class 'float'>\n"
     ]
    }
   ],
   "source": [
    "# floats\n",
    "\n",
    "\n",
    "print(type(1 / 3))\n",
    "\n",
    "print(type(- 0.16))"
   ]
  },
  {
   "cell_type": "code",
   "execution_count": 8,
   "id": "9c4421f0-56b3-42ef-bd23-4428d4ccd6ba",
   "metadata": {},
   "outputs": [
    {
     "data": {
      "text/plain": [
       "3"
      ]
     },
     "execution_count": 8,
     "metadata": {},
     "output_type": "execute_result"
    }
   ],
   "source": [
    "10 // 3"
   ]
  },
  {
   "cell_type": "code",
   "execution_count": 9,
   "id": "a541fbb6-93f4-4842-b1ea-b0869711fbc5",
   "metadata": {},
   "outputs": [
    {
     "data": {
      "text/plain": [
       "3"
      ]
     },
     "execution_count": 9,
     "metadata": {},
     "output_type": "execute_result"
    }
   ],
   "source": [
    "# convet float to int with a type cast\n",
    "\n",
    "int(10/ 3) # they will throw away the remainder"
   ]
  },
  {
   "cell_type": "code",
   "execution_count": 16,
   "id": "cf1eb0c1-acd6-48d4-8ac1-b0772e4a9b92",
   "metadata": {},
   "outputs": [
    {
     "data": {
      "text/plain": [
       "1.5"
      ]
     },
     "execution_count": 16,
     "metadata": {},
     "output_type": "execute_result"
    }
   ],
   "source": [
    "1 + 0.5"
   ]
  },
  {
   "cell_type": "code",
   "execution_count": 17,
   "id": "f7c357ac-7b00-4e63-9b3f-d257fa87702a",
   "metadata": {},
   "outputs": [
    {
     "data": {
      "text/plain": [
       "0.30000000000000004"
      ]
     },
     "execution_count": 17,
     "metadata": {},
     "output_type": "execute_result"
    }
   ],
   "source": [
    "0.1 + 0.2 "
   ]
  },
  {
   "cell_type": "code",
   "execution_count": 18,
   "id": "a733ad0a-f18b-42c9-8020-5b7f959bf832",
   "metadata": {},
   "outputs": [],
   "source": [
    "# string"
   ]
  },
  {
   "cell_type": "code",
   "execution_count": 22,
   "id": "1be50044-cfbf-421b-8605-c9c20b334753",
   "metadata": {},
   "outputs": [
    {
     "data": {
      "text/plain": [
       "str"
      ]
     },
     "execution_count": 22,
     "metadata": {},
     "output_type": "execute_result"
    }
   ],
   "source": [
    "type(\"hello world\")"
   ]
  },
  {
   "cell_type": "code",
   "execution_count": 21,
   "id": "d9e005f0-3fa3-4aab-85da-a1e6a3de8100",
   "metadata": {},
   "outputs": [
    {
     "name": "stdout",
     "output_type": "stream",
     "text": [
      "hello\n",
      "hello\n",
      "hello\n",
      "hello\n"
     ]
    }
   ],
   "source": [
    "print('hello')\n",
    "\n",
    "print(\"hello\")\n",
    "\n",
    "print('''hello''')\n",
    "\n",
    "print(\"\"\"hello\"\"\")"
   ]
  },
  {
   "cell_type": "code",
   "execution_count": 23,
   "id": "4aa1bd82-6177-4e0b-ab33-ff5e2ba0d39b",
   "metadata": {},
   "outputs": [
    {
     "ename": "SyntaxError",
     "evalue": "unterminated string literal (detected at line 1) (3447257727.py, line 1)",
     "output_type": "error",
     "traceback": [
      "\u001b[1;36m  Cell \u001b[1;32mIn[23], line 1\u001b[1;36m\u001b[0m\n\u001b[1;33m    'this is ade's ball'\u001b[0m\n\u001b[1;37m                       ^\u001b[0m\n\u001b[1;31mSyntaxError\u001b[0m\u001b[1;31m:\u001b[0m unterminated string literal (detected at line 1)\n"
     ]
    }
   ],
   "source": [
    "'this is ade's ball'"
   ]
  },
  {
   "cell_type": "code",
   "execution_count": 24,
   "id": "c8ce3af4-9f5a-4715-ac9c-c79c93892f5b",
   "metadata": {},
   "outputs": [
    {
     "data": {
      "text/plain": [
       "\"this is ade's ball\""
      ]
     },
     "execution_count": 24,
     "metadata": {},
     "output_type": "execute_result"
    }
   ],
   "source": [
    "'this is ade\\'s ball'"
   ]
  },
  {
   "cell_type": "code",
   "execution_count": 25,
   "id": "566f086a-7535-439d-a14e-538cc7c7c3ae",
   "metadata": {},
   "outputs": [
    {
     "data": {
      "text/plain": [
       "\"this is ade's ball\""
      ]
     },
     "execution_count": 25,
     "metadata": {},
     "output_type": "execute_result"
    }
   ],
   "source": [
    "\"this is ade's ball\""
   ]
  },
  {
   "cell_type": "code",
   "execution_count": 26,
   "id": "6f507fdf-37f0-45d7-9c0f-9dd069c15f23",
   "metadata": {},
   "outputs": [
    {
     "data": {
      "text/plain": [
       "'\"this is ade\\'s ball\" he said'"
      ]
     },
     "execution_count": 26,
     "metadata": {},
     "output_type": "execute_result"
    }
   ],
   "source": [
    "''' \"this is ade's ball\" he said '''"
   ]
  },
  {
   "cell_type": "code",
   "execution_count": 3,
   "id": "8d32581d-9d9e-46d7-881c-f8bff8876fd9",
   "metadata": {},
   "outputs": [
    {
     "name": "stdout",
     "output_type": "stream",
     "text": [
      " \n",
      "i love this class\n",
      "although i am seeing someone dosing off\n",
      "but its fine no issues\n",
      "\n"
     ]
    }
   ],
   "source": [
    "print(\"\"\" \n",
    "i love this class\n",
    "although i am seeing someone dosing off\n",
    "but its fine no issues\n",
    "\"\"\")"
   ]
  },
  {
   "cell_type": "code",
   "execution_count": 34,
   "id": "ffdd03ec-e0bb-4541-907c-1cde8cfe545c",
   "metadata": {},
   "outputs": [
    {
     "name": "stdout",
     "output_type": "stream",
     "text": [
      "this is ade's \n",
      "ball\n"
     ]
    }
   ],
   "source": [
    "print(\"this is ade's \\nball\")"
   ]
  },
  {
   "cell_type": "code",
   "execution_count": 1,
   "id": "b0549507-2ada-42be-b5a6-4c397283493a",
   "metadata": {},
   "outputs": [
    {
     "name": "stdout",
     "output_type": "stream",
     "text": [
      "C:\\some\n",
      "ame\n"
     ]
    },
    {
     "name": "stderr",
     "output_type": "stream",
     "text": [
      "<>:1: SyntaxWarning: invalid escape sequence '\\s'\n",
      "<>:1: SyntaxWarning: invalid escape sequence '\\s'\n",
      "C:\\Users\\SourceBird\\AppData\\Local\\Temp\\ipykernel_10392\\2321747926.py:1: SyntaxWarning: invalid escape sequence '\\s'\n",
      "  print(\"C:\\some\\name\")\n"
     ]
    }
   ],
   "source": [
    "print(\"C:\\some\\name\") "
   ]
  },
  {
   "cell_type": "code",
   "execution_count": 4,
   "id": "dee2ade7-cc69-4367-b5c7-cd5d5a7dfd5f",
   "metadata": {},
   "outputs": [
    {
     "name": "stdout",
     "output_type": "stream",
     "text": [
      "C:\\some\\name\n"
     ]
    }
   ],
   "source": [
    "print(\"C:\\\\some\\\\name\") "
   ]
  },
  {
   "cell_type": "code",
   "execution_count": 38,
   "id": "8718570c-8380-494f-b518-6a7598ac4dad",
   "metadata": {},
   "outputs": [
    {
     "name": "stdout",
     "output_type": "stream",
     "text": [
      "C:\\some\\name\n"
     ]
    }
   ],
   "source": [
    "print(r\"C:\\some\\name\") "
   ]
  },
  {
   "cell_type": "code",
   "execution_count": null,
   "id": "0a4729cf-318e-468d-bd9d-59621e441f56",
   "metadata": {},
   "outputs": [],
   "source": []
  }
 ],
 "metadata": {
  "kernelspec": {
   "display_name": "Python 3 (ipykernel)",
   "language": "python",
   "name": "python3"
  },
  "language_info": {
   "codemirror_mode": {
    "name": "ipython",
    "version": 3
   },
   "file_extension": ".py",
   "mimetype": "text/x-python",
   "name": "python",
   "nbconvert_exporter": "python",
   "pygments_lexer": "ipython3",
   "version": "3.12.9"
  }
 },
 "nbformat": 4,
 "nbformat_minor": 5
}
