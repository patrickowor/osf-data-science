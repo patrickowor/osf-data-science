{
 "cells": [
  {
   "cell_type": "code",
   "execution_count": 2,
   "id": "35645863-b5ab-463c-a858-4677536a7223",
   "metadata": {},
   "outputs": [],
   "source": [
    "basket = [\"orange\",\"orange\", \"guava\", \"guava\", \"guava\", \"guava\", \"guava\", \"guava\", \"guava\", \"pear\", \"pear\", \"pear\" ]"
   ]
  },
  {
   "cell_type": "code",
   "execution_count": 3,
   "id": "e00e2705-a18b-42ef-b70b-47467606787e",
   "metadata": {},
   "outputs": [
    {
     "name": "stdout",
     "output_type": "stream",
     "text": [
      "i got the orange\n",
      "i got the orange\n",
      "i got the guava\n",
      "i got the guava\n",
      "i got the guava\n",
      "i got the guava\n",
      "i got the guava\n",
      "i got the guava\n",
      "i got the guava\n",
      "i got the pear\n",
      "i got the pear\n",
      "i got the pear\n"
     ]
    }
   ],
   "source": [
    "for item in basket:\n",
    "    print(f\"i got the {item}\")"
   ]
  },
  {
   "cell_type": "code",
   "execution_count": 10,
   "id": "6e28c820-fd0a-4812-b42e-1f3fb083f63d",
   "metadata": {},
   "outputs": [
    {
     "name": "stdout",
     "output_type": "stream",
     "text": [
      "i got the orange\n",
      "i got the orange\n",
      "i got the guava\n",
      "i got the guava\n",
      "i got the guava\n",
      "i got the guava\n",
      "i got the guava\n",
      "i got the guava\n",
      "i got the guava\n",
      "i got the pear\n",
      "i got the pear\n",
      "i got the pear\n"
     ]
    }
   ],
   "source": [
    "basket = {\"orange\": 2, \"guava\": 7, \"pear\": 3}\n",
    "\n",
    "for key, value in basket.items():\n",
    "    for _ in range(value):\n",
    "        print(f\"i got the {key}\")"
   ]
  },
  {
   "cell_type": "code",
   "execution_count": 7,
   "id": "3f707f75-8044-45d7-b3e4-fb9b8f0466ba",
   "metadata": {},
   "outputs": [
    {
     "name": "stdout",
     "output_type": "stream",
     "text": [
      "i got the orange\n",
      "i got the orange\n",
      "i got the guava\n",
      "i got the guava\n",
      "i got the guava\n",
      "i got the guava\n",
      "i got the guava\n",
      "i got the guava\n",
      "i got the guava\n",
      "i got the pear\n",
      "i got the pear\n",
      "i got the pear\n"
     ]
    }
   ],
   "source": [
    "_ = [ print(f\"i got the {item}\") for item in [\"orange\",\"orange\", \"guava\", \"guava\", \"guava\", \"guava\", \"guava\", \"guava\", \"guava\", \"pear\", \"pear\", \"pear\" ]]"
   ]
  },
  {
   "cell_type": "code",
   "execution_count": 11,
   "id": "f3dd839d-0123-43c8-acb1-6e0995e445b5",
   "metadata": {},
   "outputs": [
    {
     "name": "stdout",
     "output_type": "stream",
     "text": [
      "i got the orange\n",
      "i got the orange\n",
      "i got the guava\n",
      "i got the guava\n",
      "i got the guava\n",
      "i got the guava\n",
      "i got the guava\n",
      "i got the guava\n",
      "i got the guava\n",
      "i got the pear\n",
      "i got the pear\n",
      "i got the pear\n"
     ]
    }
   ],
   "source": [
    "basket = []\n",
    "\n",
    "for key, value in {\"orange\": 2, \"guava\": 7, \"pear\": 3}.items():\n",
    "\n",
    "    basket += [key] * value\n",
    "\n",
    "for item in basket:\n",
    "    print(f\"i got the {item}\")"
   ]
  },
  {
   "cell_type": "code",
   "execution_count": null,
   "id": "fcccf373-8239-4ade-84c5-65cf838e8093",
   "metadata": {},
   "outputs": [],
   "source": [
    "# 1 \n",
    "# 1 2 \n",
    "# 1 2 3 \n",
    "# 1 2 3 4 \n",
    "# 1 2 3 4 5"
   ]
  },
  {
   "cell_type": "code",
   "execution_count": 24,
   "id": "507f02df-b1bb-4bc4-81d5-f7f09b0ce9db",
   "metadata": {},
   "outputs": [
    {
     "name": "stdout",
     "output_type": "stream",
     "text": [
      "1 \n",
      "1 2 \n",
      "1 2 3 \n",
      "1 2 3 4 \n",
      "1 2 3 4 5 \n"
     ]
    }
   ],
   "source": [
    "printable = \"\"\n",
    "\n",
    "for i in range(1, 6):\n",
    "    printable += f\"{i} \"\n",
    "    print(printable)"
   ]
  },
  {
   "cell_type": "code",
   "execution_count": 30,
   "id": "ee8529e7-ac27-4e2c-86b5-008a20230224",
   "metadata": {},
   "outputs": [
    {
     "name": "stdin",
     "output_type": "stream",
     "text": [
      "enter a number:  10\n"
     ]
    },
    {
     "name": "stdout",
     "output_type": "stream",
     "text": [
      "55\n"
     ]
    }
   ],
   "source": [
    "given = int(input(\"enter a number: \"))\n",
    "\n",
    "total = 0\n",
    "\n",
    "for i in range(1, given + 1):\n",
    "     total = total + i\n",
    "\n",
    "    \n",
    "print(total)"
   ]
  },
  {
   "cell_type": "code",
   "execution_count": 37,
   "id": "41e1d8be-1736-43ae-908f-153e7e3b5a8b",
   "metadata": {},
   "outputs": [
    {
     "name": "stdin",
     "output_type": "stream",
     "text": [
      "enter the multiplication table you want:  2\n"
     ]
    },
    {
     "name": "stdout",
     "output_type": "stream",
     "text": [
      "2 X  1 =  2\n",
      "2 X  2 =  4\n",
      "2 X  3 =  6\n",
      "2 X  4 =  8\n",
      "2 X  5 =  10\n",
      "2 X  6 =  12\n",
      "2 X  7 =  14\n",
      "2 X  8 =  16\n",
      "2 X  9 =  18\n",
      "2 X  10 =  20\n",
      "2 X  11 =  22\n",
      "2 X  12 =  24\n",
      "2 X  13 =  26\n",
      "2 X  14 =  28\n",
      "2 X  15 =  30\n"
     ]
    }
   ],
   "source": [
    "table = int(input(\"enter the multiplication table you want: \"))\n",
    "\n",
    "for i in range(1, 16):\n",
    "    print(f\"{table} X  {i} = \",i * table)"
   ]
  },
  {
   "cell_type": "code",
   "execution_count": 51,
   "id": "035f312a-ef46-47a6-b6d9-2867aaa8ab98",
   "metadata": {},
   "outputs": [
    {
     "name": "stdout",
     "output_type": "stream",
     "text": [
      "75\n",
      "150\n",
      "145\n"
     ]
    }
   ],
   "source": [
    "numbers = [12, 75, 150, 180, 145, 525, 50]\n",
    "\n",
    "\n",
    "for i in numbers:\n",
    "\n",
    "    if i % 5 != 0:\n",
    "        continue\n",
    "    elif i > 500:\n",
    "        break\n",
    "    elif i > 150 :\n",
    "        continue\n",
    "\n",
    "    \n",
    "    print(i)"
   ]
  },
  {
   "cell_type": "code",
   "execution_count": 56,
   "id": "c6b5febe-f5f0-41b8-82a7-3fa3c5a1e11d",
   "metadata": {},
   "outputs": [
    {
     "name": "stdout",
     "output_type": "stream",
     "text": [
      "50\n",
      "40\n",
      "30\n",
      "20\n",
      "10\n"
     ]
    }
   ],
   "source": [
    "list1 = [10, 20, 30, 40, 50]\n",
    "list_length = len(list1)\n",
    "for i in range(1, list_length + 1):\n",
    "    print(list1[-i])"
   ]
  },
  {
   "cell_type": "code",
   "execution_count": 53,
   "id": "e196724c-0fa8-426d-987d-594a8ae30ae6",
   "metadata": {},
   "outputs": [
    {
     "data": {
      "text/plain": [
       "5"
      ]
     },
     "execution_count": 53,
     "metadata": {},
     "output_type": "execute_result"
    }
   ],
   "source": [
    "list_length"
   ]
  },
  {
   "cell_type": "code",
   "execution_count": 58,
   "id": "cfb7a2e4-9035-40f0-861f-c7dc4f37d4c5",
   "metadata": {},
   "outputs": [
    {
     "data": {
      "text/plain": [
       "[50, 40, 30, 20, 10]"
      ]
     },
     "execution_count": 58,
     "metadata": {},
     "output_type": "execute_result"
    }
   ],
   "source": [
    "list1[::-1]"
   ]
  },
  {
   "cell_type": "code",
   "execution_count": 63,
   "id": "dfe479dc-161e-4713-8bf4-836a9fa2a170",
   "metadata": {},
   "outputs": [
    {
     "data": {
      "text/plain": [
       "[30, 20, 10]"
      ]
     },
     "execution_count": 63,
     "metadata": {},
     "output_type": "execute_result"
    }
   ],
   "source": [
    "list1[2:: -1]"
   ]
  },
  {
   "cell_type": "code",
   "execution_count": 65,
   "id": "1ee1881c-0ec2-47bf-bf6f-11c3724db03c",
   "metadata": {
    "scrolled": true
   },
   "outputs": [
    {
     "name": "stdout",
     "output_type": "stream",
     "text": [
      "0\n",
      "1\n",
      "2\n",
      "3\n",
      "4\n",
      "Done!\n"
     ]
    }
   ],
   "source": [
    "for i in range(5):\n",
    "    print(i)\n",
    "print(\"Done!\")"
   ]
  },
  {
   "cell_type": "code",
   "execution_count": null,
   "id": "608efa89-9b1b-4f2b-a9ac-93d3ff9e949b",
   "metadata": {},
   "outputs": [],
   "source": []
  }
 ],
 "metadata": {
  "kernelspec": {
   "display_name": "Python 3 (ipykernel)",
   "language": "python",
   "name": "python3"
  },
  "language_info": {
   "codemirror_mode": {
    "name": "ipython",
    "version": 3
   },
   "file_extension": ".py",
   "mimetype": "text/x-python",
   "name": "python",
   "nbconvert_exporter": "python",
   "pygments_lexer": "ipython3",
   "version": "3.12.9"
  }
 },
 "nbformat": 4,
 "nbformat_minor": 5
}
