{
 "cells": [
  {
   "cell_type": "markdown",
   "id": "73eb3c10-a0f8-4c5d-b9af-befad0329d47",
   "metadata": {},
   "source": [
    "# LOOPS"
   ]
  },
  {
   "cell_type": "markdown",
   "id": "c0317e8f-884a-4fa8-a826-7d6784b11604",
   "metadata": {},
   "source": [
    "#### for loops"
   ]
  },
  {
   "cell_type": "code",
   "execution_count": null,
   "id": "0d891e96-d463-431d-b2f7-a4fc75187037",
   "metadata": {},
   "outputs": [],
   "source": [
    "iter ()\n",
    "next()"
   ]
  },
  {
   "cell_type": "code",
   "execution_count": 11,
   "id": "ea2b0645-0170-4439-bb0b-9e5147699d13",
   "metadata": {},
   "outputs": [],
   "source": [
    "myList = [7, 1,2,3,4]"
   ]
  },
  {
   "cell_type": "code",
   "execution_count": 12,
   "id": "420a8c4d-5085-4afb-80e4-aa1ca5da4521",
   "metadata": {},
   "outputs": [
    {
     "data": {
      "text/plain": [
       "['__add__',\n",
       " '__class__',\n",
       " '__class_getitem__',\n",
       " '__contains__',\n",
       " '__delattr__',\n",
       " '__delitem__',\n",
       " '__dir__',\n",
       " '__doc__',\n",
       " '__eq__',\n",
       " '__format__',\n",
       " '__ge__',\n",
       " '__getattribute__',\n",
       " '__getitem__',\n",
       " '__getstate__',\n",
       " '__gt__',\n",
       " '__hash__',\n",
       " '__iadd__',\n",
       " '__imul__',\n",
       " '__init__',\n",
       " '__init_subclass__',\n",
       " '__iter__',\n",
       " '__le__',\n",
       " '__len__',\n",
       " '__lt__',\n",
       " '__mul__',\n",
       " '__ne__',\n",
       " '__new__',\n",
       " '__reduce__',\n",
       " '__reduce_ex__',\n",
       " '__repr__',\n",
       " '__reversed__',\n",
       " '__rmul__',\n",
       " '__setattr__',\n",
       " '__setitem__',\n",
       " '__sizeof__',\n",
       " '__str__',\n",
       " '__subclasshook__',\n",
       " 'append',\n",
       " 'clear',\n",
       " 'copy',\n",
       " 'count',\n",
       " 'extend',\n",
       " 'index',\n",
       " 'insert',\n",
       " 'pop',\n",
       " 'remove',\n",
       " 'reverse',\n",
       " 'sort']"
      ]
     },
     "execution_count": 12,
     "metadata": {},
     "output_type": "execute_result"
    }
   ],
   "source": [
    "dir(myList) # looking at the list we understand it implements iter"
   ]
  },
  {
   "cell_type": "code",
   "execution_count": 13,
   "id": "e76367b1-5564-4c5a-85d8-440146d2c61b",
   "metadata": {},
   "outputs": [],
   "source": [
    "i = iter(myList)"
   ]
  },
  {
   "cell_type": "code",
   "execution_count": 14,
   "id": "247a6796-9dde-40bd-ac44-f3b1f6d79d1a",
   "metadata": {},
   "outputs": [
    {
     "data": {
      "text/plain": [
       "7"
      ]
     },
     "execution_count": 14,
     "metadata": {},
     "output_type": "execute_result"
    }
   ],
   "source": [
    "next(i)"
   ]
  },
  {
   "cell_type": "code",
   "execution_count": 15,
   "id": "94a06698-fef6-449e-9d52-627e029fe12a",
   "metadata": {},
   "outputs": [
    {
     "data": {
      "text/plain": [
       "1"
      ]
     },
     "execution_count": 15,
     "metadata": {},
     "output_type": "execute_result"
    }
   ],
   "source": [
    "next(i)"
   ]
  },
  {
   "cell_type": "code",
   "execution_count": 18,
   "id": "373ee0f5-afb5-4e45-8ecc-05eca0431038",
   "metadata": {},
   "outputs": [
    {
     "name": "stdout",
     "output_type": "stream",
     "text": [
      "9\n",
      "3\n",
      "4\n",
      "5\n",
      "6\n"
     ]
    }
   ],
   "source": [
    "for myListItems in myList:\n",
    "    print(myListItems + 2)"
   ]
  },
  {
   "cell_type": "code",
   "execution_count": 32,
   "id": "0437bb88-de32-4dca-b685-18a554c5e16d",
   "metadata": {},
   "outputs": [],
   "source": [
    "people_age = []"
   ]
  },
  {
   "cell_type": "code",
   "execution_count": 33,
   "id": "1dbf5d39-1152-4880-802c-6a2a9186a453",
   "metadata": {},
   "outputs": [],
   "source": [
    "people = [1999, 1995, 1996, 1992, 1857, 1960, 1844]"
   ]
  },
  {
   "cell_type": "code",
   "execution_count": 28,
   "id": "91911e7d-2c77-4290-9fd7-e1feab510e50",
   "metadata": {},
   "outputs": [],
   "source": [
    "people_age.append(2025 - people[0]) "
   ]
  },
  {
   "cell_type": "code",
   "execution_count": 29,
   "id": "e06e2c9b-de56-4555-b4ae-fa4cf759b8f6",
   "metadata": {},
   "outputs": [],
   "source": [
    "people_age.append(2025 - people[1]) "
   ]
  },
  {
   "cell_type": "code",
   "execution_count": 30,
   "id": "19aa36be-970a-4efb-94f4-0f95906f1997",
   "metadata": {},
   "outputs": [],
   "source": [
    "people_age.append(2025 - people[2]) "
   ]
  },
  {
   "cell_type": "code",
   "execution_count": 37,
   "id": "99cec8bb-0ae0-487c-abec-f0de9beabb52",
   "metadata": {},
   "outputs": [
    {
     "data": {
      "text/plain": [
       "[26, 30, 29, 33, 168, 65, 181]"
      ]
     },
     "execution_count": 37,
     "metadata": {},
     "output_type": "execute_result"
    }
   ],
   "source": [
    "people_age"
   ]
  },
  {
   "cell_type": "code",
   "execution_count": 36,
   "id": "b760a494-3a04-4a34-b571-b799a5aa095d",
   "metadata": {},
   "outputs": [],
   "source": [
    "for year_of_birth in people:\n",
    "    people_age.append(2025 - year_of_birth) "
   ]
  },
  {
   "cell_type": "code",
   "execution_count": 47,
   "id": "0dae6813-1688-421b-b7b5-b9fdba147af7",
   "metadata": {},
   "outputs": [
    {
     "data": {
      "text/plain": [
       "1"
      ]
     },
     "execution_count": 47,
     "metadata": {},
     "output_type": "execute_result"
    }
   ],
   "source": [
    "1 % 2"
   ]
  },
  {
   "cell_type": "code",
   "execution_count": 51,
   "id": "fd303342-16c8-4177-8c65-9270e9a44d48",
   "metadata": {},
   "outputs": [
    {
     "name": "stdout",
     "output_type": "stream",
     "text": [
      "[]\n"
     ]
    }
   ],
   "source": [
    "odd = []\n",
    "# # even = []\n",
    "# for val in range(0, 2000):\n",
    "#     continue\n",
    "#     # if val % 2 == 0:\n",
    "            \n",
    "    odd.append(val)\n",
    "\n",
    "for somenthing in somethings:\n",
    "for car in cars\n",
    "for name in names\n",
    "for age in ages\n",
    "for dog in dogs\n",
    "for person in people\n",
    "for person in persons\n",
    "\n",
    "\n",
    "    \n",
    "print(odd)"
   ]
  },
  {
   "cell_type": "code",
   "execution_count": 52,
   "id": "d7de82a5-9cb8-4882-9216-6355345c43c3",
   "metadata": {},
   "outputs": [
    {
     "name": "stdout",
     "output_type": "stream",
     "text": [
      "h\n",
      "e\n",
      "l\n",
      "l\n",
      "o\n"
     ]
    }
   ],
   "source": [
    "for char in \"hello\":\n",
    "    print(char)"
   ]
  },
  {
   "cell_type": "code",
   "execution_count": null,
   "id": "9adc7ab7-baa6-4c6b-b169-d5a8aa21be19",
   "metadata": {},
   "outputs": [],
   "source": []
  }
 ],
 "metadata": {
  "kernelspec": {
   "display_name": "Python 3 (ipykernel)",
   "language": "python",
   "name": "python3"
  },
  "language_info": {
   "codemirror_mode": {
    "name": "ipython",
    "version": 3
   },
   "file_extension": ".py",
   "mimetype": "text/x-python",
   "name": "python",
   "nbconvert_exporter": "python",
   "pygments_lexer": "ipython3",
   "version": "3.12.9"
  }
 },
 "nbformat": 4,
 "nbformat_minor": 5
}
