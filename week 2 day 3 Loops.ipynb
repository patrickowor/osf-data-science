{
 "cells": [
  {
   "cell_type": "markdown",
   "id": "ee86ead2-5088-43ff-872b-f3132700baee",
   "metadata": {},
   "source": [
    "### assignment"
   ]
  },
  {
   "cell_type": "code",
   "execution_count": 7,
   "id": "3c0001ec-9315-4c8b-98b3-8bf0ad8ee89b",
   "metadata": {},
   "outputs": [
    {
     "name": "stdin",
     "output_type": "stream",
     "text": [
      "enter a number:  10\n",
      "enter the operation:         -      \n",
      "enter another number:  15\n"
     ]
    },
    {
     "name": "stdout",
     "output_type": "stream",
     "text": [
      "invalid character in symbol sym='       -      '\n"
     ]
    }
   ],
   "source": [
    "val1 = int(input(\"enter a number: \").strip())\n",
    "sym = input(\"enter the operation: \").strip()\n",
    "value2 = int(input(\"enter another number: \").strip())\n",
    "result = None\n",
    "if sym == \"+\":\n",
    "    result = val1 + value2\n",
    "elif sym == \"-\":\n",
    "    result = val1 - value2\n",
    "elif sym == \"/\":\n",
    "    result = val1 / value2\n",
    "elif sym == \"*\" or sym == \"x\":\n",
    "    result = val1 * value2\n",
    "elif sym == \"^\":\n",
    "    result = val1 ** value2\n",
    "\n",
    "if result != None:\n",
    "    print(f\"the result is: {result}\")\n",
    "else:\n",
    "    print(f\"invalid character in symbol {sym=}\")"
   ]
  },
  {
   "cell_type": "code",
   "execution_count": 9,
   "id": "7d2499f0-809a-47f6-b54f-5971b6e1ba30",
   "metadata": {},
   "outputs": [
    {
     "data": {
      "text/plain": [
       "'my name is ade '"
      ]
     },
     "execution_count": 9,
     "metadata": {},
     "output_type": "execute_result"
    }
   ],
   "source": [
    "name = \"ade\"\n",
    "\"my name is {} \".format(name)"
   ]
  },
  {
   "cell_type": "code",
   "execution_count": 10,
   "id": "e84c2a6e-e600-4856-8630-226bb27f53a9",
   "metadata": {},
   "outputs": [
    {
     "data": {
      "text/plain": [
       "'my name is ade '"
      ]
     },
     "execution_count": 10,
     "metadata": {},
     "output_type": "execute_result"
    }
   ],
   "source": [
    "name = \"ade\"\n",
    "f\"my name is {name} \""
   ]
  },
  {
   "cell_type": "code",
   "execution_count": 20,
   "id": "3920ae62-151f-4c22-acf3-56cb7e402227",
   "metadata": {},
   "outputs": [
    {
     "data": {
      "text/plain": [
       "'amount in 2 decimal place amount=500.1 '"
      ]
     },
     "execution_count": 20,
     "metadata": {},
     "output_type": "execute_result"
    }
   ],
   "source": [
    "amount = 500.1000\n",
    "f\"amount in 2 decimal place {amount=} \""
   ]
  },
  {
   "cell_type": "code",
   "execution_count": 27,
   "id": "a07537d5-c25d-4c60-8a12-77b693a8cac7",
   "metadata": {},
   "outputs": [
    {
     "data": {
      "text/plain": [
       "'None'"
      ]
     },
     "execution_count": 27,
     "metadata": {},
     "output_type": "execute_result"
    }
   ],
   "source": [
    "\"{}\".format(result)"
   ]
  },
  {
   "cell_type": "code",
   "execution_count": null,
   "id": "c2061ea5-2dca-4789-8b0e-638082493399",
   "metadata": {},
   "outputs": [],
   "source": []
  }
 ],
 "metadata": {
  "kernelspec": {
   "display_name": "Python 3 (ipykernel)",
   "language": "python",
   "name": "python3"
  },
  "language_info": {
   "codemirror_mode": {
    "name": "ipython",
    "version": 3
   },
   "file_extension": ".py",
   "mimetype": "text/x-python",
   "name": "python",
   "nbconvert_exporter": "python",
   "pygments_lexer": "ipython3",
   "version": "3.12.9"
  }
 },
 "nbformat": 4,
 "nbformat_minor": 5
}
